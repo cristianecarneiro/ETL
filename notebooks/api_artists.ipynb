{
 "cells": [
  {
   "cell_type": "markdown",
   "id": "ebacb433",
   "metadata": {},
   "source": [
    "### Importing libraries"
   ]
  },
  {
   "cell_type": "code",
   "execution_count": 1,
   "id": "1e4976af",
   "metadata": {},
   "outputs": [],
   "source": [
    "import pandas as pd\n",
    "import numpy as np\n",
    "import time \n",
    "\n",
    "import warnings\n",
    "warnings.filterwarnings('ignore')\n",
    "\n",
    "pd.set_option('display.max_columns', None)  # me muestre todas las columnas\n",
    "#pd.set_option('display.max_rows', None)  # me muestre todas las filas"
   ]
  },
  {
   "cell_type": "markdown",
   "id": "9258ec38",
   "metadata": {},
   "source": [
    "### Getting target list "
   ]
  },
  {
   "cell_type": "code",
   "execution_count": 3,
   "id": "538599b8",
   "metadata": {},
   "outputs": [],
   "source": [
    "dataalbums = pd.read_csv('../data/clean/api_albums_clean.csv', encoding='latin1')"
   ]
  },
  {
   "cell_type": "code",
   "execution_count": 5,
   "id": "7dc272fd",
   "metadata": {},
   "outputs": [
    {
     "data": {
      "text/html": [
       "<div>\n",
       "<style scoped>\n",
       "    .dataframe tbody tr th:only-of-type {\n",
       "        vertical-align: middle;\n",
       "    }\n",
       "\n",
       "    .dataframe tbody tr th {\n",
       "        vertical-align: top;\n",
       "    }\n",
       "\n",
       "    .dataframe thead th {\n",
       "        text-align: right;\n",
       "    }\n",
       "</style>\n",
       "<table border=\"1\" class=\"dataframe\">\n",
       "  <thead>\n",
       "    <tr style=\"text-align: right;\">\n",
       "      <th></th>\n",
       "      <th>albumnamers</th>\n",
       "      <th>albumidspotify</th>\n",
       "      <th>albumnamespotify</th>\n",
       "      <th>artistnamespotify</th>\n",
       "      <th>artistidspotify</th>\n",
       "      <th>releasedate</th>\n",
       "      <th>totaltracks</th>\n",
       "    </tr>\n",
       "  </thead>\n",
       "  <tbody>\n",
       "    <tr>\n",
       "      <th>0</th>\n",
       "      <td>Sgt. Pepper's Lonely Hearts Club Band</td>\n",
       "      <td>1x1jpjDbetGqX0IKCUIBNj</td>\n",
       "      <td>Sgt. Pepper's Lonely Hearts Club Band</td>\n",
       "      <td>Bloco do Sargento Pimenta</td>\n",
       "      <td>3wGWCP3E3tYqj5memYV9Vq</td>\n",
       "      <td>2017-12-08</td>\n",
       "      <td>13.0</td>\n",
       "    </tr>\n",
       "    <tr>\n",
       "      <th>1</th>\n",
       "      <td>Pet Sounds</td>\n",
       "      <td>2CNEkSE8TADXRT2AzcEt1b</td>\n",
       "      <td>Pet Sounds</td>\n",
       "      <td>The Beach Boys</td>\n",
       "      <td>3oDbviiivRWhXwIE8hxkVV</td>\n",
       "      <td>1966-05-16</td>\n",
       "      <td>13.0</td>\n",
       "    </tr>\n",
       "  </tbody>\n",
       "</table>\n",
       "</div>"
      ],
      "text/plain": [
       "                             albumnamers          albumidspotify  \\\n",
       "0  Sgt. Pepper's Lonely Hearts Club Band  1x1jpjDbetGqX0IKCUIBNj   \n",
       "1                             Pet Sounds  2CNEkSE8TADXRT2AzcEt1b   \n",
       "\n",
       "                        albumnamespotify          artistnamespotify  \\\n",
       "0  Sgt. Pepper's Lonely Hearts Club Band  Bloco do Sargento Pimenta   \n",
       "1                             Pet Sounds             The Beach Boys   \n",
       "\n",
       "          artistidspotify releasedate  totaltracks  \n",
       "0  3wGWCP3E3tYqj5memYV9Vq  2017-12-08         13.0  \n",
       "1  3oDbviiivRWhXwIE8hxkVV  1966-05-16         13.0  "
      ]
     },
     "execution_count": 5,
     "metadata": {},
     "output_type": "execute_result"
    }
   ],
   "source": [
    "dataalbums.head(2)"
   ]
  },
  {
   "cell_type": "code",
   "execution_count": 6,
   "id": "449516f7",
   "metadata": {},
   "outputs": [],
   "source": [
    "artist_ids = dataalbums['artistidspotify'].unique().tolist()"
   ]
  },
  {
   "cell_type": "code",
   "execution_count": 7,
   "id": "9164dda7",
   "metadata": {},
   "outputs": [
    {
     "data": {
      "text/plain": [
       "['3wGWCP3E3tYqj5memYV9Vq', '3oDbviiivRWhXwIE8hxkVV']"
      ]
     },
     "execution_count": 7,
     "metadata": {},
     "output_type": "execute_result"
    }
   ],
   "source": [
    "artist_ids[0:2]"
   ]
  },
  {
   "cell_type": "markdown",
   "id": "afe829e4",
   "metadata": {},
   "source": [
    "### Spotify Connection "
   ]
  },
  {
   "cell_type": "code",
   "execution_count": 8,
   "id": "1fc27d37",
   "metadata": {},
   "outputs": [],
   "source": [
    "#%pip install pyarrow\n",
    "#%pip install joblib\n",
    "#%pip install tqdm\n",
    "#%pip install spotipy\n",
    "#%pip install python-dotenv\n",
    "#%pip install requests "
   ]
  },
  {
   "cell_type": "code",
   "execution_count": 13,
   "id": "a163f66c",
   "metadata": {},
   "outputs": [],
   "source": [
    "import requests as rq\n",
    "import pyarrow\n",
    "from joblib import Parallel, delayed\n",
    "from tqdm import tqdm\n",
    "import pymongo\n",
    "from passwords import *"
   ]
  },
  {
   "cell_type": "code",
   "execution_count": 14,
   "id": "8e634c8c",
   "metadata": {},
   "outputs": [
    {
     "data": {
      "text/plain": [
       "<Response [200]>"
      ]
     },
     "execution_count": 14,
     "metadata": {},
     "output_type": "execute_result"
    }
   ],
   "source": [
    "# Obtener el TOKEN\n",
    "\n",
    "AUTH_URL = \"https://accounts.spotify.com/api/token\"\n",
    "\n",
    "creds = {\n",
    "    \"grant_type\": \"client_credentials\",\n",
    "    \"client_id\": Client_ID,\n",
    "    \"client_secret\": Client_secret\n",
    "}\n",
    "\n",
    "response = rq.post(AUTH_URL, \n",
    "                         data=creds, \n",
    "                         headers={\"Content-Type\": \"application/x-www-form-urlencoded\"})\n",
    "\n",
    "\n",
    "TOKEN = response.json()['access_token']\n",
    "\n",
    "# Conexión con la API\n",
    "\n",
    "url = \"https://api.spotify.com/\"\n",
    "\n",
    "headers = {\"Authorization\": f'Bearer {TOKEN}'}\n",
    "\n",
    "response = rq.get(url,headers=headers)\n",
    "response"
   ]
  },
  {
   "cell_type": "markdown",
   "id": "7bed4bf5",
   "metadata": {},
   "source": [
    "### Getting Artist Information "
   ]
  },
  {
   "cell_type": "code",
   "execution_count": 15,
   "id": "c87a543a",
   "metadata": {},
   "outputs": [],
   "source": [
    "artist_ids = dataalbums['artistidspotify'].unique().tolist()"
   ]
  },
  {
   "cell_type": "code",
   "execution_count": 16,
   "id": "acab610e",
   "metadata": {},
   "outputs": [
    {
     "data": {
      "text/plain": [
       "['3wGWCP3E3tYqj5memYV9Vq', '3oDbviiivRWhXwIE8hxkVV', '62F9BiUmjqeXbBztCwiX1U']"
      ]
     },
     "execution_count": 16,
     "metadata": {},
     "output_type": "execute_result"
    }
   ],
   "source": [
    "artist_ids[0:3]"
   ]
  },
  {
   "cell_type": "code",
   "execution_count": 17,
   "id": "d91ed148",
   "metadata": {},
   "outputs": [],
   "source": [
    "artist_urls = [f'https://api.spotify.com/v1/artists/{artist_id}' for artist_id in artist_ids]\n",
    "\n",
    "artist_url_list = [{'id': artist_id, 'url': url} for artist_id, url in zip(artist_ids, artist_urls)]"
   ]
  },
  {
   "cell_type": "code",
   "execution_count": 18,
   "id": "9d58450b",
   "metadata": {},
   "outputs": [],
   "source": [
    "# List to store the retrieved artist data\n",
    "artist_data_list = []\n",
    "\n",
    "# Function to search and retrieve artist information\n",
    "def search_artist_info(artist_url):\n",
    "    time.sleep(0.30)  # Pause between queries to avoid getting banned\n",
    "\n",
    "    try:\n",
    "        response = rq.get(artist_url['url'], headers=headers)\n",
    "        response.raise_for_status()  # Check for request errors\n",
    "        data = response.json()\n",
    "\n",
    "        artist_data_list.append({\n",
    "            'artistidspotify': artist_url['id'],  # Spotify ID for the artist\n",
    "            'artistnamespotify': data.get('name', None),\n",
    "            'followers': data.get('followers', {}).get('total', None),\n",
    "            'popularity': data.get('popularity', None),\n",
    "            'genres': data.get('genres', None)\n",
    "            # Add more data points as needed\n",
    "        })\n",
    "\n",
    "    except Exception as e:\n",
    "        print(f\"An error occurred: {e}\")\n",
    "        artist_data_list.append({\n",
    "            'artistidspotify': artist_url['id'],\n",
    "            'artistnamespotify': None,\n",
    "            'followers': None,\n",
    "            'popularity': None,\n",
    "            'genres': None\n",
    "            # Add more data points as needed\n",
    "        })\n",
    "\n",
    "# Execute the function for each artist URL\n",
    "for artist_url in artist_url_list:\n",
    "    search_artist_info(artist_url)\n",
    "\n",
    "# Create a DataFrame from the list of dictionaries\n",
    "dataartists = pd.DataFrame(artist_data_list)"
   ]
  },
  {
   "cell_type": "code",
   "execution_count": 19,
   "id": "b429db7c",
   "metadata": {},
   "outputs": [
    {
     "data": {
      "text/html": [
       "<div>\n",
       "<style scoped>\n",
       "    .dataframe tbody tr th:only-of-type {\n",
       "        vertical-align: middle;\n",
       "    }\n",
       "\n",
       "    .dataframe tbody tr th {\n",
       "        vertical-align: top;\n",
       "    }\n",
       "\n",
       "    .dataframe thead th {\n",
       "        text-align: right;\n",
       "    }\n",
       "</style>\n",
       "<table border=\"1\" class=\"dataframe\">\n",
       "  <thead>\n",
       "    <tr style=\"text-align: right;\">\n",
       "      <th></th>\n",
       "      <th>artistidspotify</th>\n",
       "      <th>artistnamespotify</th>\n",
       "      <th>followers</th>\n",
       "      <th>popularity</th>\n",
       "      <th>genres</th>\n",
       "    </tr>\n",
       "  </thead>\n",
       "  <tbody>\n",
       "    <tr>\n",
       "      <th>318</th>\n",
       "      <td>05o2ENqv0CV8aD6BWKEaBD</td>\n",
       "      <td>Drayton Farley</td>\n",
       "      <td>60133</td>\n",
       "      <td>52</td>\n",
       "      <td>[modern country pop]</td>\n",
       "    </tr>\n",
       "    <tr>\n",
       "      <th>319</th>\n",
       "      <td>0gBvuNzrFCOVaiyKexoYMH</td>\n",
       "      <td>Todrick Hall</td>\n",
       "      <td>402075</td>\n",
       "      <td>52</td>\n",
       "      <td>[strut]</td>\n",
       "    </tr>\n",
       "    <tr>\n",
       "      <th>320</th>\n",
       "      <td>6LkVV1P1gvsluy7OOZNG7g</td>\n",
       "      <td>NEAT001</td>\n",
       "      <td>25</td>\n",
       "      <td>0</td>\n",
       "      <td>[]</td>\n",
       "    </tr>\n",
       "    <tr>\n",
       "      <th>321</th>\n",
       "      <td>7DEseTqRODmSu3C7jxCHl5</td>\n",
       "      <td>The Boxer Rebellion</td>\n",
       "      <td>109037</td>\n",
       "      <td>42</td>\n",
       "      <td>[indie rock]</td>\n",
       "    </tr>\n",
       "    <tr>\n",
       "      <th>322</th>\n",
       "      <td>4pdoRs7yHNXakMobf8M9Oz</td>\n",
       "      <td>SASAMI</td>\n",
       "      <td>61174</td>\n",
       "      <td>33</td>\n",
       "      <td>[]</td>\n",
       "    </tr>\n",
       "  </tbody>\n",
       "</table>\n",
       "</div>"
      ],
      "text/plain": [
       "            artistidspotify    artistnamespotify  followers  popularity  \\\n",
       "318  05o2ENqv0CV8aD6BWKEaBD       Drayton Farley      60133          52   \n",
       "319  0gBvuNzrFCOVaiyKexoYMH         Todrick Hall     402075          52   \n",
       "320  6LkVV1P1gvsluy7OOZNG7g              NEAT001         25           0   \n",
       "321  7DEseTqRODmSu3C7jxCHl5  The Boxer Rebellion     109037          42   \n",
       "322  4pdoRs7yHNXakMobf8M9Oz               SASAMI      61174          33   \n",
       "\n",
       "                   genres  \n",
       "318  [modern country pop]  \n",
       "319               [strut]  \n",
       "320                    []  \n",
       "321          [indie rock]  \n",
       "322                    []  "
      ]
     },
     "execution_count": 19,
     "metadata": {},
     "output_type": "execute_result"
    }
   ],
   "source": [
    "dataartists.tail(5)"
   ]
  },
  {
   "cell_type": "code",
   "execution_count": 20,
   "id": "b3067a70",
   "metadata": {},
   "outputs": [],
   "source": [
    "dataartists.to_csv('../data/clean/api_artists_clean.csv', index=False)"
   ]
  }
 ],
 "metadata": {
  "kernelspec": {
   "display_name": "clase",
   "language": "python",
   "name": "clase"
  },
  "language_info": {
   "codemirror_mode": {
    "name": "ipython",
    "version": 3
   },
   "file_extension": ".py",
   "mimetype": "text/x-python",
   "name": "python",
   "nbconvert_exporter": "python",
   "pygments_lexer": "ipython3",
   "version": "3.10.13"
  }
 },
 "nbformat": 4,
 "nbformat_minor": 5
}
