{
 "cells": [
  {
   "cell_type": "code",
   "execution_count": 2,
   "id": "1e4976af",
   "metadata": {},
   "outputs": [],
   "source": [
    "import pandas as pd\n",
    "import numpy as np\n",
    "import time \n",
    "\n",
    "import warnings\n",
    "warnings.filterwarnings('ignore')\n",
    "\n",
    "pd.set_option('display.max_columns', None)  # me muestre todas las columnas\n",
    "#pd.set_option('display.max_rows', None)  # me muestre todas las filas"
   ]
  },
  {
   "cell_type": "markdown",
   "id": "9258ec38",
   "metadata": {},
   "source": [
    "### List of albums I am interested on"
   ]
  },
  {
   "cell_type": "code",
   "execution_count": 3,
   "id": "1601205e",
   "metadata": {},
   "outputs": [
    {
     "data": {
      "text/html": [
       "<div>\n",
       "<style scoped>\n",
       "    .dataframe tbody tr th:only-of-type {\n",
       "        vertical-align: middle;\n",
       "    }\n",
       "\n",
       "    .dataframe tbody tr th {\n",
       "        vertical-align: top;\n",
       "    }\n",
       "\n",
       "    .dataframe thead th {\n",
       "        text-align: right;\n",
       "    }\n",
       "</style>\n",
       "<table border=\"1\" class=\"dataframe\">\n",
       "  <thead>\n",
       "    <tr style=\"text-align: right;\">\n",
       "      <th></th>\n",
       "      <th>toprankingorder</th>\n",
       "      <th>album</th>\n",
       "      <th>artist</th>\n",
       "      <th>year</th>\n",
       "    </tr>\n",
       "  </thead>\n",
       "  <tbody>\n",
       "    <tr>\n",
       "      <th>0</th>\n",
       "      <td>1</td>\n",
       "      <td>Sgt. Pepper's Lonely Hearts Club Band</td>\n",
       "      <td>The Beatles</td>\n",
       "      <td>1967</td>\n",
       "    </tr>\n",
       "    <tr>\n",
       "      <th>1</th>\n",
       "      <td>2</td>\n",
       "      <td>Pet Sounds</td>\n",
       "      <td>The Beach Boys</td>\n",
       "      <td>1966</td>\n",
       "    </tr>\n",
       "    <tr>\n",
       "      <th>2</th>\n",
       "      <td>3</td>\n",
       "      <td>Revolver</td>\n",
       "      <td>The Beatles</td>\n",
       "      <td>1966</td>\n",
       "    </tr>\n",
       "  </tbody>\n",
       "</table>\n",
       "</div>"
      ],
      "text/plain": [
       "   toprankingorder                                  album          artist  \\\n",
       "0                1  Sgt. Pepper's Lonely Hearts Club Band     The Beatles   \n",
       "1                2                             Pet Sounds  The Beach Boys   \n",
       "2                3                               Revolver     The Beatles   \n",
       "\n",
       "   year  \n",
       "0  1967  \n",
       "1  1966  \n",
       "2  1966  "
      ]
     },
     "execution_count": 3,
     "metadata": {},
     "output_type": "execute_result"
    }
   ],
   "source": [
    "topalbums = pd.read_csv('../data/clean/DB_Kaggle_top500albums_clean.csv', encoding='latin1')\n",
    "\n",
    "topalbums.head(3)"
   ]
  },
  {
   "cell_type": "code",
   "execution_count": 4,
   "id": "2bfd5150",
   "metadata": {},
   "outputs": [
    {
     "data": {
      "text/html": [
       "<div>\n",
       "<style scoped>\n",
       "    .dataframe tbody tr th:only-of-type {\n",
       "        vertical-align: middle;\n",
       "    }\n",
       "\n",
       "    .dataframe tbody tr th {\n",
       "        vertical-align: top;\n",
       "    }\n",
       "\n",
       "    .dataframe thead th {\n",
       "        text-align: right;\n",
       "    }\n",
       "</style>\n",
       "<table border=\"1\" class=\"dataframe\">\n",
       "  <thead>\n",
       "    <tr style=\"text-align: right;\">\n",
       "      <th></th>\n",
       "      <th>horriblerankingorder</th>\n",
       "      <th>album</th>\n",
       "      <th>artist</th>\n",
       "      <th>rationale</th>\n",
       "      <th>year</th>\n",
       "    </tr>\n",
       "  </thead>\n",
       "  <tbody>\n",
       "    <tr>\n",
       "      <th>0</th>\n",
       "      <td>50</td>\n",
       "      <td>Its Hard</td>\n",
       "      <td>The Who</td>\n",
       "      <td>In the early Eighties, Pete Townshend was jugg...</td>\n",
       "      <td>1982</td>\n",
       "    </tr>\n",
       "    <tr>\n",
       "      <th>1</th>\n",
       "      <td>49</td>\n",
       "      <td>The Bridge</td>\n",
       "      <td>Billy Joel</td>\n",
       "      <td>Billy Joel had nearly a solid decade of succes...</td>\n",
       "      <td>1986</td>\n",
       "    </tr>\n",
       "    <tr>\n",
       "      <th>2</th>\n",
       "      <td>48</td>\n",
       "      <td>Van Halen III</td>\n",
       "      <td>Van Halen</td>\n",
       "      <td>When original Van Halen singer David Lee Roth ...</td>\n",
       "      <td>1998</td>\n",
       "    </tr>\n",
       "  </tbody>\n",
       "</table>\n",
       "</div>"
      ],
      "text/plain": [
       "   horriblerankingorder          album      artist  \\\n",
       "0                    50       Its Hard     The Who   \n",
       "1                    49     The Bridge  Billy Joel   \n",
       "2                    48  Van Halen III   Van Halen   \n",
       "\n",
       "                                           rationale  year  \n",
       "0  In the early Eighties, Pete Townshend was jugg...  1982  \n",
       "1  Billy Joel had nearly a solid decade of succes...  1986  \n",
       "2  When original Van Halen singer David Lee Roth ...  1998  "
      ]
     },
     "execution_count": 4,
     "metadata": {},
     "output_type": "execute_result"
    }
   ],
   "source": [
    "horriblealbums = pd.read_csv('../data/clean/WS_50horriblealbums_clean.csv', encoding='latin1')\n",
    "\n",
    "horriblealbums.head(3)"
   ]
  },
  {
   "cell_type": "code",
   "execution_count": 5,
   "id": "458f365b",
   "metadata": {},
   "outputs": [
    {
     "data": {
      "text/plain": [
       "album\n",
       "Greatest Hits                            3\n",
       "Let It Be                                2\n",
       "Sgt. Pepper's Lonely Hearts Club Band    1\n",
       "Name: count, dtype: int64"
      ]
     },
     "execution_count": 5,
     "metadata": {},
     "output_type": "execute_result"
    }
   ],
   "source": [
    "#need to be conscious of the fact that some albums have the same name \n",
    "\n",
    "topalbums['album'].value_counts().head(3)"
   ]
  },
  {
   "cell_type": "code",
   "execution_count": 6,
   "id": "d08bc530",
   "metadata": {},
   "outputs": [],
   "source": [
    "#let us try to get unique values for album_artist \n",
    "\n",
    "topalbums['album_artist'] = topalbums['album'] + ' - ' + topalbums['artist'] "
   ]
  },
  {
   "cell_type": "code",
   "execution_count": 7,
   "id": "bb817d7d",
   "metadata": {},
   "outputs": [
    {
     "data": {
      "text/html": [
       "<div>\n",
       "<style scoped>\n",
       "    .dataframe tbody tr th:only-of-type {\n",
       "        vertical-align: middle;\n",
       "    }\n",
       "\n",
       "    .dataframe tbody tr th {\n",
       "        vertical-align: top;\n",
       "    }\n",
       "\n",
       "    .dataframe thead th {\n",
       "        text-align: right;\n",
       "    }\n",
       "</style>\n",
       "<table border=\"1\" class=\"dataframe\">\n",
       "  <thead>\n",
       "    <tr style=\"text-align: right;\">\n",
       "      <th></th>\n",
       "      <th>toprankingorder</th>\n",
       "      <th>album</th>\n",
       "      <th>artist</th>\n",
       "      <th>year</th>\n",
       "      <th>album_artist</th>\n",
       "    </tr>\n",
       "  </thead>\n",
       "  <tbody>\n",
       "    <tr>\n",
       "      <th>0</th>\n",
       "      <td>1</td>\n",
       "      <td>Sgt. Pepper's Lonely Hearts Club Band</td>\n",
       "      <td>The Beatles</td>\n",
       "      <td>1967</td>\n",
       "      <td>Sgt. Pepper's Lonely Hearts Club Band - The Be...</td>\n",
       "    </tr>\n",
       "    <tr>\n",
       "      <th>1</th>\n",
       "      <td>2</td>\n",
       "      <td>Pet Sounds</td>\n",
       "      <td>The Beach Boys</td>\n",
       "      <td>1966</td>\n",
       "      <td>Pet Sounds - The Beach Boys</td>\n",
       "    </tr>\n",
       "    <tr>\n",
       "      <th>2</th>\n",
       "      <td>3</td>\n",
       "      <td>Revolver</td>\n",
       "      <td>The Beatles</td>\n",
       "      <td>1966</td>\n",
       "      <td>Revolver - The Beatles</td>\n",
       "    </tr>\n",
       "  </tbody>\n",
       "</table>\n",
       "</div>"
      ],
      "text/plain": [
       "   toprankingorder                                  album          artist  \\\n",
       "0                1  Sgt. Pepper's Lonely Hearts Club Band     The Beatles   \n",
       "1                2                             Pet Sounds  The Beach Boys   \n",
       "2                3                               Revolver     The Beatles   \n",
       "\n",
       "   year                                       album_artist  \n",
       "0  1967  Sgt. Pepper's Lonely Hearts Club Band - The Be...  \n",
       "1  1966                        Pet Sounds - The Beach Boys  \n",
       "2  1966                             Revolver - The Beatles  "
      ]
     },
     "execution_count": 7,
     "metadata": {},
     "output_type": "execute_result"
    }
   ],
   "source": [
    "topalbums.head(3)"
   ]
  },
  {
   "cell_type": "code",
   "execution_count": 8,
   "id": "052c831b",
   "metadata": {},
   "outputs": [
    {
     "data": {
      "text/plain": [
       "album\n",
       "Its Hard           1\n",
       "Leather Jackets    1\n",
       "Name: count, dtype: int64"
      ]
     },
     "execution_count": 8,
     "metadata": {},
     "output_type": "execute_result"
    }
   ],
   "source": [
    "horriblealbums['album'].value_counts().head(2)"
   ]
  },
  {
   "cell_type": "code",
   "execution_count": 9,
   "id": "868b678b",
   "metadata": {},
   "outputs": [],
   "source": [
    "horriblealbums['album_artist'] = horriblealbums['album'] + ' - ' + horriblealbums['artist']"
   ]
  },
  {
   "cell_type": "code",
   "execution_count": 10,
   "id": "8cd82304",
   "metadata": {},
   "outputs": [
    {
     "data": {
      "text/html": [
       "<div>\n",
       "<style scoped>\n",
       "    .dataframe tbody tr th:only-of-type {\n",
       "        vertical-align: middle;\n",
       "    }\n",
       "\n",
       "    .dataframe tbody tr th {\n",
       "        vertical-align: top;\n",
       "    }\n",
       "\n",
       "    .dataframe thead th {\n",
       "        text-align: right;\n",
       "    }\n",
       "</style>\n",
       "<table border=\"1\" class=\"dataframe\">\n",
       "  <thead>\n",
       "    <tr style=\"text-align: right;\">\n",
       "      <th></th>\n",
       "      <th>horriblerankingorder</th>\n",
       "      <th>album</th>\n",
       "      <th>artist</th>\n",
       "      <th>rationale</th>\n",
       "      <th>year</th>\n",
       "      <th>album_artist</th>\n",
       "    </tr>\n",
       "  </thead>\n",
       "  <tbody>\n",
       "    <tr>\n",
       "      <th>0</th>\n",
       "      <td>50</td>\n",
       "      <td>Its Hard</td>\n",
       "      <td>The Who</td>\n",
       "      <td>In the early Eighties, Pete Townshend was jugg...</td>\n",
       "      <td>1982</td>\n",
       "      <td>Its Hard - The Who</td>\n",
       "    </tr>\n",
       "    <tr>\n",
       "      <th>1</th>\n",
       "      <td>49</td>\n",
       "      <td>The Bridge</td>\n",
       "      <td>Billy Joel</td>\n",
       "      <td>Billy Joel had nearly a solid decade of succes...</td>\n",
       "      <td>1986</td>\n",
       "      <td>The Bridge - Billy Joel</td>\n",
       "    </tr>\n",
       "  </tbody>\n",
       "</table>\n",
       "</div>"
      ],
      "text/plain": [
       "   horriblerankingorder       album      artist  \\\n",
       "0                    50    Its Hard     The Who   \n",
       "1                    49  The Bridge  Billy Joel   \n",
       "\n",
       "                                           rationale  year  \\\n",
       "0  In the early Eighties, Pete Townshend was jugg...  1982   \n",
       "1  Billy Joel had nearly a solid decade of succes...  1986   \n",
       "\n",
       "              album_artist  \n",
       "0       Its Hard - The Who  \n",
       "1  The Bridge - Billy Joel  "
      ]
     },
     "execution_count": 10,
     "metadata": {},
     "output_type": "execute_result"
    }
   ],
   "source": [
    "horriblealbums.head(2)"
   ]
  },
  {
   "cell_type": "code",
   "execution_count": 11,
   "id": "66e8e8b4",
   "metadata": {},
   "outputs": [
    {
     "data": {
      "text/plain": [
       "(550, 7)"
      ]
     },
     "execution_count": 11,
     "metadata": {},
     "output_type": "execute_result"
    }
   ],
   "source": [
    "all_albums = pd.concat([topalbums, horriblealbums], ignore_index=True)\n",
    "all_albums.shape"
   ]
  },
  {
   "cell_type": "code",
   "execution_count": 12,
   "id": "67d6e8c4",
   "metadata": {},
   "outputs": [
    {
     "data": {
      "text/html": [
       "<div>\n",
       "<style scoped>\n",
       "    .dataframe tbody tr th:only-of-type {\n",
       "        vertical-align: middle;\n",
       "    }\n",
       "\n",
       "    .dataframe tbody tr th {\n",
       "        vertical-align: top;\n",
       "    }\n",
       "\n",
       "    .dataframe thead th {\n",
       "        text-align: right;\n",
       "    }\n",
       "</style>\n",
       "<table border=\"1\" class=\"dataframe\">\n",
       "  <thead>\n",
       "    <tr style=\"text-align: right;\">\n",
       "      <th></th>\n",
       "      <th>toprankingorder</th>\n",
       "      <th>album</th>\n",
       "      <th>artist</th>\n",
       "      <th>year</th>\n",
       "      <th>album_artist</th>\n",
       "      <th>horriblerankingorder</th>\n",
       "      <th>rationale</th>\n",
       "    </tr>\n",
       "  </thead>\n",
       "  <tbody>\n",
       "    <tr>\n",
       "      <th>0</th>\n",
       "      <td>1.0</td>\n",
       "      <td>Sgt. Pepper's Lonely Hearts Club Band</td>\n",
       "      <td>The Beatles</td>\n",
       "      <td>1967</td>\n",
       "      <td>Sgt. Pepper's Lonely Hearts Club Band - The Be...</td>\n",
       "      <td>NaN</td>\n",
       "      <td>NaN</td>\n",
       "    </tr>\n",
       "    <tr>\n",
       "      <th>1</th>\n",
       "      <td>2.0</td>\n",
       "      <td>Pet Sounds</td>\n",
       "      <td>The Beach Boys</td>\n",
       "      <td>1966</td>\n",
       "      <td>Pet Sounds - The Beach Boys</td>\n",
       "      <td>NaN</td>\n",
       "      <td>NaN</td>\n",
       "    </tr>\n",
       "    <tr>\n",
       "      <th>2</th>\n",
       "      <td>3.0</td>\n",
       "      <td>Revolver</td>\n",
       "      <td>The Beatles</td>\n",
       "      <td>1966</td>\n",
       "      <td>Revolver - The Beatles</td>\n",
       "      <td>NaN</td>\n",
       "      <td>NaN</td>\n",
       "    </tr>\n",
       "    <tr>\n",
       "      <th>3</th>\n",
       "      <td>4.0</td>\n",
       "      <td>Highway 61 Revisited</td>\n",
       "      <td>Bob Dylan</td>\n",
       "      <td>1965</td>\n",
       "      <td>Highway 61 Revisited - Bob Dylan</td>\n",
       "      <td>NaN</td>\n",
       "      <td>NaN</td>\n",
       "    </tr>\n",
       "    <tr>\n",
       "      <th>4</th>\n",
       "      <td>5.0</td>\n",
       "      <td>Rubber Soul</td>\n",
       "      <td>The Beatles</td>\n",
       "      <td>1965</td>\n",
       "      <td>Rubber Soul - The Beatles</td>\n",
       "      <td>NaN</td>\n",
       "      <td>NaN</td>\n",
       "    </tr>\n",
       "    <tr>\n",
       "      <th>...</th>\n",
       "      <td>...</td>\n",
       "      <td>...</td>\n",
       "      <td>...</td>\n",
       "      <td>...</td>\n",
       "      <td>...</td>\n",
       "      <td>...</td>\n",
       "      <td>...</td>\n",
       "    </tr>\n",
       "    <tr>\n",
       "      <th>545</th>\n",
       "      <td>NaN</td>\n",
       "      <td>Down in the Groove</td>\n",
       "      <td>Bob Dylan</td>\n",
       "      <td>1988</td>\n",
       "      <td>Down in the Groove - Bob Dylan</td>\n",
       "      <td>5.0</td>\n",
       "      <td>Dylan aficionados have been arguing for decade...</td>\n",
       "    </tr>\n",
       "    <tr>\n",
       "      <th>546</th>\n",
       "      <td>NaN</td>\n",
       "      <td>Metal Magic</td>\n",
       "      <td>Pantera</td>\n",
       "      <td>1983</td>\n",
       "      <td>Metal Magic - Pantera</td>\n",
       "      <td>4.0</td>\n",
       "      <td>Pantera are undoubtedly one of the greatest me...</td>\n",
       "    </tr>\n",
       "    <tr>\n",
       "      <th>547</th>\n",
       "      <td>NaN</td>\n",
       "      <td>Union</td>\n",
       "      <td>Yes</td>\n",
       "      <td>1991</td>\n",
       "      <td>Union - Yes</td>\n",
       "      <td>3.0</td>\n",
       "      <td>By the late Eighties, prog-rockers Yes had spl...</td>\n",
       "    </tr>\n",
       "    <tr>\n",
       "      <th>548</th>\n",
       "      <td>NaN</td>\n",
       "      <td>Squeeze</td>\n",
       "      <td>The Velvet Underground</td>\n",
       "      <td>1973</td>\n",
       "      <td>Squeeze - The Velvet Underground</td>\n",
       "      <td>2.0</td>\n",
       "      <td>The Velvet Underground were a band in name onl...</td>\n",
       "    </tr>\n",
       "    <tr>\n",
       "      <th>549</th>\n",
       "      <td>NaN</td>\n",
       "      <td>Ye</td>\n",
       "      <td>Kanye West</td>\n",
       "      <td>2018</td>\n",
       "      <td>Ye - Kanye West</td>\n",
       "      <td>1.0</td>\n",
       "      <td>The past five years of Kanye Westâs life hav...</td>\n",
       "    </tr>\n",
       "  </tbody>\n",
       "</table>\n",
       "<p>550 rows × 7 columns</p>\n",
       "</div>"
      ],
      "text/plain": [
       "     toprankingorder                                  album  \\\n",
       "0                1.0  Sgt. Pepper's Lonely Hearts Club Band   \n",
       "1                2.0                             Pet Sounds   \n",
       "2                3.0                               Revolver   \n",
       "3                4.0                   Highway 61 Revisited   \n",
       "4                5.0                            Rubber Soul   \n",
       "..               ...                                    ...   \n",
       "545              NaN                     Down in the Groove   \n",
       "546              NaN                            Metal Magic   \n",
       "547              NaN                                  Union   \n",
       "548              NaN                                Squeeze   \n",
       "549              NaN                                     Ye   \n",
       "\n",
       "                     artist  year  \\\n",
       "0               The Beatles  1967   \n",
       "1            The Beach Boys  1966   \n",
       "2               The Beatles  1966   \n",
       "3                 Bob Dylan  1965   \n",
       "4               The Beatles  1965   \n",
       "..                      ...   ...   \n",
       "545               Bob Dylan  1988   \n",
       "546                 Pantera  1983   \n",
       "547                     Yes  1991   \n",
       "548  The Velvet Underground  1973   \n",
       "549              Kanye West  2018   \n",
       "\n",
       "                                          album_artist  horriblerankingorder  \\\n",
       "0    Sgt. Pepper's Lonely Hearts Club Band - The Be...                   NaN   \n",
       "1                          Pet Sounds - The Beach Boys                   NaN   \n",
       "2                               Revolver - The Beatles                   NaN   \n",
       "3                     Highway 61 Revisited - Bob Dylan                   NaN   \n",
       "4                            Rubber Soul - The Beatles                   NaN   \n",
       "..                                                 ...                   ...   \n",
       "545                     Down in the Groove - Bob Dylan                   5.0   \n",
       "546                              Metal Magic - Pantera                   4.0   \n",
       "547                                        Union - Yes                   3.0   \n",
       "548                   Squeeze - The Velvet Underground                   2.0   \n",
       "549                                    Ye - Kanye West                   1.0   \n",
       "\n",
       "                                             rationale  \n",
       "0                                                  NaN  \n",
       "1                                                  NaN  \n",
       "2                                                  NaN  \n",
       "3                                                  NaN  \n",
       "4                                                  NaN  \n",
       "..                                                 ...  \n",
       "545  Dylan aficionados have been arguing for decade...  \n",
       "546  Pantera are undoubtedly one of the greatest me...  \n",
       "547  By the late Eighties, prog-rockers Yes had spl...  \n",
       "548  The Velvet Underground were a band in name onl...  \n",
       "549  The past five years of Kanye Westâs life hav...  \n",
       "\n",
       "[550 rows x 7 columns]"
      ]
     },
     "execution_count": 12,
     "metadata": {},
     "output_type": "execute_result"
    }
   ],
   "source": [
    "all_albums.head(550)"
   ]
  },
  {
   "cell_type": "code",
   "execution_count": 13,
   "id": "8015dcfb",
   "metadata": {},
   "outputs": [],
   "source": [
    "album_artist = all_albums['album_artist'].unique().tolist()"
   ]
  },
  {
   "cell_type": "code",
   "execution_count": 14,
   "id": "8b555878",
   "metadata": {},
   "outputs": [
    {
     "data": {
      "text/plain": [
       "550"
      ]
     },
     "execution_count": 14,
     "metadata": {},
     "output_type": "execute_result"
    }
   ],
   "source": [
    "len(album_artist)"
   ]
  },
  {
   "cell_type": "markdown",
   "id": "afe829e4",
   "metadata": {},
   "source": [
    "### Spotify Connection "
   ]
  },
  {
   "cell_type": "code",
   "execution_count": 15,
   "id": "1fc27d37",
   "metadata": {},
   "outputs": [],
   "source": [
    "#%pip install pyarrow\n",
    "#%pip install joblib\n",
    "#%pip install tqdm\n",
    "#%pip install spotipy\n",
    "#%pip install python-dotenv\n",
    "#%pip install requests "
   ]
  },
  {
   "cell_type": "code",
   "execution_count": 16,
   "id": "a163f66c",
   "metadata": {},
   "outputs": [],
   "source": [
    "import requests as rq\n",
    "import pandas as pd\n",
    "import pyarrow\n",
    "from joblib import Parallel, delayed\n",
    "from tqdm import tqdm\n",
    "import time\n",
    "import pymongo\n",
    "from passwords import *"
   ]
  },
  {
   "cell_type": "code",
   "execution_count": 17,
   "id": "53fec587",
   "metadata": {},
   "outputs": [
    {
     "data": {
      "text/plain": [
       "'eda83f2b172041569cc4822a12a4c8ab'"
      ]
     },
     "execution_count": 17,
     "metadata": {},
     "output_type": "execute_result"
    }
   ],
   "source": [
    "Client_ID"
   ]
  },
  {
   "cell_type": "code",
   "execution_count": 18,
   "id": "8e634c8c",
   "metadata": {},
   "outputs": [
    {
     "data": {
      "text/plain": [
       "<Response [200]>"
      ]
     },
     "execution_count": 18,
     "metadata": {},
     "output_type": "execute_result"
    }
   ],
   "source": [
    "# Obtener el TOKEN\n",
    "\n",
    "AUTH_URL = \"https://accounts.spotify.com/api/token\"\n",
    "\n",
    "creds = {\n",
    "    \"grant_type\": \"client_credentials\",\n",
    "    \"client_id\": Client_ID,\n",
    "    \"client_secret\": Client_secret\n",
    "}\n",
    "\n",
    "response = rq.post(AUTH_URL, \n",
    "                         data=creds, \n",
    "                         headers={\"Content-Type\": \"application/x-www-form-urlencoded\"})\n",
    "\n",
    "\n",
    "TOKEN = response.json()['access_token']\n",
    "\n",
    "# Conexión con la API\n",
    "\n",
    "url = \"https://api.spotify.com/\"\n",
    "\n",
    "headers = {\"Authorization\": f'Bearer {TOKEN}'}\n",
    "\n",
    "response = rq.get(url,headers=headers)\n",
    "response"
   ]
  },
  {
   "cell_type": "markdown",
   "id": "0d90704b",
   "metadata": {},
   "source": [
    "### Getting Album Information "
   ]
  },
  {
   "cell_type": "code",
   "execution_count": 19,
   "id": "ed5a1f55",
   "metadata": {},
   "outputs": [
    {
     "data": {
      "text/html": [
       "<div>\n",
       "<style scoped>\n",
       "    .dataframe tbody tr th:only-of-type {\n",
       "        vertical-align: middle;\n",
       "    }\n",
       "\n",
       "    .dataframe tbody tr th {\n",
       "        vertical-align: top;\n",
       "    }\n",
       "\n",
       "    .dataframe thead th {\n",
       "        text-align: right;\n",
       "    }\n",
       "</style>\n",
       "<table border=\"1\" class=\"dataframe\">\n",
       "  <thead>\n",
       "    <tr style=\"text-align: right;\">\n",
       "      <th></th>\n",
       "      <th>album</th>\n",
       "    </tr>\n",
       "  </thead>\n",
       "  <tbody>\n",
       "    <tr>\n",
       "      <th>0</th>\n",
       "      <td>Sgt. Pepper's Lonely Hearts Club Band</td>\n",
       "    </tr>\n",
       "    <tr>\n",
       "      <th>1</th>\n",
       "      <td>Pet Sounds</td>\n",
       "    </tr>\n",
       "    <tr>\n",
       "      <th>2</th>\n",
       "      <td>Revolver</td>\n",
       "    </tr>\n",
       "    <tr>\n",
       "      <th>3</th>\n",
       "      <td>Highway 61 Revisited</td>\n",
       "    </tr>\n",
       "  </tbody>\n",
       "</table>\n",
       "</div>"
      ],
      "text/plain": [
       "                                   album\n",
       "0  Sgt. Pepper's Lonely Hearts Club Band\n",
       "1                             Pet Sounds\n",
       "2                               Revolver\n",
       "3                   Highway 61 Revisited"
      ]
     },
     "execution_count": 19,
     "metadata": {},
     "output_type": "execute_result"
    }
   ],
   "source": [
    "albums = pd.DataFrame(all_albums['album'])\n",
    "albums.head(4)"
   ]
  },
  {
   "cell_type": "code",
   "execution_count": 20,
   "id": "3081290a",
   "metadata": {},
   "outputs": [],
   "source": [
    "#test "
   ]
  },
  {
   "cell_type": "code",
   "execution_count": 21,
   "id": "c92992dc",
   "metadata": {},
   "outputs": [],
   "source": [
    "url = 'https://api.spotify.com/v1/search?q=album%3Apet+sounds&type=album&limit=50&offset=0'"
   ]
  },
  {
   "cell_type": "code",
   "execution_count": 22,
   "id": "7cc076aa",
   "metadata": {},
   "outputs": [
    {
     "data": {
      "text/plain": [
       "200"
      ]
     },
     "execution_count": 22,
     "metadata": {},
     "output_type": "execute_result"
    }
   ],
   "source": [
    "res = rq.get(url, headers=headers)\n",
    "res.status_code "
   ]
  },
  {
   "cell_type": "code",
   "execution_count": 23,
   "id": "d58b5362",
   "metadata": {},
   "outputs": [],
   "source": [
    "data = res.json()"
   ]
  },
  {
   "cell_type": "code",
   "execution_count": 24,
   "id": "49fcd220",
   "metadata": {},
   "outputs": [
    {
     "data": {
      "text/plain": [
       "dict"
      ]
     },
     "execution_count": 24,
     "metadata": {},
     "output_type": "execute_result"
    }
   ],
   "source": [
    "type(data)"
   ]
  },
  {
   "cell_type": "code",
   "execution_count": 25,
   "id": "94d65cf9",
   "metadata": {},
   "outputs": [
    {
     "data": {
      "text/plain": [
       "dict_keys(['albums'])"
      ]
     },
     "execution_count": 25,
     "metadata": {},
     "output_type": "execute_result"
    }
   ],
   "source": [
    "data.keys()"
   ]
  },
  {
   "cell_type": "code",
   "execution_count": 26,
   "id": "37bcda7d",
   "metadata": {},
   "outputs": [
    {
     "data": {
      "text/plain": [
       "dict_keys(['href', 'items', 'limit', 'next', 'offset', 'previous', 'total'])"
      ]
     },
     "execution_count": 26,
     "metadata": {},
     "output_type": "execute_result"
    }
   ],
   "source": [
    "data['albums'].keys()"
   ]
  },
  {
   "cell_type": "code",
   "execution_count": 27,
   "id": "0d2b953b",
   "metadata": {},
   "outputs": [
    {
     "data": {
      "text/plain": [
       "dict_keys(['album_type', 'artists', 'available_markets', 'external_urls', 'href', 'id', 'images', 'name', 'release_date', 'release_date_precision', 'total_tracks', 'type', 'uri'])"
      ]
     },
     "execution_count": 27,
     "metadata": {},
     "output_type": "execute_result"
    }
   ],
   "source": [
    "data['albums']['items'][0].keys()"
   ]
  },
  {
   "cell_type": "code",
   "execution_count": 28,
   "id": "de28befc",
   "metadata": {},
   "outputs": [
    {
     "data": {
      "text/plain": [
       "'6GphKx2QAPRoVGWE9D7ou8'"
      ]
     },
     "execution_count": 28,
     "metadata": {},
     "output_type": "execute_result"
    }
   ],
   "source": [
    "#quiero el id del album en Spotify \n",
    "data['albums']['items'][0]['id']"
   ]
  },
  {
   "cell_type": "code",
   "execution_count": 29,
   "id": "c8f382fe",
   "metadata": {},
   "outputs": [
    {
     "data": {
      "text/plain": [
       "'Pet Sounds (Original Mono & Stereo Mix)'"
      ]
     },
     "execution_count": 29,
     "metadata": {},
     "output_type": "execute_result"
    }
   ],
   "source": [
    "#quiero el nombre del album \n",
    "data['albums']['items'][0]['name']"
   ]
  },
  {
   "cell_type": "code",
   "execution_count": 30,
   "id": "4924720d",
   "metadata": {},
   "outputs": [
    {
     "data": {
      "text/plain": [
       "'The Beach Boys'"
      ]
     },
     "execution_count": 30,
     "metadata": {},
     "output_type": "execute_result"
    }
   ],
   "source": [
    "#quiero el nombre del artista del album \n",
    "data['albums']['items'][0]['artists'][0]['name']"
   ]
  },
  {
   "cell_type": "code",
   "execution_count": 31,
   "id": "8658f5e8",
   "metadata": {},
   "outputs": [
    {
     "data": {
      "text/plain": [
       "'3oDbviiivRWhXwIE8hxkVV'"
      ]
     },
     "execution_count": 31,
     "metadata": {},
     "output_type": "execute_result"
    }
   ],
   "source": [
    "#quiero el id del artista del album \n",
    "data['albums']['items'][0]['artists'][0]['id']"
   ]
  },
  {
   "cell_type": "code",
   "execution_count": 32,
   "id": "af5eb82f",
   "metadata": {
    "scrolled": true
   },
   "outputs": [],
   "source": [
    "#quiero el popularity del album \n",
    "#data['albums']['items'][0]['popularity']"
   ]
  },
  {
   "cell_type": "code",
   "execution_count": 33,
   "id": "664564f5",
   "metadata": {},
   "outputs": [
    {
     "data": {
      "text/plain": [
       "'1966-06-16'"
      ]
     },
     "execution_count": 33,
     "metadata": {},
     "output_type": "execute_result"
    }
   ],
   "source": [
    "#quiero el release_date del album \n",
    "data['albums']['items'][0]['release_date']"
   ]
  },
  {
   "cell_type": "code",
   "execution_count": 34,
   "id": "5834bcde",
   "metadata": {},
   "outputs": [
    {
     "data": {
      "text/plain": [
       "27"
      ]
     },
     "execution_count": 34,
     "metadata": {},
     "output_type": "execute_result"
    }
   ],
   "source": [
    "#quiero el total de tracks del album \n",
    "data['albums']['items'][0]['total_tracks']"
   ]
  },
  {
   "cell_type": "code",
   "execution_count": 35,
   "id": "831abc60",
   "metadata": {},
   "outputs": [],
   "source": [
    "# Replace spaces with the '+' character in the album names\n",
    "consulta = [x.replace(' ', '+') for x in albums.album]\n",
    "\n",
    "# Construct a list of URLs for querying album information\n",
    "album_urls = [f'https://api.spotify.com/v1/search?q=album%3A{album}&type=album&limit=50&offset=0' for album in consulta]\n",
    "\n",
    "# Create a list of dictionaries with album information and corresponding URLs\n",
    "album_url_list = [{'album': album, 'url': url} for album, url in zip(albums.album, album_urls)]"
   ]
  },
  {
   "cell_type": "code",
   "execution_count": 38,
   "id": "ddee8d2e",
   "metadata": {},
   "outputs": [
    {
     "name": "stdout",
     "output_type": "stream",
     "text": [
      "An error occurred: Album not found\n",
      "An error occurred: Album not found\n",
      "An error occurred: Album not found\n",
      "An error occurred: Album not found\n",
      "An error occurred: Album not found\n",
      "An error occurred: Album not found\n",
      "An error occurred: Album not found\n",
      "An error occurred: Album not found\n",
      "An error occurred: Album not found\n",
      "An error occurred: Album not found\n",
      "An error occurred: Album not found\n",
      "An error occurred: Album not found\n",
      "An error occurred: Album not found\n",
      "An error occurred: Album not found\n",
      "An error occurred: Album not found\n",
      "An error occurred: Album not found\n",
      "An error occurred: Album not found\n",
      "An error occurred: Album not found\n",
      "An error occurred: Album not found\n",
      "An error occurred: Album not found\n",
      "An error occurred: Album not found\n",
      "An error occurred: Album not found\n",
      "An error occurred: Album not found\n",
      "An error occurred: Album not found\n",
      "An error occurred: Album not found\n",
      "An error occurred: Album not found\n",
      "An error occurred: Album not found\n",
      "An error occurred: Album not found\n",
      "An error occurred: Album not found\n",
      "An error occurred: Album not found\n",
      "An error occurred: Album not found\n",
      "An error occurred: Album not found\n",
      "An error occurred: Album not found\n",
      "An error occurred: Album not found\n",
      "An error occurred: Album not found\n",
      "An error occurred: Album not found\n",
      "An error occurred: Album not found\n",
      "An error occurred: Album not found\n",
      "An error occurred: Album not found\n",
      "An error occurred: Album not found\n",
      "An error occurred: Album not found\n",
      "An error occurred: Album not found\n",
      "An error occurred: Album not found\n",
      "An error occurred: Album not found\n",
      "An error occurred: Album not found\n",
      "An error occurred: Album not found\n",
      "An error occurred: Album not found\n",
      "An error occurred: Album not found\n",
      "An error occurred: Album not found\n",
      "An error occurred: Album not found\n",
      "An error occurred: Album not found\n",
      "An error occurred: Album not found\n",
      "An error occurred: Album not found\n",
      "An error occurred: Album not found\n",
      "An error occurred: Album not found\n",
      "An error occurred: Album not found\n",
      "An error occurred: Album not found\n",
      "An error occurred: Album not found\n",
      "An error occurred: Album not found\n",
      "An error occurred: Album not found\n",
      "An error occurred: Album not found\n",
      "An error occurred: Album not found\n",
      "An error occurred: Album not found\n",
      "An error occurred: Album not found\n",
      "An error occurred: Album not found\n",
      "An error occurred: Album not found\n",
      "An error occurred: HTTPSConnectionPool(host='api.spotify.com', port=443): Max retries exceeded with url: /v1/search?q=album%3ADaydream+Nation&type=album&limit=50&offset=0 (Caused by SSLError(SSLEOFError(8, '[SSL: UNEXPECTED_EOF_WHILE_READING] EOF occurred in violation of protocol (_ssl.c:1007)')))\n",
      "An error occurred: Album not found\n",
      "An error occurred: Album not found\n",
      "An error occurred: HTTPSConnectionPool(host='api.spotify.com', port=443): Max retries exceeded with url: /v1/search?q=album%3ACheap+Thrills&type=album&limit=50&offset=0 (Caused by SSLError(SSLEOFError(8, '[SSL: UNEXPECTED_EOF_WHILE_READING] EOF occurred in violation of protocol (_ssl.c:1007)')))\n",
      "An error occurred: HTTPSConnectionPool(host='api.spotify.com', port=443): Max retries exceeded with url: /v1/search?q=album%3AThe+Heart+of+Saturday+Night&type=album&limit=50&offset=0 (Caused by ConnectTimeoutError(<urllib3.connection.HTTPSConnection object at 0x7fcbaab6b490>, 'Connection to api.spotify.com timed out. (connect timeout=None)'))\n",
      "An error occurred: HTTPSConnectionPool(host='api.spotify.com', port=443): Max retries exceeded with url: /v1/search?q=album%3ADamaged&type=album&limit=50&offset=0 (Caused by NameResolutionError(\"<urllib3.connection.HTTPSConnection object at 0x7fcbaab6b850>: Failed to resolve 'api.spotify.com' ([Errno 8] nodename nor servname provided, or not known)\"))\n",
      "An error occurred: HTTPSConnectionPool(host='api.spotify.com', port=443): Max retries exceeded with url: /v1/search?q=album%3APlay&type=album&limit=50&offset=0 (Caused by NameResolutionError(\"<urllib3.connection.HTTPSConnection object at 0x7fcbaab6ba60>: Failed to resolve 'api.spotify.com' ([Errno 8] nodename nor servname provided, or not known)\"))\n",
      "An error occurred: HTTPSConnectionPool(host='api.spotify.com', port=443): Max retries exceeded with url: /v1/search?q=album%3AViolator&type=album&limit=50&offset=0 (Caused by NameResolutionError(\"<urllib3.connection.HTTPSConnection object at 0x7fcba9d4ff40>: Failed to resolve 'api.spotify.com' ([Errno 8] nodename nor servname provided, or not known)\"))\n",
      "An error occurred: HTTPSConnectionPool(host='api.spotify.com', port=443): Max retries exceeded with url: /v1/search?q=album%3ABat+Out+of+Hell&type=album&limit=50&offset=0 (Caused by NameResolutionError(\"<urllib3.connection.HTTPSConnection object at 0x7fcbaab686a0>: Failed to resolve 'api.spotify.com' ([Errno 8] nodename nor servname provided, or not known)\"))\n",
      "An error occurred: HTTPSConnectionPool(host='api.spotify.com', port=443): Max retries exceeded with url: /v1/search?q=album%3ABerlin&type=album&limit=50&offset=0 (Caused by NameResolutionError(\"<urllib3.connection.HTTPSConnection object at 0x7fcbaab6b8e0>: Failed to resolve 'api.spotify.com' ([Errno 8] nodename nor servname provided, or not known)\"))\n",
      "An error occurred: HTTPSConnectionPool(host='api.spotify.com', port=443): Max retries exceeded with url: /v1/search?q=album%3AStop+Making+Sense&type=album&limit=50&offset=0 (Caused by NameResolutionError(\"<urllib3.connection.HTTPSConnection object at 0x7fcbaab68670>: Failed to resolve 'api.spotify.com' ([Errno 8] nodename nor servname provided, or not known)\"))\n",
      "An error occurred: HTTPSConnectionPool(host='api.spotify.com', port=443): Max retries exceeded with url: /v1/search?q=album%3A3+Feet+High+and+Rising&type=album&limit=50&offset=0 (Caused by NameResolutionError(\"<urllib3.connection.HTTPSConnection object at 0x7fcbaab68a00>: Failed to resolve 'api.spotify.com' ([Errno 8] nodename nor servname provided, or not known)\"))\n",
      "An error occurred: HTTPSConnectionPool(host='api.spotify.com', port=443): Max retries exceeded with url: /v1/search?q=album%3AThe+Piper+at+the+Gates+of+Dawn&type=album&limit=50&offset=0 (Caused by NameResolutionError(\"<urllib3.connection.HTTPSConnection object at 0x7fcbab52a440>: Failed to resolve 'api.spotify.com' ([Errno 8] nodename nor servname provided, or not known)\"))\n",
      "An error occurred: HTTPSConnectionPool(host='api.spotify.com', port=443): Max retries exceeded with url: /v1/search?q=album%3AMuddy+Waters+at+Newport+1960&type=album&limit=50&offset=0 (Caused by NameResolutionError(\"<urllib3.connection.HTTPSConnection object at 0x7fcba826a2c0>: Failed to resolve 'api.spotify.com' ([Errno 8] nodename nor servname provided, or not known)\"))\n",
      "An error occurred: HTTPSConnectionPool(host='api.spotify.com', port=443): Max retries exceeded with url: /v1/search?q=album%3AThe+Black+Album&type=album&limit=50&offset=0 (Caused by NameResolutionError(\"<urllib3.connection.HTTPSConnection object at 0x7fcbaab6b730>: Failed to resolve 'api.spotify.com' ([Errno 8] nodename nor servname provided, or not known)\"))\n",
      "An error occurred: HTTPSConnectionPool(host='api.spotify.com', port=443): Max retries exceeded with url: /v1/search?q=album%3ARoger+the+Engineer&type=album&limit=50&offset=0 (Caused by NameResolutionError(\"<urllib3.connection.HTTPSConnection object at 0x7fcbaab68670>: Failed to resolve 'api.spotify.com' ([Errno 8] nodename nor servname provided, or not known)\"))\n",
      "An error occurred: HTTPSConnectionPool(host='api.spotify.com', port=443): Max retries exceeded with url: /v1/search?q=album%3ARust+Never+Sleeps&type=album&limit=50&offset=0 (Caused by NameResolutionError(\"<urllib3.connection.HTTPSConnection object at 0x7fcbaab6b8e0>: Failed to resolve 'api.spotify.com' ([Errno 8] nodename nor servname provided, or not known)\"))\n",
      "An error occurred: HTTPSConnectionPool(host='api.spotify.com', port=443): Max retries exceeded with url: /v1/search?q=album%3ABrothers+in+Arms&type=album&limit=50&offset=0 (Caused by NameResolutionError(\"<urllib3.connection.HTTPSConnection object at 0x7fcbaab68700>: Failed to resolve 'api.spotify.com' ([Errno 8] nodename nor servname provided, or not known)\"))\n",
      "An error occurred: HTTPSConnectionPool(host='api.spotify.com', port=443): Max retries exceeded with url: /v1/search?q=album%3AMy+Beautiful+Dark+Twisted+Fantasy&type=album&limit=50&offset=0 (Caused by NameResolutionError(\"<urllib3.connection.HTTPSConnection object at 0x7fcbab52bf10>: Failed to resolve 'api.spotify.com' ([Errno 8] nodename nor servname provided, or not known)\"))\n"
     ]
    },
    {
     "name": "stdout",
     "output_type": "stream",
     "text": [
      "An error occurred: HTTPSConnectionPool(host='api.spotify.com', port=443): Max retries exceeded with url: /v1/search?q=album%3A52nd+Street&type=album&limit=50&offset=0 (Caused by NameResolutionError(\"<urllib3.connection.HTTPSConnection object at 0x7fcba83be890>: Failed to resolve 'api.spotify.com' ([Errno 8] nodename nor servname provided, or not known)\"))\n",
      "An error occurred: HTTPSConnectionPool(host='api.spotify.com', port=443): Max retries exceeded with url: /v1/search?q=album%3AHaving+a+Rave+Up&type=album&limit=50&offset=0 (Caused by NameResolutionError(\"<urllib3.connection.HTTPSConnection object at 0x7fcba83c2a70>: Failed to resolve 'api.spotify.com' ([Errno 8] nodename nor servname provided, or not known)\"))\n",
      "An error occurred: HTTPSConnectionPool(host='api.spotify.com', port=443): Max retries exceeded with url: /v1/search?q=album%3A12+Songs&type=album&limit=50&offset=0 (Caused by NameResolutionError(\"<urllib3.connection.HTTPSConnection object at 0x7fcbaae12350>: Failed to resolve 'api.spotify.com' ([Errno 8] nodename nor servname provided, or not known)\"))\n",
      "An error occurred: HTTPSConnectionPool(host='api.spotify.com', port=443): Max retries exceeded with url: /v1/search?q=album%3ABetween+the+Buttons&type=album&limit=50&offset=0 (Caused by NameResolutionError(\"<urllib3.connection.HTTPSConnection object at 0x7fcbaa11c970>: Failed to resolve 'api.spotify.com' ([Errno 8] nodename nor servname provided, or not known)\"))\n",
      "An error occurred: HTTPSConnectionPool(host='api.spotify.com', port=443): Max retries exceeded with url: /v1/search?q=album%3ASketches+of+Spain&type=album&limit=50&offset=0 (Caused by NameResolutionError(\"<urllib3.connection.HTTPSConnection object at 0x7fcbaa9d7730>: Failed to resolve 'api.spotify.com' ([Errno 8] nodename nor servname provided, or not known)\"))\n",
      "An error occurred: HTTPSConnectionPool(host='api.spotify.com', port=443): Max retries exceeded with url: /v1/search?q=album%3AHonky+Ch%C3%82%C2%89teau&type=album&limit=50&offset=0 (Caused by NameResolutionError(\"<urllib3.connection.HTTPSConnection object at 0x7fcbaae123b0>: Failed to resolve 'api.spotify.com' ([Errno 8] nodename nor servname provided, or not known)\"))\n",
      "An error occurred: HTTPSConnectionPool(host='api.spotify.com', port=443): Max retries exceeded with url: /v1/search?q=album%3ASingles+Going+Steady&type=album&limit=50&offset=0 (Caused by NameResolutionError(\"<urllib3.connection.HTTPSConnection object at 0x7fcba9e3cee0>: Failed to resolve 'api.spotify.com' ([Errno 8] nodename nor servname provided, or not known)\"))\n",
      "An error occurred: HTTPSConnectionPool(host='api.spotify.com', port=443): Max retries exceeded with url: /v1/search?q=album%3AStankonia&type=album&limit=50&offset=0 (Caused by NameResolutionError(\"<urllib3.connection.HTTPSConnection object at 0x7fcbaae65ab0>: Failed to resolve 'api.spotify.com' ([Errno 8] nodename nor servname provided, or not known)\"))\n",
      "An error occurred: HTTPSConnectionPool(host='api.spotify.com', port=443): Max retries exceeded with url: /v1/search?q=album%3ASiamese+Dream&type=album&limit=50&offset=0 (Caused by NameResolutionError(\"<urllib3.connection.HTTPSConnection object at 0x7fcbab52b100>: Failed to resolve 'api.spotify.com' ([Errno 8] nodename nor servname provided, or not known)\"))\n",
      "An error occurred: HTTPSConnectionPool(host='api.spotify.com', port=443): Max retries exceeded with url: /v1/search?q=album%3ASubstance+1987&type=album&limit=50&offset=0 (Caused by NameResolutionError(\"<urllib3.connection.HTTPSConnection object at 0x7fcbab52be80>: Failed to resolve 'api.spotify.com' ([Errno 8] nodename nor servname provided, or not known)\"))\n",
      "An error occurred: HTTPSConnectionPool(host='api.spotify.com', port=443): Max retries exceeded with url: /v1/search?q=album%3AL.A.+Woman&type=album&limit=50&offset=0 (Caused by NameResolutionError(\"<urllib3.connection.HTTPSConnection object at 0x7fcbaae65ae0>: Failed to resolve 'api.spotify.com' ([Errno 8] nodename nor servname provided, or not known)\"))\n",
      "An error occurred: HTTPSConnectionPool(host='api.spotify.com', port=443): Max retries exceeded with url: /v1/search?q=album%3ARage+Against+the+Machine&type=album&limit=50&offset=0 (Caused by NameResolutionError(\"<urllib3.connection.HTTPSConnection object at 0x7fcbaaf80eb0>: Failed to resolve 'api.spotify.com' ([Errno 8] nodename nor servname provided, or not known)\"))\n",
      "An error occurred: HTTPSConnectionPool(host='api.spotify.com', port=443): Max retries exceeded with url: /v1/search?q=album%3AAmerican+Recordings&type=album&limit=50&offset=0 (Caused by NameResolutionError(\"<urllib3.connection.HTTPSConnection object at 0x7fcbaae123b0>: Failed to resolve 'api.spotify.com' ([Errno 8] nodename nor servname provided, or not known)\"))\n",
      "An error occurred: HTTPSConnectionPool(host='api.spotify.com', port=443): Max retries exceeded with url: /v1/search?q=album%3ARay+of+Light&type=album&limit=50&offset=0 (Caused by NameResolutionError(\"<urllib3.connection.HTTPSConnection object at 0x7fcba826a2f0>: Failed to resolve 'api.spotify.com' ([Errno 8] nodename nor servname provided, or not known)\"))\n",
      "An error occurred: HTTPSConnectionPool(host='api.spotify.com', port=443): Max retries exceeded with url: /v1/search?q=album%3AEagles&type=album&limit=50&offset=0 (Caused by NameResolutionError(\"<urllib3.connection.HTTPSConnection object at 0x7fcbab4bebc0>: Failed to resolve 'api.spotify.com' ([Errno 8] nodename nor servname provided, or not known)\"))\n",
      "An error occurred: HTTPSConnectionPool(host='api.spotify.com', port=443): Max retries exceeded with url: /v1/search?q=album%3ALouder+Than+Bombs&type=album&limit=50&offset=0 (Caused by NameResolutionError(\"<urllib3.connection.HTTPSConnection object at 0x7fcbaa11d120>: Failed to resolve 'api.spotify.com' ([Errno 8] nodename nor servname provided, or not known)\"))\n",
      "An error occurred: HTTPSConnectionPool(host='api.spotify.com', port=443): Max retries exceeded with url: /v1/search?q=album%3AMott&type=album&limit=50&offset=0 (Caused by NameResolutionError(\"<urllib3.connection.HTTPSConnection object at 0x7fcbaae121d0>: Failed to resolve 'api.spotify.com' ([Errno 8] nodename nor servname provided, or not known)\"))\n",
      "An error occurred: HTTPSConnectionPool(host='api.spotify.com', port=443): Max retries exceeded with url: /v1/search?q=album%3AWhatever+People+Say+I+Am,+That's+What+I'm+Not&type=album&limit=50&offset=0 (Caused by NameResolutionError(\"<urllib3.connection.HTTPSConnection object at 0x7fcbaacb1cf0>: Failed to resolve 'api.spotify.com' ([Errno 8] nodename nor servname provided, or not known)\"))\n",
      "An error occurred: HTTPSConnectionPool(host='api.spotify.com', port=443): Max retries exceeded with url: /v1/search?q=album%3AReggatta+de+Blanc&type=album&limit=50&offset=0 (Caused by NameResolutionError(\"<urllib3.connection.HTTPSConnection object at 0x7fcbab064c10>: Failed to resolve 'api.spotify.com' ([Errno 8] nodename nor servname provided, or not known)\"))\n",
      "An error occurred: HTTPSConnectionPool(host='api.spotify.com', port=443): Max retries exceeded with url: /v1/search?q=album%3AVolunteers&type=album&limit=50&offset=0 (Caused by NameResolutionError(\"<urllib3.connection.HTTPSConnection object at 0x7fcbab4bee00>: Failed to resolve 'api.spotify.com' ([Errno 8] nodename nor servname provided, or not known)\"))\n",
      "An error occurred: HTTPSConnectionPool(host='api.spotify.com', port=443): Max retries exceeded with url: /v1/search?q=album%3ASiren&type=album&limit=50&offset=0 (Caused by NameResolutionError(\"<urllib3.connection.HTTPSConnection object at 0x7fcbab52aef0>: Failed to resolve 'api.spotify.com' ([Errno 8] nodename nor servname provided, or not known)\"))\n",
      "An error occurred: HTTPSConnectionPool(host='api.spotify.com', port=443): Max retries exceeded with url: /v1/search?q=album%3ALate+for+the+Sky&type=album&limit=50&offset=0 (Caused by NameResolutionError(\"<urllib3.connection.HTTPSConnection object at 0x7fcbab46c610>: Failed to resolve 'api.spotify.com' ([Errno 8] nodename nor servname provided, or not known)\"))\n",
      "An error occurred: HTTPSConnectionPool(host='api.spotify.com', port=443): Max retries exceeded with url: /v1/search?q=album%3APost&type=album&limit=50&offset=0 (Caused by NameResolutionError(\"<urllib3.connection.HTTPSConnection object at 0x7fcbaacb1d80>: Failed to resolve 'api.spotify.com' ([Errno 8] nodename nor servname provided, or not known)\"))\n"
     ]
    },
    {
     "name": "stdout",
     "output_type": "stream",
     "text": [
      "An error occurred: HTTPSConnectionPool(host='api.spotify.com', port=443): Max retries exceeded with url: /v1/search?q=album%3AThe+Ultimate+Collection:+1948-1990&type=album&limit=50&offset=0 (Caused by NameResolutionError(\"<urllib3.connection.HTTPSConnection object at 0x7fcbaae12a40>: Failed to resolve 'api.spotify.com' ([Errno 8] nodename nor servname provided, or not known)\"))\n",
      "An error occurred: HTTPSConnectionPool(host='api.spotify.com', port=443): Max retries exceeded with url: /v1/search?q=album%3A(What's+the+Story)+Morning+Glory?&type=album&limit=50&offset=0 (Caused by NameResolutionError(\"<urllib3.connection.HTTPSConnection object at 0x7fcba9fa9e70>: Failed to resolve 'api.spotify.com' ([Errno 8] nodename nor servname provided, or not known)\"))\n",
      "An error occurred: HTTPSConnectionPool(host='api.spotify.com', port=443): Max retries exceeded with url: /v1/search?q=album%3ACrazySexyCool&type=album&limit=50&offset=0 (Caused by NameResolutionError(\"<urllib3.connection.HTTPSConnection object at 0x7fcbab52afb0>: Failed to resolve 'api.spotify.com' ([Errno 8] nodename nor servname provided, or not known)\"))\n",
      "An error occurred: HTTPSConnectionPool(host='api.spotify.com', port=443): Max retries exceeded with url: /v1/search?q=album%3AFunky+Kingston&type=album&limit=50&offset=0 (Caused by NameResolutionError(\"<urllib3.connection.HTTPSConnection object at 0x7fcbaa11d480>: Failed to resolve 'api.spotify.com' ([Errno 8] nodename nor servname provided, or not known)\"))\n",
      "An error occurred: HTTPSConnectionPool(host='api.spotify.com', port=443): Max retries exceeded with url: /v1/search?q=album%3AThe+Smile+Sessions&type=album&limit=50&offset=0 (Caused by NameResolutionError(\"<urllib3.connection.HTTPSConnection object at 0x7fcbaa9d7940>: Failed to resolve 'api.spotify.com' ([Errno 8] nodename nor servname provided, or not known)\"))\n",
      "An error occurred: HTTPSConnectionPool(host='api.spotify.com', port=443): Max retries exceeded with url: /v1/search?q=album%3AThe+Modern+Lovers&type=album&limit=50&offset=0 (Caused by NameResolutionError(\"<urllib3.connection.HTTPSConnection object at 0x7fcbaae12230>: Failed to resolve 'api.spotify.com' ([Errno 8] nodename nor servname provided, or not known)\"))\n",
      "An error occurred: HTTPSConnectionPool(host='api.spotify.com', port=443): Max retries exceeded with url: /v1/search?q=album%3AMore+Songs+About+Buildings+and+Food&type=album&limit=50&offset=0 (Caused by NameResolutionError(\"<urllib3.connection.HTTPSConnection object at 0x7fcbaaf814e0>: Failed to resolve 'api.spotify.com' ([Errno 8] nodename nor servname provided, or not known)\"))\n",
      "An error occurred: HTTPSConnectionPool(host='api.spotify.com', port=443): Max retries exceeded with url: /v1/search?q=album%3AA+Quick+One&type=album&limit=50&offset=0 (Caused by NameResolutionError(\"<urllib3.connection.HTTPSConnection object at 0x7fcbaae65a50>: Failed to resolve 'api.spotify.com' ([Errno 8] nodename nor servname provided, or not known)\"))\n",
      "An error occurred: HTTPSConnectionPool(host='api.spotify.com', port=443): Max retries exceeded with url: /v1/search?q=album%3A%22Love+and+Theft%22&type=album&limit=50&offset=0 (Caused by NameResolutionError(\"<urllib3.connection.HTTPSConnection object at 0x7fcbab467430>: Failed to resolve 'api.spotify.com' ([Errno 8] nodename nor servname provided, or not known)\"))\n",
      "An error occurred: HTTPSConnectionPool(host='api.spotify.com', port=443): Max retries exceeded with url: /v1/search?q=album%3APretzel+Logic&type=album&limit=50&offset=0 (Caused by NameResolutionError(\"<urllib3.connection.HTTPSConnection object at 0x7fcbaaf81a80>: Failed to resolve 'api.spotify.com' ([Errno 8] nodename nor servname provided, or not known)\"))\n",
      "An error occurred: HTTPSConnectionPool(host='api.spotify.com', port=443): Max retries exceeded with url: /v1/search?q=album%3AEnter+the+Wu_Tang:+36+Chambers&type=album&limit=50&offset=0 (Caused by NameResolutionError(\"<urllib3.connection.HTTPSConnection object at 0x7fcbaae12770>: Failed to resolve 'api.spotify.com' ([Errno 8] nodename nor servname provided, or not known)\"))\n",
      "An error occurred: HTTPSConnectionPool(host='api.spotify.com', port=443): Max retries exceeded with url: /v1/search?q=album%3AThe+Indestructible+Beat+of+Soweto&type=album&limit=50&offset=0 (Caused by NameResolutionError(\"<urllib3.connection.HTTPSConnection object at 0x7fcba8242650>: Failed to resolve 'api.spotify.com' ([Errno 8] nodename nor servname provided, or not known)\"))\n",
      "An error occurred: HTTPSConnectionPool(host='api.spotify.com', port=443): Max retries exceeded with url: /v1/search?q=album%3AThe+End+of+the+Innocence&type=album&limit=50&offset=0 (Caused by NameResolutionError(\"<urllib3.connection.HTTPSConnection object at 0x7fcbaa11ce50>: Failed to resolve 'api.spotify.com' ([Errno 8] nodename nor servname provided, or not known)\"))\n",
      "An error occurred: HTTPSConnectionPool(host='api.spotify.com', port=443): Max retries exceeded with url: /v1/search?q=album%3AElephant&type=album&limit=50&offset=0 (Caused by NameResolutionError(\"<urllib3.connection.HTTPSConnection object at 0x7fcbab529630>: Failed to resolve 'api.spotify.com' ([Errno 8] nodename nor servname provided, or not known)\"))\n",
      "An error occurred: HTTPSConnectionPool(host='api.spotify.com', port=443): Max retries exceeded with url: /v1/search?q=album%3AThe+Pretender&type=album&limit=50&offset=0 (Caused by NameResolutionError(\"<urllib3.connection.HTTPSConnection object at 0x7fcbab467970>: Failed to resolve 'api.spotify.com' ([Errno 8] nodename nor servname provided, or not known)\"))\n",
      "An error occurred: HTTPSConnectionPool(host='api.spotify.com', port=443): Max retries exceeded with url: /v1/search?q=album%3ALet+It+Be&type=album&limit=50&offset=0 (Caused by NameResolutionError(\"<urllib3.connection.HTTPSConnection object at 0x7fcbaa11c4c0>: Failed to resolve 'api.spotify.com' ([Errno 8] nodename nor servname provided, or not known)\"))\n",
      "An error occurred: HTTPSConnectionPool(host='api.spotify.com', port=443): Max retries exceeded with url: /v1/search?q=album%3AKala&type=album&limit=50&offset=0 (Caused by NameResolutionError(\"<urllib3.connection.HTTPSConnection object at 0x7fcba9d4fdc0>: Failed to resolve 'api.spotify.com' ([Errno 8] nodename nor servname provided, or not known)\"))\n",
      "An error occurred: HTTPSConnectionPool(host='api.spotify.com', port=443): Max retries exceeded with url: /v1/search?q=album%3AGood+Old+Boys&type=album&limit=50&offset=0 (Caused by NameResolutionError(\"<urllib3.connection.HTTPSConnection object at 0x7fcba826a2f0>: Failed to resolve 'api.spotify.com' ([Errno 8] nodename nor servname provided, or not known)\"))\n",
      "An error occurred: HTTPSConnectionPool(host='api.spotify.com', port=443): Max retries exceeded with url: /v1/search?q=album%3ASound+of+Silver&type=album&limit=50&offset=0 (Caused by NameResolutionError(\"<urllib3.connection.HTTPSConnection object at 0x7fcbaaf817b0>: Failed to resolve 'api.spotify.com' ([Errno 8] nodename nor servname provided, or not known)\"))\n",
      "An error occurred: HTTPSConnectionPool(host='api.spotify.com', port=443): Max retries exceeded with url: /v1/search?q=album%3AFor+Your+Pleasure&type=album&limit=50&offset=0 (Caused by NameResolutionError(\"<urllib3.connection.HTTPSConnection object at 0x7fcbab25d540>: Failed to resolve 'api.spotify.com' ([Errno 8] nodename nor servname provided, or not known)\"))\n",
      "An error occurred: HTTPSConnectionPool(host='api.spotify.com', port=443): Max retries exceeded with url: /v1/search?q=album%3ABlue+Lines&type=album&limit=50&offset=0 (Caused by NameResolutionError(\"<urllib3.connection.HTTPSConnection object at 0x7fcba9ec9cf0>: Failed to resolve 'api.spotify.com' ([Errno 8] nodename nor servname provided, or not known)\"))\n",
      "An error occurred: HTTPSConnectionPool(host='api.spotify.com', port=443): Max retries exceeded with url: /v1/search?q=album%3AEliminator&type=album&limit=50&offset=0 (Caused by NameResolutionError(\"<urllib3.connection.HTTPSConnection object at 0x7fcbaae12080>: Failed to resolve 'api.spotify.com' ([Errno 8] nodename nor servname provided, or not known)\"))\n",
      "An error occurred: HTTPSConnectionPool(host='api.spotify.com', port=443): Max retries exceeded with url: /v1/search?q=album%3ARain+Dogs&type=album&limit=50&offset=0 (Caused by NameResolutionError(\"<urllib3.connection.HTTPSConnection object at 0x7fcbaacbe4d0>: Failed to resolve 'api.spotify.com' ([Errno 8] nodename nor servname provided, or not known)\"))\n"
     ]
    },
    {
     "name": "stdout",
     "output_type": "stream",
     "text": [
      "An error occurred: HTTPSConnectionPool(host='api.spotify.com', port=443): Max retries exceeded with url: /v1/search?q=album%3AAnthology:+The+Best+of+The+Temptations&type=album&limit=50&offset=0 (Caused by NameResolutionError(\"<urllib3.connection.HTTPSConnection object at 0x7fcbab529630>: Failed to resolve 'api.spotify.com' ([Errno 8] nodename nor servname provided, or not known)\"))\n",
      "An error occurred: HTTPSConnectionPool(host='api.spotify.com', port=443): Max retries exceeded with url: /v1/search?q=album%3ACalifornication&type=album&limit=50&offset=0 (Caused by NameResolutionError(\"<urllib3.connection.HTTPSConnection object at 0x7fcbab25c220>: Failed to resolve 'api.spotify.com' ([Errno 8] nodename nor servname provided, or not known)\"))\n",
      "An error occurred: HTTPSConnectionPool(host='api.spotify.com', port=443): Max retries exceeded with url: /v1/search?q=album%3AIllmatic&type=album&limit=50&offset=0 (Caused by NameResolutionError(\"<urllib3.connection.HTTPSConnection object at 0x7fcbab25cfa0>: Failed to resolve 'api.spotify.com' ([Errno 8] nodename nor servname provided, or not known)\"))\n",
      "An error occurred: HTTPSConnectionPool(host='api.spotify.com', port=443): Max retries exceeded with url: /v1/search?q=album%3A(pronounced+'leh-'nerd+'skin-'nerd)&type=album&limit=50&offset=0 (Caused by NameResolutionError(\"<urllib3.connection.HTTPSConnection object at 0x7fcbaa11c8b0>: Failed to resolve 'api.spotify.com' ([Errno 8] nodename nor servname provided, or not known)\"))\n",
      "An error occurred: HTTPSConnectionPool(host='api.spotify.com', port=443): Max retries exceeded with url: /v1/search?q=album%3ADr.+John's+Gumbo&type=album&limit=50&offset=0 (Caused by NameResolutionError(\"<urllib3.connection.HTTPSConnection object at 0x7fcba83c25c0>: Failed to resolve 'api.spotify.com' ([Errno 8] nodename nor servname provided, or not known)\"))\n",
      "An error occurred: HTTPSConnectionPool(host='api.spotify.com', port=443): Max retries exceeded with url: /v1/search?q=album%3ARadio+City&type=album&limit=50&offset=0 (Caused by NameResolutionError(\"<urllib3.connection.HTTPSConnection object at 0x7fcbaae121a0>: Failed to resolve 'api.spotify.com' ([Errno 8] nodename nor servname provided, or not known)\"))\n",
      "An error occurred: HTTPSConnectionPool(host='api.spotify.com', port=443): Max retries exceeded with url: /v1/search?q=album%3ARid+of+Me&type=album&limit=50&offset=0 (Caused by NameResolutionError(\"<urllib3.connection.HTTPSConnection object at 0x7fcba9e9ea10>: Failed to resolve 'api.spotify.com' ([Errno 8] nodename nor servname provided, or not known)\"))\n",
      "An error occurred: HTTPSConnectionPool(host='api.spotify.com', port=443): Max retries exceeded with url: /v1/search?q=album%3ASandinista!&type=album&limit=50&offset=0 (Caused by NameResolutionError(\"<urllib3.connection.HTTPSConnection object at 0x7fcbaaf92c50>: Failed to resolve 'api.spotify.com' ([Errno 8] nodename nor servname provided, or not known)\"))\n",
      "An error occurred: HTTPSConnectionPool(host='api.spotify.com', port=443): Max retries exceeded with url: /v1/search?q=album%3AI+Do+Not+Want+What+I+Haven't+Got&type=album&limit=50&offset=0 (Caused by NameResolutionError(\"<urllib3.connection.HTTPSConnection object at 0x7fcba9e9e7a0>: Failed to resolve 'api.spotify.com' ([Errno 8] nodename nor servname provided, or not known)\"))\n",
      "An error occurred: HTTPSConnectionPool(host='api.spotify.com', port=443): Max retries exceeded with url: /v1/search?q=album%3AStrange+Days&type=album&limit=50&offset=0 (Caused by NameResolutionError(\"<urllib3.connection.HTTPSConnection object at 0x7fcbaae12170>: Failed to resolve 'api.spotify.com' ([Errno 8] nodename nor servname provided, or not known)\"))\n",
      "An error occurred: HTTPSConnectionPool(host='api.spotify.com', port=443): Max retries exceeded with url: /v1/search?q=album%3ATime+Out+of+Mind&type=album&limit=50&offset=0 (Caused by NameResolutionError(\"<urllib3.connection.HTTPSConnection object at 0x7fcba9f71ff0>: Failed to resolve 'api.spotify.com' ([Errno 8] nodename nor servname provided, or not known)\"))\n",
      "An error occurred: HTTPSConnectionPool(host='api.spotify.com', port=443): Max retries exceeded with url: /v1/search?q=album%3A461+Ocean+Boulevard&type=album&limit=50&offset=0 (Caused by NameResolutionError(\"<urllib3.connection.HTTPSConnection object at 0x7fcbaa11cac0>: Failed to resolve 'api.spotify.com' ([Errno 8] nodename nor servname provided, or not known)\"))\n",
      "An error occurred: HTTPSConnectionPool(host='api.spotify.com', port=443): Max retries exceeded with url: /v1/search?q=album%3APink+Flag&type=album&limit=50&offset=0 (Caused by NameResolutionError(\"<urllib3.connection.HTTPSConnection object at 0x7fcbab4670d0>: Failed to resolve 'api.spotify.com' ([Errno 8] nodename nor servname provided, or not known)\"))\n",
      "An error occurred: HTTPSConnectionPool(host='api.spotify.com', port=443): Max retries exceeded with url: /v1/search?q=album%3ADouble+Nickels+on+the+Dime&type=album&limit=50&offset=0 (Caused by NameResolutionError(\"<urllib3.connection.HTTPSConnection object at 0x7fcbaaf93790>: Failed to resolve 'api.spotify.com' ([Errno 8] nodename nor servname provided, or not known)\"))\n",
      "An error occurred: HTTPSConnectionPool(host='api.spotify.com', port=443): Max retries exceeded with url: /v1/search?q=album%3ABeauty+and+the+Beat&type=album&limit=50&offset=0 (Caused by NameResolutionError(\"<urllib3.connection.HTTPSConnection object at 0x7fcbab52b130>: Failed to resolve 'api.spotify.com' ([Errno 8] nodename nor servname provided, or not known)\"))\n",
      "An error occurred: HTTPSConnectionPool(host='api.spotify.com', port=443): Max retries exceeded with url: /v1/search?q=album%3AVan+Halen&type=album&limit=50&offset=0 (Caused by NameResolutionError(\"<urllib3.connection.HTTPSConnection object at 0x7fcbaacbd270>: Failed to resolve 'api.spotify.com' ([Errno 8] nodename nor servname provided, or not known)\"))\n",
      "An error occurred: HTTPSConnectionPool(host='api.spotify.com', port=443): Max retries exceeded with url: /v1/search?q=album%3AMule+Variations&type=album&limit=50&offset=0 (Caused by NameResolutionError(\"<urllib3.connection.HTTPSConnection object at 0x7fcba9ec9cf0>: Failed to resolve 'api.spotify.com' ([Errno 8] nodename nor servname provided, or not known)\"))\n",
      "An error occurred: HTTPSConnectionPool(host='api.spotify.com', port=443): Max retries exceeded with url: /v1/search?q=album%3ABoy&type=album&limit=50&offset=0 (Caused by NameResolutionError(\"<urllib3.connection.HTTPSConnection object at 0x7fcba826a2f0>: Failed to resolve 'api.spotify.com' ([Errno 8] nodename nor servname provided, or not known)\"))\n",
      "An error occurred: Album not found\n",
      "An error occurred: Album not found\n",
      "An error occurred: Album not found\n",
      "An error occurred: Album not found\n",
      "An error occurred: 400 Client Error: Bad Request for url: https://api.spotify.com/v1/search?q=album%3A#1+Record&type=album&limit=50&offset=0\n",
      "An error occurred: Album not found\n",
      "An error occurred: Album not found\n",
      "An error occurred: Album not found\n",
      "An error occurred: Album not found\n",
      "An error occurred: Album not found\n",
      "An error occurred: Album not found\n",
      "An error occurred: Album not found\n",
      "An error occurred: Album not found\n",
      "An error occurred: Album not found\n",
      "An error occurred: Album not found\n",
      "An error occurred: ('Connection aborted.', RemoteDisconnected('Remote end closed connection without response'))\n",
      "An error occurred: Album not found\n",
      "An error occurred: HTTPSConnectionPool(host='api.spotify.com', port=443): Read timed out. (read timeout=None)\n",
      "An error occurred: Album not found\n",
      "An error occurred: HTTPSConnectionPool(host='api.spotify.com', port=443): Read timed out. (read timeout=None)\n",
      "An error occurred: Album not found\n",
      "An error occurred: Album not found\n",
      "An error occurred: Album not found\n",
      "An error occurred: Album not found\n",
      "An error occurred: Album not found\n",
      "An error occurred: ('Connection aborted.', RemoteDisconnected('Remote end closed connection without response'))\n"
     ]
    }
   ],
   "source": [
    "# List to store the retrieved album data\n",
    "album_data_list = []\n",
    "\n",
    "# Function to search and retrieve album information\n",
    "def search_spotify_info(album_url):\n",
    "    time.sleep(0.20)  # Pause between queries to avoid getting banned\n",
    "\n",
    "    try:\n",
    "        response = rq.get(album_url['url'], headers=headers)\n",
    "        response.raise_for_status()  # Check for request errors\n",
    "        data = response.json()\n",
    "        rjson = data.get('albums', {}).get('items', [])\n",
    "\n",
    "        for index, item in enumerate(rjson):\n",
    "            if item['name'].lower() == album_url['album'].lower():\n",
    "                album_data_list.append({\n",
    "                    'ID': item['id'],  # Spotify ID for the album\n",
    "                    'Name': item['name'],\n",
    "                    'Artist Name': item['artists'][0]['name'],\n",
    "                    'Artist ID': item['artists'][0]['id'],\n",
    "                    #'Popularity': item['popularity'],\n",
    "                    'Release Date': item['release_date'],\n",
    "                    'Total Tracks': item['total_tracks']\n",
    "                })\n",
    "                \n",
    "                return rjson[index]\n",
    "\n",
    "        # If the album is not found, raise an exception to return None\n",
    "        raise Exception(\"Album not found\")\n",
    "    except Exception as e:\n",
    "        print(f\"An error occurred: {e}\")\n",
    "        album_data_list.append({\n",
    "            'ID': None,\n",
    "            'Name': None,\n",
    "            'Artist Name': None,\n",
    "            'Artist ID': None,\n",
    "            'Release Date': None,\n",
    "            'Total Tracks': None\n",
    "        })\n",
    "        return {\n",
    "            'album_type': None,\n",
    "            'artists': None,\n",
    "            'available_markets': None,\n",
    "            'external_urls': None,\n",
    "            'href': None,\n",
    "            'id': None,\n",
    "            'images': None,\n",
    "            'name': None,\n",
    "            'release_date': None,\n",
    "            'release_date_precision': None,\n",
    "            'total_tracks': None,\n",
    "            'type': None,\n",
    "            'uri': None\n",
    "        }\n",
    "    \n",
    "# Execute the function for each album URL\n",
    "for album_url in album_url_list:\n",
    "    search_spotify_info(album_url)\n",
    "\n",
    "# Create a DataFrame from the list of dictionaries\n",
    "dataalbums = pd.DataFrame(album_data_list)"
   ]
  },
  {
   "cell_type": "code",
   "execution_count": null,
   "id": "df4f851c",
   "metadata": {},
   "outputs": [],
   "source": [
    "dataalbums.head()"
   ]
  },
  {
   "cell_type": "markdown",
   "id": "ec2153db",
   "metadata": {},
   "source": [
    "### Getting Artist Information "
   ]
  },
  {
   "cell_type": "code",
   "execution_count": null,
   "id": "0ade14a4",
   "metadata": {},
   "outputs": [],
   "source": [
    "album_id = dataalbums['ID'].unique().tolist()"
   ]
  },
  {
   "cell_type": "code",
   "execution_count": null,
   "id": "cbbbadaa",
   "metadata": {},
   "outputs": [],
   "source": [
    "# List to store track data\n",
    "track_data_list = []\n",
    "\n",
    "# Function to search and retrieve track information\n",
    "def search_spotify_tracks(album_id):\n",
    "    time.sleep(0.20)  # Pause between queries to avoid getting banned\n",
    "\n",
    "    try:\n",
    "        url = f'https://api.spotify.com/v1/albums/{album_id}/tracks'\n",
    "        response = rq.get(url, headers=headers)\n",
    "        response.raise_for_status()  # Check for request errors\n",
    "        data = response.json()\n",
    "        tracks = data.get('items', [])\n",
    "\n",
    "        for track in tracks:\n",
    "            track_data_list.append({\n",
    "                'track_id': track['id'],\n",
    "                'track_name': track['name'],\n",
    "                'album_id': album_id,\n",
    "                'artist_id': track['artists'][0]['id'],\n",
    "                'danceability': None,\n",
    "                'popularity': None,\n",
    "                'energy': None,\n",
    "                'acousticness': None,\n",
    "                'valence': None,\n",
    "                'instrumentalness': None,\n",
    "                'tempo': None,\n",
    "                'loudness': None\n",
    "            })\n",
    "\n",
    "        return tracks\n",
    "\n",
    "    except Exception as e:\n",
    "        print(f\"An error occurred: {e}\")\n",
    "        return []\n",
    "\n",
    "# Execute the function for each album ID in the list\n",
    "for album_id in album_id_list:\n",
    "    print(f\"Retrieving tracks for album with ID: {album_id}\")\n",
    "    search_spotify_tracks(album_id)\n",
    "\n",
    "# Create a DataFrame from the list of dictionaries\n",
    "track_df = pd.DataFrame(track_data_list)"
   ]
  },
  {
   "cell_type": "code",
   "execution_count": null,
   "id": "540945b9",
   "metadata": {},
   "outputs": [],
   "source": [
    "track_df.head()"
   ]
  },
  {
   "cell_type": "markdown",
   "id": "4bbc2f4c",
   "metadata": {},
   "source": [
    "### Getting Tracks Information"
   ]
  },
  {
   "cell_type": "code",
   "execution_count": null,
   "id": "e198ef5f",
   "metadata": {},
   "outputs": [],
   "source": [
    "# List to store artist data\n",
    "artist_data_list = []\n",
    "\n",
    "# Function to search and retrieve artist information\n",
    "def search_spotify_artists(artist_id):\n",
    "    time.sleep(0.20)  # Pause between queries to avoid getting banned\n",
    "\n",
    "    try:\n",
    "        url = f'https://api.spotify.com/v1/artists/{artist_id}'\n",
    "        response = rq.get(url, headers=headers)\n",
    "        response.raise_for_status()  # Check for request errors\n",
    "        data = response.json()\n",
    "\n",
    "        artist_data_list.append({\n",
    "            'artist_id': data['id'],\n",
    "            'artist_name': data['name'],\n",
    "            'followers': data['followers']['total'],\n",
    "            'popularity': data['popularity'],\n",
    "            'genre_id': data['genres'][0] if data['genres'] else None,\n",
    "            'genre_name': None\n",
    "        })\n",
    "\n",
    "        return data\n",
    "\n",
    "    except Exception as e:\n",
    "        print(f\"An error occurred: {e}\")\n",
    "        return {}\n",
    "\n",
    "# Execute the function for each artist ID in the list\n",
    "for artist_id in artist_id_list:\n",
    "    print(f\"Retrieving artist info for artist with ID: {artist_id}\")\n",
    "    search_spotify_artists(artist_id)\n",
    "\n",
    "# Create a DataFrame from the list of dictionaries\n",
    "artist_df = pd.DataFrame(artist_data_list)"
   ]
  },
  {
   "cell_type": "code",
   "execution_count": 39,
   "id": "a9d3d38a",
   "metadata": {},
   "outputs": [
    {
     "ename": "NameError",
     "evalue": "name 'artist_df' is not defined",
     "output_type": "error",
     "traceback": [
      "\u001b[0;31m---------------------------------------------------------------------------\u001b[0m",
      "\u001b[0;31mNameError\u001b[0m                                 Traceback (most recent call last)",
      "Cell \u001b[0;32mIn[39], line 1\u001b[0m\n\u001b[0;32m----> 1\u001b[0m \u001b[43martist_df\u001b[49m\u001b[38;5;241m.\u001b[39mhead()\n",
      "\u001b[0;31mNameError\u001b[0m: name 'artist_df' is not defined"
     ]
    }
   ],
   "source": [
    "artist_df.head()"
   ]
  },
  {
   "cell_type": "code",
   "execution_count": null,
   "id": "44ebed58",
   "metadata": {},
   "outputs": [],
   "source": []
  }
 ],
 "metadata": {
  "kernelspec": {
   "display_name": "clase",
   "language": "python",
   "name": "clase"
  },
  "language_info": {
   "codemirror_mode": {
    "name": "ipython",
    "version": 3
   },
   "file_extension": ".py",
   "mimetype": "text/x-python",
   "name": "python",
   "nbconvert_exporter": "python",
   "pygments_lexer": "ipython3",
   "version": "3.10.13"
  }
 },
 "nbformat": 4,
 "nbformat_minor": 5
}
