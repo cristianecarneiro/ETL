{
 "cells": [
  {
   "cell_type": "markdown",
   "id": "423aaa22",
   "metadata": {},
   "source": [
    "## Import libraries"
   ]
  },
  {
   "cell_type": "code",
   "execution_count": 1,
   "id": "b8f853ce",
   "metadata": {},
   "outputs": [],
   "source": [
    "from selenium import webdriver\n",
    "import pandas as pd\n",
    "from selenium.webdriver.common.by import By\n",
    "import time \n",
    "from selenium.webdriver.chrome.options import Options\n",
    "from webdriver_manager.chrome import ChromeDriverManager"
   ]
  },
  {
   "cell_type": "code",
   "execution_count": 2,
   "id": "9978728a",
   "metadata": {},
   "outputs": [],
   "source": [
    "#driver configuration\n",
    "opciones=Options()\n",
    "\n",
    "opciones.add_experimental_option('excludeSwitches', ['enable-automation'])\n",
    "opciones.add_experimental_option('useAutomationExtension', False)\n",
    "opciones.headless=False    # si True, no aperece la ventana (headless=no visible)\n",
    "opciones.add_argument('--start-maximized')         # comienza maximizado\n",
    "#opciones.add_argument('user-data-dir=selenium')    # mantiene las cookies\n",
    "#opciones.add_extension('driver_folder/adblock.crx')       # adblocker\n",
    "opciones.add_argument('--incognito')"
   ]
  },
  {
   "cell_type": "code",
   "execution_count": 3,
   "id": "6bd883ed",
   "metadata": {},
   "outputs": [],
   "source": [
    "PATH = 'driver/chromedriver'\n",
    "\n",
    "driver = webdriver.Chrome()\n",
    "\n",
    "driver.get('https://www.google.es')"
   ]
  },
  {
   "cell_type": "markdown",
   "id": "3d7fc692",
   "metadata": {},
   "source": [
    "## Get 50 horrible albums by brilliant artists"
   ]
  },
  {
   "cell_type": "code",
   "execution_count": 7,
   "id": "65d39c95",
   "metadata": {},
   "outputs": [],
   "source": [
    "url = 'https://www.rollingstone.com/music/music-lists/horrible-albums-by-brilliant-artists-1234672895/'"
   ]
  },
  {
   "cell_type": "code",
   "execution_count": 8,
   "id": "63e401f1",
   "metadata": {},
   "outputs": [],
   "source": [
    "driver.get(url)"
   ]
  },
  {
   "cell_type": "code",
   "execution_count": 9,
   "id": "f1eae098",
   "metadata": {},
   "outputs": [],
   "source": [
    "#cookies \n",
    "\n",
    "rejectcookies = driver.find_element(By.XPATH,'//*[@id=\"onetrust-reject-all-handler\"]')\n",
    "rejectcookies.click()"
   ]
  },
  {
   "cell_type": "code",
   "execution_count": 15,
   "id": "2a0c4286",
   "metadata": {},
   "outputs": [
    {
     "data": {
      "text/plain": [
       "50"
      ]
     },
     "execution_count": 15,
     "metadata": {},
     "output_type": "execute_result"
    }
   ],
   "source": [
    "#ranking number \n",
    "\n",
    "rankingnumber = driver.find_elements(By.CLASS_NAME,'c-gallery-vertical-album__number')\n",
    "len(rankingnumber)"
   ]
  },
  {
   "cell_type": "code",
   "execution_count": 41,
   "id": "bfd5b823",
   "metadata": {},
   "outputs": [
    {
     "data": {
      "text/plain": [
       "['50', '49', '48', '47', '46']"
      ]
     },
     "execution_count": 41,
     "metadata": {},
     "output_type": "execute_result"
    }
   ],
   "source": [
    "rankingnumber = [item.text for item in driver.find_elements(By.CLASS_NAME,'c-gallery-vertical-album__number')]\n",
    "rankingnumber[0:5]"
   ]
  },
  {
   "cell_type": "code",
   "execution_count": 16,
   "id": "0e0fd9d6",
   "metadata": {},
   "outputs": [
    {
     "data": {
      "text/plain": [
       "50"
      ]
     },
     "execution_count": 16,
     "metadata": {},
     "output_type": "execute_result"
    }
   ],
   "source": [
    "#band name  \n",
    "\n",
    "bandname = driver.find_elements(By.CLASS_NAME,'c-gallery-vertical-album__title')\n",
    "len(bandname)"
   ]
  },
  {
   "cell_type": "code",
   "execution_count": 31,
   "id": "72ae9cdf",
   "metadata": {},
   "outputs": [
    {
     "data": {
      "text/plain": [
       "['The Who', 'Billy Joel', 'Van Halen', 'The Grateful Dead', 'Outkast']"
      ]
     },
     "execution_count": 31,
     "metadata": {},
     "output_type": "execute_result"
    }
   ],
   "source": [
    "bandname = [item.text for item in driver.find_elements(By.CLASS_NAME,'c-gallery-vertical-album__title')]\n",
    "bandname[0:5]"
   ]
  },
  {
   "cell_type": "code",
   "execution_count": 18,
   "id": "87e1b601",
   "metadata": {},
   "outputs": [
    {
     "data": {
      "text/plain": [
       "50"
      ]
     },
     "execution_count": 18,
     "metadata": {},
     "output_type": "execute_result"
    }
   ],
   "source": [
    "#albumname  \n",
    "\n",
    "albumname = driver.find_elements(By.CLASS_NAME,'c-gallery-vertical-album__additional--description')\n",
    "len(albumname)"
   ]
  },
  {
   "cell_type": "code",
   "execution_count": 48,
   "id": "0f4f7ed2",
   "metadata": {},
   "outputs": [
    {
     "data": {
      "text/plain": [
       "['Its Hard', 'The Bridge', 'Van Halen III', 'Built to Last', 'Idlewild']"
      ]
     },
     "execution_count": 48,
     "metadata": {},
     "output_type": "execute_result"
    }
   ],
   "source": [
    "albumname = [item.text.replace(\"'\",\"\") for item in driver.find_elements(By.CLASS_NAME,'c-gallery-vertical-album__additional--description')]\n",
    "albumname[0:5]"
   ]
  },
  {
   "cell_type": "code",
   "execution_count": 49,
   "id": "8a1018e2",
   "metadata": {},
   "outputs": [
    {
     "data": {
      "text/plain": [
       "50"
      ]
     },
     "execution_count": 49,
     "metadata": {},
     "output_type": "execute_result"
    }
   ],
   "source": [
    "#releaseyear \n",
    "\n",
    "releaseyear = driver.find_elements(By.CLASS_NAME,'c-gallery-vertical-album__subtitle-1')\n",
    "len(releaseyear)"
   ]
  },
  {
   "cell_type": "code",
   "execution_count": 50,
   "id": "f62d9f11",
   "metadata": {},
   "outputs": [
    {
     "data": {
      "text/plain": [
       "['1982', '1986', '1998', '1989', '2006']"
      ]
     },
     "execution_count": 50,
     "metadata": {},
     "output_type": "execute_result"
    }
   ],
   "source": [
    "releaseyear = [item.text for item in driver.find_elements(By.CLASS_NAME,'c-gallery-vertical-album__subtitle-1')]\n",
    "releaseyear[0:5]"
   ]
  },
  {
   "cell_type": "code",
   "execution_count": 51,
   "id": "93f89646",
   "metadata": {},
   "outputs": [
    {
     "data": {
      "text/plain": [
       "50"
      ]
     },
     "execution_count": 51,
     "metadata": {},
     "output_type": "execute_result"
    }
   ],
   "source": [
    "#rationale\n",
    "\n",
    "rationale = driver.find_elements(By.CLASS_NAME,'c-gallery-vertical-album__description')\n",
    "len(rationale)"
   ]
  },
  {
   "cell_type": "code",
   "execution_count": 52,
   "id": "a77d9f17",
   "metadata": {},
   "outputs": [
    {
     "data": {
      "text/plain": [
       "'In the early Eighties, Pete Townshend was juggling a solo career, the Who’s difficult post-Keith Moon period, and a pretty nasty heroin addiction. He somehow found the time to cut two stellar solo albums (1980’s Empty Glass and 1982’s All The Best Cowboys Have Chinese Eyes), and the Who’s underrated 1981 LP, Face Dances. But when the time came to enter the studio and cut It’s Hard in 1982, his stockpile of tunes was down to virtually nothing. (It should be noted that throughout this whole time, he saved the best stuff for his solo albums.) Leadoff track “Athena” was a genuine radio hit, and “Eminence Front” is a masterpiece that’s been in the Who’s live repertoire for the past 40 years. The rest of It’s Hard, however, is the absolute low point of the Who’s career. “One Life’s Enough,” “I’ve Known No War,” “Why Did I Fall for That,” and “Cooks County” are clearly the result of exhaustion, very hard drugs, and a contractual obligation to Warner Bros. Records. Townshend himself probably barely remembers making this record, and most Who fans have worked hard to forget it exists.'"
      ]
     },
     "execution_count": 52,
     "metadata": {},
     "output_type": "execute_result"
    }
   ],
   "source": [
    "rationale = [item.text for item in driver.find_elements(By.CLASS_NAME,'c-gallery-vertical-album__description')]\n",
    "rationale[0]"
   ]
  },
  {
   "cell_type": "code",
   "execution_count": 53,
   "id": "39c0302a",
   "metadata": {},
   "outputs": [],
   "source": [
    "data = {'horriblerankingorder': rankingnumber, 'band': bandname, 'album': albumname, 'release_year': releaseyear, 'rationale': rationale}"
   ]
  },
  {
   "cell_type": "code",
   "execution_count": 56,
   "id": "075defd8",
   "metadata": {},
   "outputs": [
    {
     "data": {
      "text/html": [
       "<div>\n",
       "<style scoped>\n",
       "    .dataframe tbody tr th:only-of-type {\n",
       "        vertical-align: middle;\n",
       "    }\n",
       "\n",
       "    .dataframe tbody tr th {\n",
       "        vertical-align: top;\n",
       "    }\n",
       "\n",
       "    .dataframe thead th {\n",
       "        text-align: right;\n",
       "    }\n",
       "</style>\n",
       "<table border=\"1\" class=\"dataframe\">\n",
       "  <thead>\n",
       "    <tr style=\"text-align: right;\">\n",
       "      <th></th>\n",
       "      <th>rankingorder</th>\n",
       "      <th>band</th>\n",
       "      <th>album</th>\n",
       "      <th>release_year</th>\n",
       "      <th>rationale</th>\n",
       "    </tr>\n",
       "  </thead>\n",
       "  <tbody>\n",
       "    <tr>\n",
       "      <th>0</th>\n",
       "      <td>50</td>\n",
       "      <td>The Who</td>\n",
       "      <td>Its Hard</td>\n",
       "      <td>1982</td>\n",
       "      <td>In the early Eighties, Pete Townshend was jugg...</td>\n",
       "    </tr>\n",
       "    <tr>\n",
       "      <th>1</th>\n",
       "      <td>49</td>\n",
       "      <td>Billy Joel</td>\n",
       "      <td>The Bridge</td>\n",
       "      <td>1986</td>\n",
       "      <td>Billy Joel had nearly a solid decade of succes...</td>\n",
       "    </tr>\n",
       "    <tr>\n",
       "      <th>2</th>\n",
       "      <td>48</td>\n",
       "      <td>Van Halen</td>\n",
       "      <td>Van Halen III</td>\n",
       "      <td>1998</td>\n",
       "      <td>When original Van Halen singer David Lee Roth ...</td>\n",
       "    </tr>\n",
       "    <tr>\n",
       "      <th>3</th>\n",
       "      <td>47</td>\n",
       "      <td>The Grateful Dead</td>\n",
       "      <td>Built to Last</td>\n",
       "      <td>1989</td>\n",
       "      <td>The Grateful Dead’s fluke 1987 hit “Touch of G...</td>\n",
       "    </tr>\n",
       "    <tr>\n",
       "      <th>4</th>\n",
       "      <td>46</td>\n",
       "      <td>Outkast</td>\n",
       "      <td>Idlewild</td>\n",
       "      <td>2006</td>\n",
       "      <td>The soundtrack to Outkast’s Depression-era mov...</td>\n",
       "    </tr>\n",
       "  </tbody>\n",
       "</table>\n",
       "</div>"
      ],
      "text/plain": [
       "  rankingorder               band          album release_year  \\\n",
       "0           50            The Who       Its Hard         1982   \n",
       "1           49         Billy Joel     The Bridge         1986   \n",
       "2           48          Van Halen  Van Halen III         1998   \n",
       "3           47  The Grateful Dead  Built to Last         1989   \n",
       "4           46            Outkast       Idlewild         2006   \n",
       "\n",
       "                                           rationale  \n",
       "0  In the early Eighties, Pete Townshend was jugg...  \n",
       "1  Billy Joel had nearly a solid decade of succes...  \n",
       "2  When original Van Halen singer David Lee Roth ...  \n",
       "3  The Grateful Dead’s fluke 1987 hit “Touch of G...  \n",
       "4  The soundtrack to Outkast’s Depression-era mov...  "
      ]
     },
     "execution_count": 56,
     "metadata": {},
     "output_type": "execute_result"
    }
   ],
   "source": [
    "finaltable = pd.DataFrame(data)\n",
    "finaltable.head()"
   ]
  },
  {
   "cell_type": "code",
   "execution_count": null,
   "id": "a955d8fc",
   "metadata": {},
   "outputs": [],
   "source": []
  }
 ],
 "metadata": {
  "kernelspec": {
   "display_name": "clase",
   "language": "python",
   "name": "clase"
  },
  "language_info": {
   "codemirror_mode": {
    "name": "ipython",
    "version": 3
   },
   "file_extension": ".py",
   "mimetype": "text/x-python",
   "name": "python",
   "nbconvert_exporter": "python",
   "pygments_lexer": "ipython3",
   "version": "3.10.13"
  }
 },
 "nbformat": 4,
 "nbformat_minor": 5
}
