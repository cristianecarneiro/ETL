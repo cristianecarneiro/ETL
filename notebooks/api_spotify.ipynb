{
 "cells": [
  {
   "cell_type": "code",
   "execution_count": null,
   "id": "1e4976af",
   "metadata": {},
   "outputs": [],
   "source": [
    "import pandas as pd\n",
    "import numpy as np\n",
    "import time \n",
    "\n",
    "import warnings\n",
    "warnings.filterwarnings('ignore')\n",
    "\n",
    "pd.set_option('display.max_columns', None)  # me muestre todas las columnas\n",
    "#pd.set_option('display.max_rows', None)  # me muestre todas las filas"
   ]
  },
  {
   "cell_type": "markdown",
   "id": "9258ec38",
   "metadata": {},
   "source": [
    "### List of albums I am interested on"
   ]
  },
  {
   "cell_type": "code",
   "execution_count": null,
   "id": "1601205e",
   "metadata": {},
   "outputs": [],
   "source": [
    "topalbums = pd.read_csv('../data/clean/DB_Kaggle_top500albums_clean.csv', encoding='latin1')\n",
    "\n",
    "topalbums.head(3)"
   ]
  },
  {
   "cell_type": "code",
   "execution_count": null,
   "id": "2bfd5150",
   "metadata": {},
   "outputs": [],
   "source": [
    "horriblealbums = pd.read_csv('../data/clean/WS_50horriblealbums_clean.csv', encoding='latin1')\n",
    "\n",
    "horriblealbums.head(3)"
   ]
  },
  {
   "cell_type": "code",
   "execution_count": null,
   "id": "458f365b",
   "metadata": {},
   "outputs": [],
   "source": [
    "#need to be conscious of the fact that some albums have the same name \n",
    "\n",
    "topalbums['album'].value_counts().head(3)"
   ]
  },
  {
   "cell_type": "code",
   "execution_count": null,
   "id": "d08bc530",
   "metadata": {},
   "outputs": [],
   "source": [
    "#let us try to get unique values for album_artist \n",
    "\n",
    "topalbums['album_artist'] = topalbums['album'] + ' - ' + topalbums['artist'] "
   ]
  },
  {
   "cell_type": "code",
   "execution_count": null,
   "id": "bb817d7d",
   "metadata": {},
   "outputs": [],
   "source": [
    "topalbums.head(3)"
   ]
  },
  {
   "cell_type": "code",
   "execution_count": null,
   "id": "052c831b",
   "metadata": {},
   "outputs": [],
   "source": [
    "horriblealbums['album'].value_counts().head(2)"
   ]
  },
  {
   "cell_type": "code",
   "execution_count": null,
   "id": "868b678b",
   "metadata": {},
   "outputs": [],
   "source": [
    "horriblealbums['album_artist'] = horriblealbums['album'] + ' - ' + horriblealbums['artist']"
   ]
  },
  {
   "cell_type": "code",
   "execution_count": null,
   "id": "8cd82304",
   "metadata": {},
   "outputs": [],
   "source": [
    "horriblealbums.head(2)"
   ]
  },
  {
   "cell_type": "code",
   "execution_count": null,
   "id": "66e8e8b4",
   "metadata": {},
   "outputs": [],
   "source": [
    "all_albums = pd.concat([topalbums, horriblealbums], ignore_index=True)\n",
    "all_albums.shape"
   ]
  },
  {
   "cell_type": "code",
   "execution_count": null,
   "id": "67d6e8c4",
   "metadata": {},
   "outputs": [],
   "source": [
    "all_albums.head(550)s"
   ]
  },
  {
   "cell_type": "code",
   "execution_count": null,
   "id": "8015dcfb",
   "metadata": {},
   "outputs": [],
   "source": [
    "album_artist = all_albums['album_artist'].unique().tolist()"
   ]
  },
  {
   "cell_type": "code",
   "execution_count": null,
   "id": "8b555878",
   "metadata": {},
   "outputs": [],
   "source": [
    "len(album_artist)"
   ]
  },
  {
   "cell_type": "markdown",
   "id": "afe829e4",
   "metadata": {},
   "source": [
    "### Spotify Connection "
   ]
  },
  {
   "cell_type": "code",
   "execution_count": null,
   "id": "1fc27d37",
   "metadata": {},
   "outputs": [],
   "source": [
    "#%pip install pyarrow\n",
    "#%pip install joblib\n",
    "#%pip install tqdm\n",
    "#%pip install spotipy\n",
    "#%pip install python-dotenv\n",
    "#%pip install requests "
   ]
  },
  {
   "cell_type": "code",
   "execution_count": null,
   "id": "a163f66c",
   "metadata": {},
   "outputs": [],
   "source": [
    "import requests as rq\n",
    "import pandas as pd\n",
    "import pyarrow\n",
    "from joblib import Parallel, delayed\n",
    "from tqdm import tqdm\n",
    "import time\n",
    "import pymongo\n",
    "from passwords import *"
   ]
  },
  {
   "cell_type": "code",
   "execution_count": null,
   "id": "53fec587",
   "metadata": {},
   "outputs": [],
   "source": [
    "Client_ID"
   ]
  },
  {
   "cell_type": "code",
   "execution_count": null,
   "id": "8e634c8c",
   "metadata": {},
   "outputs": [],
   "source": [
    "# Obtener el TOKEN\n",
    "\n",
    "AUTH_URL = \"https://accounts.spotify.com/api/token\"\n",
    "\n",
    "creds = {\n",
    "    \"grant_type\": \"client_credentials\",\n",
    "    \"client_id\": Client_ID,\n",
    "    \"client_secret\": Client_secret\n",
    "}\n",
    "\n",
    "response = rq.post(AUTH_URL, \n",
    "                         data=creds, \n",
    "                         headers={\"Content-Type\": \"application/x-www-form-urlencoded\"})\n",
    "\n",
    "\n",
    "TOKEN = response.json()['access_token']\n",
    "\n",
    "# Conexión con la API\n",
    "\n",
    "url = \"https://api.spotify.com/\"\n",
    "\n",
    "headers = {\"Authorization\": f'Bearer {TOKEN}'}\n",
    "\n",
    "response = rq.get(url,headers=headers)\n",
    "response"
   ]
  },
  {
   "cell_type": "markdown",
   "id": "0d90704b",
   "metadata": {},
   "source": [
    "### Getting Album Information "
   ]
  },
  {
   "cell_type": "code",
   "execution_count": null,
   "id": "ed5a1f55",
   "metadata": {},
   "outputs": [],
   "source": [
    "albums = pd.DataFrame(all_albums['album'])\n",
    "albums.head(4)"
   ]
  },
  {
   "cell_type": "code",
   "execution_count": null,
   "id": "831abc60",
   "metadata": {},
   "outputs": [],
   "source": [
    "# Replace spaces with the '+' character in the album names\n",
    "consulta = [x.replace(' ', '+') for x in albums.album]\n",
    "\n",
    "# Construct a list of URLs for querying album information\n",
    "album_urls = [f'https://api.spotify.com/v1/search?q=album%3A{album}&type=album&limit=50&offset=0' for album in consulta]\n",
    "\n",
    "# Create a list of dictionaries with album information and corresponding URLs\n",
    "album_url_list = [{'album': album, 'url': url} for album, url in zip(albums.album, album_urls)]"
   ]
  },
  {
   "cell_type": "code",
   "execution_count": null,
   "id": "fdca90af",
   "metadata": {},
   "outputs": [],
   "source": [
    "album_data_list = []\n",
    "\n",
    "# Function to search and retrieve album information\n",
    "def search_spotify_info(album_url):\n",
    "    time.sleep(0.20)  # Pause between queries to avoid getting banned\n",
    "\n",
    "    try:\n",
    "        response = rq.get(album_url['url'], headers=headers)\n",
    "        rjson = response.json()['albums']['items']\n",
    "        for index, item in enumerate(rjson):\n",
    "            if item['name'].lower() == album_url['album'].lower():\n",
    "                album_data_list.append({\n",
    "                    'Name': item['name'],\n",
    "                    'Artist': item['artists'][0]['name'],\n",
    "                    'Popularity': item['popularity'],\n",
    "                    'Release Date': item['release_date'],\n",
    "                    'Total Tracks': item['total_tracks']\n",
    "                })\n",
    "                return rjson[index]\n",
    "\n",
    "        # If the album is not found, raise an exception to return None\n",
    "        raise Exception\n",
    "    except:\n",
    "        album_data_list.append({\n",
    "            'Name': None,\n",
    "            'Artist': None,\n",
    "            'Popularity': None,\n",
    "            'Release Date': None,\n",
    "            'Total Tracks': None\n",
    "        })\n",
    "        return {\n",
    "            'album_type': None,\n",
    "            'artists': None,\n",
    "            'available_markets': None,\n",
    "            'external_urls': None,\n",
    "            'href': None,\n",
    "            'id': None,\n",
    "            'images': None,\n",
    "            'name': None,\n",
    "            'release_date': None,\n",
    "            'release_date_precision': None,\n",
    "            'total_tracks': None,\n",
    "            'type': None,\n",
    "            'uri': None\n",
    "        }\n",
    "\n",
    "# Execute the function for each album URL\n",
    "for album_url in album_url_list:\n",
    "    search_spotify_info(album_url)\n",
    "\n",
    "# Create a DataFrame from the list of dictionaries\n",
    "df = pd.DataFrame(album_data_list)"
   ]
  },
  {
   "cell_type": "code",
   "execution_count": null,
   "id": "df4f851c",
   "metadata": {},
   "outputs": [],
   "source": [
    "df.head()"
   ]
  },
  {
   "cell_type": "code",
   "execution_count": null,
   "id": "3b9999e6",
   "metadata": {},
   "outputs": [],
   "source": []
  }
 ],
 "metadata": {
  "kernelspec": {
   "display_name": "clase",
   "language": "python",
   "name": "clase"
  },
  "language_info": {
   "codemirror_mode": {
    "name": "ipython",
    "version": 3
   },
   "file_extension": ".py",
   "mimetype": "text/x-python",
   "name": "python",
   "nbconvert_exporter": "python",
   "pygments_lexer": "ipython3",
   "version": "3.10.13"
  }
 },
 "nbformat": 4,
 "nbformat_minor": 5
}
