{
 "cells": [
  {
   "cell_type": "code",
   "execution_count": 1,
   "id": "1e4976af",
   "metadata": {},
   "outputs": [],
   "source": [
    "import pandas as pd\n",
    "import numpy as np\n",
    "import time \n",
    "\n",
    "import warnings\n",
    "warnings.filterwarnings('ignore')\n",
    "\n",
    "pd.set_option('display.max_columns', None)  # me muestre todas las columnas\n",
    "#pd.set_option('display.max_rows', None)  # me muestre todas las filas"
   ]
  },
  {
   "cell_type": "markdown",
   "id": "9258ec38",
   "metadata": {},
   "source": [
    "### List of albums I am interested on"
   ]
  },
  {
   "cell_type": "code",
   "execution_count": 2,
   "id": "1601205e",
   "metadata": {},
   "outputs": [
    {
     "data": {
      "text/html": [
       "<div>\n",
       "<style scoped>\n",
       "    .dataframe tbody tr th:only-of-type {\n",
       "        vertical-align: middle;\n",
       "    }\n",
       "\n",
       "    .dataframe tbody tr th {\n",
       "        vertical-align: top;\n",
       "    }\n",
       "\n",
       "    .dataframe thead th {\n",
       "        text-align: right;\n",
       "    }\n",
       "</style>\n",
       "<table border=\"1\" class=\"dataframe\">\n",
       "  <thead>\n",
       "    <tr style=\"text-align: right;\">\n",
       "      <th></th>\n",
       "      <th>toprankingorder</th>\n",
       "      <th>album</th>\n",
       "      <th>artist</th>\n",
       "      <th>year</th>\n",
       "    </tr>\n",
       "  </thead>\n",
       "  <tbody>\n",
       "    <tr>\n",
       "      <th>0</th>\n",
       "      <td>1</td>\n",
       "      <td>Sgt. Pepper's Lonely Hearts Club Band</td>\n",
       "      <td>The Beatles</td>\n",
       "      <td>1967</td>\n",
       "    </tr>\n",
       "    <tr>\n",
       "      <th>1</th>\n",
       "      <td>2</td>\n",
       "      <td>Pet Sounds</td>\n",
       "      <td>The Beach Boys</td>\n",
       "      <td>1966</td>\n",
       "    </tr>\n",
       "    <tr>\n",
       "      <th>2</th>\n",
       "      <td>3</td>\n",
       "      <td>Revolver</td>\n",
       "      <td>The Beatles</td>\n",
       "      <td>1966</td>\n",
       "    </tr>\n",
       "  </tbody>\n",
       "</table>\n",
       "</div>"
      ],
      "text/plain": [
       "   toprankingorder                                  album          artist  \\\n",
       "0                1  Sgt. Pepper's Lonely Hearts Club Band     The Beatles   \n",
       "1                2                             Pet Sounds  The Beach Boys   \n",
       "2                3                               Revolver     The Beatles   \n",
       "\n",
       "   year  \n",
       "0  1967  \n",
       "1  1966  \n",
       "2  1966  "
      ]
     },
     "execution_count": 2,
     "metadata": {},
     "output_type": "execute_result"
    }
   ],
   "source": [
    "topalbums = pd.read_csv('../data/clean/DB_Kaggle_top500albums_clean.csv', encoding='latin1')\n",
    "\n",
    "topalbums.head(3)"
   ]
  },
  {
   "cell_type": "code",
   "execution_count": 3,
   "id": "2bfd5150",
   "metadata": {},
   "outputs": [
    {
     "data": {
      "text/html": [
       "<div>\n",
       "<style scoped>\n",
       "    .dataframe tbody tr th:only-of-type {\n",
       "        vertical-align: middle;\n",
       "    }\n",
       "\n",
       "    .dataframe tbody tr th {\n",
       "        vertical-align: top;\n",
       "    }\n",
       "\n",
       "    .dataframe thead th {\n",
       "        text-align: right;\n",
       "    }\n",
       "</style>\n",
       "<table border=\"1\" class=\"dataframe\">\n",
       "  <thead>\n",
       "    <tr style=\"text-align: right;\">\n",
       "      <th></th>\n",
       "      <th>horriblerankingorder</th>\n",
       "      <th>album</th>\n",
       "      <th>artist</th>\n",
       "      <th>rationale</th>\n",
       "      <th>year</th>\n",
       "    </tr>\n",
       "  </thead>\n",
       "  <tbody>\n",
       "    <tr>\n",
       "      <th>0</th>\n",
       "      <td>50</td>\n",
       "      <td>Its Hard</td>\n",
       "      <td>The Who</td>\n",
       "      <td>In the early Eighties, Pete Townshend was jugg...</td>\n",
       "      <td>1982</td>\n",
       "    </tr>\n",
       "    <tr>\n",
       "      <th>1</th>\n",
       "      <td>49</td>\n",
       "      <td>The Bridge</td>\n",
       "      <td>Billy Joel</td>\n",
       "      <td>Billy Joel had nearly a solid decade of succes...</td>\n",
       "      <td>1986</td>\n",
       "    </tr>\n",
       "    <tr>\n",
       "      <th>2</th>\n",
       "      <td>48</td>\n",
       "      <td>Van Halen III</td>\n",
       "      <td>Van Halen</td>\n",
       "      <td>When original Van Halen singer David Lee Roth ...</td>\n",
       "      <td>1998</td>\n",
       "    </tr>\n",
       "  </tbody>\n",
       "</table>\n",
       "</div>"
      ],
      "text/plain": [
       "   horriblerankingorder          album      artist  \\\n",
       "0                    50       Its Hard     The Who   \n",
       "1                    49     The Bridge  Billy Joel   \n",
       "2                    48  Van Halen III   Van Halen   \n",
       "\n",
       "                                           rationale  year  \n",
       "0  In the early Eighties, Pete Townshend was jugg...  1982  \n",
       "1  Billy Joel had nearly a solid decade of succes...  1986  \n",
       "2  When original Van Halen singer David Lee Roth ...  1998  "
      ]
     },
     "execution_count": 3,
     "metadata": {},
     "output_type": "execute_result"
    }
   ],
   "source": [
    "horriblealbums = pd.read_csv('../data/clean/WS_50horriblealbums_clean.csv', encoding='latin1')\n",
    "\n",
    "horriblealbums.head(3)"
   ]
  },
  {
   "cell_type": "code",
   "execution_count": 4,
   "id": "458f365b",
   "metadata": {},
   "outputs": [
    {
     "data": {
      "text/plain": [
       "album\n",
       "Greatest Hits                            3\n",
       "Let It Be                                2\n",
       "Sgt. Pepper's Lonely Hearts Club Band    1\n",
       "Name: count, dtype: int64"
      ]
     },
     "execution_count": 4,
     "metadata": {},
     "output_type": "execute_result"
    }
   ],
   "source": [
    "#need to be conscious of the fact that some albums have the same name \n",
    "\n",
    "topalbums['album'].value_counts().head(3)"
   ]
  },
  {
   "cell_type": "code",
   "execution_count": 5,
   "id": "d08bc530",
   "metadata": {},
   "outputs": [],
   "source": [
    "#let us try to get unique values for album_artist \n",
    "\n",
    "topalbums['album_artist'] = topalbums['album'] + ' - ' + topalbums['artist'] "
   ]
  },
  {
   "cell_type": "code",
   "execution_count": 6,
   "id": "bb817d7d",
   "metadata": {},
   "outputs": [
    {
     "data": {
      "text/html": [
       "<div>\n",
       "<style scoped>\n",
       "    .dataframe tbody tr th:only-of-type {\n",
       "        vertical-align: middle;\n",
       "    }\n",
       "\n",
       "    .dataframe tbody tr th {\n",
       "        vertical-align: top;\n",
       "    }\n",
       "\n",
       "    .dataframe thead th {\n",
       "        text-align: right;\n",
       "    }\n",
       "</style>\n",
       "<table border=\"1\" class=\"dataframe\">\n",
       "  <thead>\n",
       "    <tr style=\"text-align: right;\">\n",
       "      <th></th>\n",
       "      <th>toprankingorder</th>\n",
       "      <th>album</th>\n",
       "      <th>artist</th>\n",
       "      <th>year</th>\n",
       "      <th>album_artist</th>\n",
       "    </tr>\n",
       "  </thead>\n",
       "  <tbody>\n",
       "    <tr>\n",
       "      <th>0</th>\n",
       "      <td>1</td>\n",
       "      <td>Sgt. Pepper's Lonely Hearts Club Band</td>\n",
       "      <td>The Beatles</td>\n",
       "      <td>1967</td>\n",
       "      <td>Sgt. Pepper's Lonely Hearts Club Band - The Be...</td>\n",
       "    </tr>\n",
       "    <tr>\n",
       "      <th>1</th>\n",
       "      <td>2</td>\n",
       "      <td>Pet Sounds</td>\n",
       "      <td>The Beach Boys</td>\n",
       "      <td>1966</td>\n",
       "      <td>Pet Sounds - The Beach Boys</td>\n",
       "    </tr>\n",
       "    <tr>\n",
       "      <th>2</th>\n",
       "      <td>3</td>\n",
       "      <td>Revolver</td>\n",
       "      <td>The Beatles</td>\n",
       "      <td>1966</td>\n",
       "      <td>Revolver - The Beatles</td>\n",
       "    </tr>\n",
       "  </tbody>\n",
       "</table>\n",
       "</div>"
      ],
      "text/plain": [
       "   toprankingorder                                  album          artist  \\\n",
       "0                1  Sgt. Pepper's Lonely Hearts Club Band     The Beatles   \n",
       "1                2                             Pet Sounds  The Beach Boys   \n",
       "2                3                               Revolver     The Beatles   \n",
       "\n",
       "   year                                       album_artist  \n",
       "0  1967  Sgt. Pepper's Lonely Hearts Club Band - The Be...  \n",
       "1  1966                        Pet Sounds - The Beach Boys  \n",
       "2  1966                             Revolver - The Beatles  "
      ]
     },
     "execution_count": 6,
     "metadata": {},
     "output_type": "execute_result"
    }
   ],
   "source": [
    "topalbums.head(3)"
   ]
  },
  {
   "cell_type": "code",
   "execution_count": 7,
   "id": "052c831b",
   "metadata": {},
   "outputs": [
    {
     "data": {
      "text/plain": [
       "album\n",
       "Its Hard           1\n",
       "Leather Jackets    1\n",
       "Name: count, dtype: int64"
      ]
     },
     "execution_count": 7,
     "metadata": {},
     "output_type": "execute_result"
    }
   ],
   "source": [
    "horriblealbums['album'].value_counts().head(2)"
   ]
  },
  {
   "cell_type": "code",
   "execution_count": 8,
   "id": "868b678b",
   "metadata": {},
   "outputs": [],
   "source": [
    "horriblealbums['album_artist'] = horriblealbums['album'] + ' - ' + horriblealbums['artist']"
   ]
  },
  {
   "cell_type": "code",
   "execution_count": 9,
   "id": "8cd82304",
   "metadata": {},
   "outputs": [
    {
     "data": {
      "text/html": [
       "<div>\n",
       "<style scoped>\n",
       "    .dataframe tbody tr th:only-of-type {\n",
       "        vertical-align: middle;\n",
       "    }\n",
       "\n",
       "    .dataframe tbody tr th {\n",
       "        vertical-align: top;\n",
       "    }\n",
       "\n",
       "    .dataframe thead th {\n",
       "        text-align: right;\n",
       "    }\n",
       "</style>\n",
       "<table border=\"1\" class=\"dataframe\">\n",
       "  <thead>\n",
       "    <tr style=\"text-align: right;\">\n",
       "      <th></th>\n",
       "      <th>horriblerankingorder</th>\n",
       "      <th>album</th>\n",
       "      <th>artist</th>\n",
       "      <th>rationale</th>\n",
       "      <th>year</th>\n",
       "      <th>album_artist</th>\n",
       "    </tr>\n",
       "  </thead>\n",
       "  <tbody>\n",
       "    <tr>\n",
       "      <th>0</th>\n",
       "      <td>50</td>\n",
       "      <td>Its Hard</td>\n",
       "      <td>The Who</td>\n",
       "      <td>In the early Eighties, Pete Townshend was jugg...</td>\n",
       "      <td>1982</td>\n",
       "      <td>Its Hard - The Who</td>\n",
       "    </tr>\n",
       "    <tr>\n",
       "      <th>1</th>\n",
       "      <td>49</td>\n",
       "      <td>The Bridge</td>\n",
       "      <td>Billy Joel</td>\n",
       "      <td>Billy Joel had nearly a solid decade of succes...</td>\n",
       "      <td>1986</td>\n",
       "      <td>The Bridge - Billy Joel</td>\n",
       "    </tr>\n",
       "  </tbody>\n",
       "</table>\n",
       "</div>"
      ],
      "text/plain": [
       "   horriblerankingorder       album      artist  \\\n",
       "0                    50    Its Hard     The Who   \n",
       "1                    49  The Bridge  Billy Joel   \n",
       "\n",
       "                                           rationale  year  \\\n",
       "0  In the early Eighties, Pete Townshend was jugg...  1982   \n",
       "1  Billy Joel had nearly a solid decade of succes...  1986   \n",
       "\n",
       "              album_artist  \n",
       "0       Its Hard - The Who  \n",
       "1  The Bridge - Billy Joel  "
      ]
     },
     "execution_count": 9,
     "metadata": {},
     "output_type": "execute_result"
    }
   ],
   "source": [
    "horriblealbums.head(2)"
   ]
  },
  {
   "cell_type": "code",
   "execution_count": 10,
   "id": "66e8e8b4",
   "metadata": {},
   "outputs": [
    {
     "data": {
      "text/plain": [
       "(550, 7)"
      ]
     },
     "execution_count": 10,
     "metadata": {},
     "output_type": "execute_result"
    }
   ],
   "source": [
    "all_albums = pd.concat([topalbums, horriblealbums], ignore_index=True)\n",
    "all_albums.shape"
   ]
  },
  {
   "cell_type": "code",
   "execution_count": 11,
   "id": "67d6e8c4",
   "metadata": {},
   "outputs": [
    {
     "data": {
      "text/html": [
       "<div>\n",
       "<style scoped>\n",
       "    .dataframe tbody tr th:only-of-type {\n",
       "        vertical-align: middle;\n",
       "    }\n",
       "\n",
       "    .dataframe tbody tr th {\n",
       "        vertical-align: top;\n",
       "    }\n",
       "\n",
       "    .dataframe thead th {\n",
       "        text-align: right;\n",
       "    }\n",
       "</style>\n",
       "<table border=\"1\" class=\"dataframe\">\n",
       "  <thead>\n",
       "    <tr style=\"text-align: right;\">\n",
       "      <th></th>\n",
       "      <th>toprankingorder</th>\n",
       "      <th>album</th>\n",
       "      <th>artist</th>\n",
       "      <th>year</th>\n",
       "      <th>album_artist</th>\n",
       "      <th>horriblerankingorder</th>\n",
       "      <th>rationale</th>\n",
       "    </tr>\n",
       "  </thead>\n",
       "  <tbody>\n",
       "    <tr>\n",
       "      <th>0</th>\n",
       "      <td>1.0</td>\n",
       "      <td>Sgt. Pepper's Lonely Hearts Club Band</td>\n",
       "      <td>The Beatles</td>\n",
       "      <td>1967</td>\n",
       "      <td>Sgt. Pepper's Lonely Hearts Club Band - The Be...</td>\n",
       "      <td>NaN</td>\n",
       "      <td>NaN</td>\n",
       "    </tr>\n",
       "    <tr>\n",
       "      <th>1</th>\n",
       "      <td>2.0</td>\n",
       "      <td>Pet Sounds</td>\n",
       "      <td>The Beach Boys</td>\n",
       "      <td>1966</td>\n",
       "      <td>Pet Sounds - The Beach Boys</td>\n",
       "      <td>NaN</td>\n",
       "      <td>NaN</td>\n",
       "    </tr>\n",
       "    <tr>\n",
       "      <th>2</th>\n",
       "      <td>3.0</td>\n",
       "      <td>Revolver</td>\n",
       "      <td>The Beatles</td>\n",
       "      <td>1966</td>\n",
       "      <td>Revolver - The Beatles</td>\n",
       "      <td>NaN</td>\n",
       "      <td>NaN</td>\n",
       "    </tr>\n",
       "    <tr>\n",
       "      <th>3</th>\n",
       "      <td>4.0</td>\n",
       "      <td>Highway 61 Revisited</td>\n",
       "      <td>Bob Dylan</td>\n",
       "      <td>1965</td>\n",
       "      <td>Highway 61 Revisited - Bob Dylan</td>\n",
       "      <td>NaN</td>\n",
       "      <td>NaN</td>\n",
       "    </tr>\n",
       "    <tr>\n",
       "      <th>4</th>\n",
       "      <td>5.0</td>\n",
       "      <td>Rubber Soul</td>\n",
       "      <td>The Beatles</td>\n",
       "      <td>1965</td>\n",
       "      <td>Rubber Soul - The Beatles</td>\n",
       "      <td>NaN</td>\n",
       "      <td>NaN</td>\n",
       "    </tr>\n",
       "    <tr>\n",
       "      <th>...</th>\n",
       "      <td>...</td>\n",
       "      <td>...</td>\n",
       "      <td>...</td>\n",
       "      <td>...</td>\n",
       "      <td>...</td>\n",
       "      <td>...</td>\n",
       "      <td>...</td>\n",
       "    </tr>\n",
       "    <tr>\n",
       "      <th>545</th>\n",
       "      <td>NaN</td>\n",
       "      <td>Down in the Groove</td>\n",
       "      <td>Bob Dylan</td>\n",
       "      <td>1988</td>\n",
       "      <td>Down in the Groove - Bob Dylan</td>\n",
       "      <td>5.0</td>\n",
       "      <td>Dylan aficionados have been arguing for decade...</td>\n",
       "    </tr>\n",
       "    <tr>\n",
       "      <th>546</th>\n",
       "      <td>NaN</td>\n",
       "      <td>Metal Magic</td>\n",
       "      <td>Pantera</td>\n",
       "      <td>1983</td>\n",
       "      <td>Metal Magic - Pantera</td>\n",
       "      <td>4.0</td>\n",
       "      <td>Pantera are undoubtedly one of the greatest me...</td>\n",
       "    </tr>\n",
       "    <tr>\n",
       "      <th>547</th>\n",
       "      <td>NaN</td>\n",
       "      <td>Union</td>\n",
       "      <td>Yes</td>\n",
       "      <td>1991</td>\n",
       "      <td>Union - Yes</td>\n",
       "      <td>3.0</td>\n",
       "      <td>By the late Eighties, prog-rockers Yes had spl...</td>\n",
       "    </tr>\n",
       "    <tr>\n",
       "      <th>548</th>\n",
       "      <td>NaN</td>\n",
       "      <td>Squeeze</td>\n",
       "      <td>The Velvet Underground</td>\n",
       "      <td>1973</td>\n",
       "      <td>Squeeze - The Velvet Underground</td>\n",
       "      <td>2.0</td>\n",
       "      <td>The Velvet Underground were a band in name onl...</td>\n",
       "    </tr>\n",
       "    <tr>\n",
       "      <th>549</th>\n",
       "      <td>NaN</td>\n",
       "      <td>Ye</td>\n",
       "      <td>Kanye West</td>\n",
       "      <td>2018</td>\n",
       "      <td>Ye - Kanye West</td>\n",
       "      <td>1.0</td>\n",
       "      <td>The past five years of Kanye Westâs life hav...</td>\n",
       "    </tr>\n",
       "  </tbody>\n",
       "</table>\n",
       "<p>550 rows × 7 columns</p>\n",
       "</div>"
      ],
      "text/plain": [
       "     toprankingorder                                  album  \\\n",
       "0                1.0  Sgt. Pepper's Lonely Hearts Club Band   \n",
       "1                2.0                             Pet Sounds   \n",
       "2                3.0                               Revolver   \n",
       "3                4.0                   Highway 61 Revisited   \n",
       "4                5.0                            Rubber Soul   \n",
       "..               ...                                    ...   \n",
       "545              NaN                     Down in the Groove   \n",
       "546              NaN                            Metal Magic   \n",
       "547              NaN                                  Union   \n",
       "548              NaN                                Squeeze   \n",
       "549              NaN                                     Ye   \n",
       "\n",
       "                     artist  year  \\\n",
       "0               The Beatles  1967   \n",
       "1            The Beach Boys  1966   \n",
       "2               The Beatles  1966   \n",
       "3                 Bob Dylan  1965   \n",
       "4               The Beatles  1965   \n",
       "..                      ...   ...   \n",
       "545               Bob Dylan  1988   \n",
       "546                 Pantera  1983   \n",
       "547                     Yes  1991   \n",
       "548  The Velvet Underground  1973   \n",
       "549              Kanye West  2018   \n",
       "\n",
       "                                          album_artist  horriblerankingorder  \\\n",
       "0    Sgt. Pepper's Lonely Hearts Club Band - The Be...                   NaN   \n",
       "1                          Pet Sounds - The Beach Boys                   NaN   \n",
       "2                               Revolver - The Beatles                   NaN   \n",
       "3                     Highway 61 Revisited - Bob Dylan                   NaN   \n",
       "4                            Rubber Soul - The Beatles                   NaN   \n",
       "..                                                 ...                   ...   \n",
       "545                     Down in the Groove - Bob Dylan                   5.0   \n",
       "546                              Metal Magic - Pantera                   4.0   \n",
       "547                                        Union - Yes                   3.0   \n",
       "548                   Squeeze - The Velvet Underground                   2.0   \n",
       "549                                    Ye - Kanye West                   1.0   \n",
       "\n",
       "                                             rationale  \n",
       "0                                                  NaN  \n",
       "1                                                  NaN  \n",
       "2                                                  NaN  \n",
       "3                                                  NaN  \n",
       "4                                                  NaN  \n",
       "..                                                 ...  \n",
       "545  Dylan aficionados have been arguing for decade...  \n",
       "546  Pantera are undoubtedly one of the greatest me...  \n",
       "547  By the late Eighties, prog-rockers Yes had spl...  \n",
       "548  The Velvet Underground were a band in name onl...  \n",
       "549  The past five years of Kanye Westâs life hav...  \n",
       "\n",
       "[550 rows x 7 columns]"
      ]
     },
     "execution_count": 11,
     "metadata": {},
     "output_type": "execute_result"
    }
   ],
   "source": [
    "all_albums.head(550)"
   ]
  },
  {
   "cell_type": "code",
   "execution_count": 12,
   "id": "8015dcfb",
   "metadata": {},
   "outputs": [],
   "source": [
    "album_artist = all_albums['album_artist'].unique().tolist()"
   ]
  },
  {
   "cell_type": "code",
   "execution_count": 13,
   "id": "8b555878",
   "metadata": {},
   "outputs": [
    {
     "data": {
      "text/plain": [
       "550"
      ]
     },
     "execution_count": 13,
     "metadata": {},
     "output_type": "execute_result"
    }
   ],
   "source": [
    "len(album_artist)"
   ]
  },
  {
   "cell_type": "markdown",
   "id": "afe829e4",
   "metadata": {},
   "source": [
    "### Spotify Connection "
   ]
  },
  {
   "cell_type": "code",
   "execution_count": 14,
   "id": "1fc27d37",
   "metadata": {},
   "outputs": [],
   "source": [
    "#%pip install pyarrow\n",
    "#%pip install joblib\n",
    "#%pip install tqdm\n",
    "#%pip install spotipy\n",
    "#%pip install python-dotenv\n",
    "#%pip install requests "
   ]
  },
  {
   "cell_type": "code",
   "execution_count": 72,
   "id": "a163f66c",
   "metadata": {},
   "outputs": [],
   "source": [
    "import requests as rq\n",
    "import pandas as pd\n",
    "import pyarrow\n",
    "from joblib import Parallel, delayed\n",
    "from tqdm import tqdm\n",
    "import time\n",
    "import pymongo\n",
    "from passwords import *"
   ]
  },
  {
   "cell_type": "code",
   "execution_count": 73,
   "id": "53fec587",
   "metadata": {},
   "outputs": [
    {
     "data": {
      "text/plain": [
       "'eda83f2b172041569cc4822a12a4c8ab'"
      ]
     },
     "execution_count": 73,
     "metadata": {},
     "output_type": "execute_result"
    }
   ],
   "source": [
    "Client_ID"
   ]
  },
  {
   "cell_type": "code",
   "execution_count": 74,
   "id": "8e634c8c",
   "metadata": {},
   "outputs": [
    {
     "data": {
      "text/plain": [
       "<Response [200]>"
      ]
     },
     "execution_count": 74,
     "metadata": {},
     "output_type": "execute_result"
    }
   ],
   "source": [
    "# Obtener el TOKEN\n",
    "\n",
    "AUTH_URL = \"https://accounts.spotify.com/api/token\"\n",
    "\n",
    "creds = {\n",
    "    \"grant_type\": \"client_credentials\",\n",
    "    \"client_id\": Client_ID,\n",
    "    \"client_secret\": Client_secret\n",
    "}\n",
    "\n",
    "response = rq.post(AUTH_URL, \n",
    "                         data=creds, \n",
    "                         headers={\"Content-Type\": \"application/x-www-form-urlencoded\"})\n",
    "\n",
    "\n",
    "TOKEN = response.json()['access_token']\n",
    "\n",
    "# Conexión con la API\n",
    "\n",
    "url = \"https://api.spotify.com/\"\n",
    "\n",
    "headers = {\"Authorization\": f'Bearer {TOKEN}'}\n",
    "\n",
    "response = rq.get(url,headers=headers)\n",
    "response"
   ]
  },
  {
   "cell_type": "markdown",
   "id": "0d90704b",
   "metadata": {},
   "source": [
    "### Getting Album Information "
   ]
  },
  {
   "cell_type": "code",
   "execution_count": 75,
   "id": "ed5a1f55",
   "metadata": {},
   "outputs": [
    {
     "data": {
      "text/html": [
       "<div>\n",
       "<style scoped>\n",
       "    .dataframe tbody tr th:only-of-type {\n",
       "        vertical-align: middle;\n",
       "    }\n",
       "\n",
       "    .dataframe tbody tr th {\n",
       "        vertical-align: top;\n",
       "    }\n",
       "\n",
       "    .dataframe thead th {\n",
       "        text-align: right;\n",
       "    }\n",
       "</style>\n",
       "<table border=\"1\" class=\"dataframe\">\n",
       "  <thead>\n",
       "    <tr style=\"text-align: right;\">\n",
       "      <th></th>\n",
       "      <th>album</th>\n",
       "    </tr>\n",
       "  </thead>\n",
       "  <tbody>\n",
       "    <tr>\n",
       "      <th>0</th>\n",
       "      <td>Sgt. Pepper's Lonely Hearts Club Band</td>\n",
       "    </tr>\n",
       "    <tr>\n",
       "      <th>1</th>\n",
       "      <td>Pet Sounds</td>\n",
       "    </tr>\n",
       "    <tr>\n",
       "      <th>2</th>\n",
       "      <td>Revolver</td>\n",
       "    </tr>\n",
       "    <tr>\n",
       "      <th>3</th>\n",
       "      <td>Highway 61 Revisited</td>\n",
       "    </tr>\n",
       "  </tbody>\n",
       "</table>\n",
       "</div>"
      ],
      "text/plain": [
       "                                   album\n",
       "0  Sgt. Pepper's Lonely Hearts Club Band\n",
       "1                             Pet Sounds\n",
       "2                               Revolver\n",
       "3                   Highway 61 Revisited"
      ]
     },
     "execution_count": 75,
     "metadata": {},
     "output_type": "execute_result"
    }
   ],
   "source": [
    "albums = pd.DataFrame(all_albums['album'])\n",
    "albums.head(4)"
   ]
  },
  {
   "cell_type": "code",
   "execution_count": 76,
   "id": "4a0fcfc0",
   "metadata": {},
   "outputs": [],
   "source": [
    "#test "
   ]
  },
  {
   "cell_type": "code",
   "execution_count": 77,
   "id": "9ec93eca",
   "metadata": {},
   "outputs": [],
   "source": [
    "url = 'https://api.spotify.com/v1/search?q=album%3Apet+sounds&type=album&limit=50&offset=0'"
   ]
  },
  {
   "cell_type": "code",
   "execution_count": 78,
   "id": "399af65d",
   "metadata": {},
   "outputs": [
    {
     "data": {
      "text/plain": [
       "200"
      ]
     },
     "execution_count": 78,
     "metadata": {},
     "output_type": "execute_result"
    }
   ],
   "source": [
    "res = rq.get(url, headers=headers)\n",
    "res.status_code "
   ]
  },
  {
   "cell_type": "code",
   "execution_count": 79,
   "id": "bbff8a2e",
   "metadata": {},
   "outputs": [],
   "source": [
    "data = res.json()"
   ]
  },
  {
   "cell_type": "code",
   "execution_count": 80,
   "id": "877a8d29",
   "metadata": {},
   "outputs": [
    {
     "data": {
      "text/plain": [
       "dict"
      ]
     },
     "execution_count": 80,
     "metadata": {},
     "output_type": "execute_result"
    }
   ],
   "source": [
    "type(data)"
   ]
  },
  {
   "cell_type": "code",
   "execution_count": 81,
   "id": "28b3f3d5",
   "metadata": {},
   "outputs": [
    {
     "data": {
      "text/plain": [
       "dict_keys(['albums'])"
      ]
     },
     "execution_count": 81,
     "metadata": {},
     "output_type": "execute_result"
    }
   ],
   "source": [
    "data.keys()"
   ]
  },
  {
   "cell_type": "code",
   "execution_count": 82,
   "id": "ff7c7918",
   "metadata": {},
   "outputs": [
    {
     "data": {
      "text/plain": [
       "dict_keys(['href', 'items', 'limit', 'next', 'offset', 'previous', 'total'])"
      ]
     },
     "execution_count": 82,
     "metadata": {},
     "output_type": "execute_result"
    }
   ],
   "source": [
    "data['albums'].keys()"
   ]
  },
  {
   "cell_type": "code",
   "execution_count": 83,
   "id": "18ebe9c1",
   "metadata": {},
   "outputs": [
    {
     "data": {
      "text/plain": [
       "dict_keys(['album_type', 'artists', 'available_markets', 'external_urls', 'href', 'id', 'images', 'name', 'release_date', 'release_date_precision', 'total_tracks', 'type', 'uri'])"
      ]
     },
     "execution_count": 83,
     "metadata": {},
     "output_type": "execute_result"
    }
   ],
   "source": [
    "data['albums']['items'][0].keys()"
   ]
  },
  {
   "cell_type": "code",
   "execution_count": 84,
   "id": "c2b97c13",
   "metadata": {},
   "outputs": [
    {
     "data": {
      "text/plain": [
       "'6GphKx2QAPRoVGWE9D7ou8'"
      ]
     },
     "execution_count": 84,
     "metadata": {},
     "output_type": "execute_result"
    }
   ],
   "source": [
    "#quiero el id del album en Spotify \n",
    "data['albums']['items'][0]['id']"
   ]
  },
  {
   "cell_type": "code",
   "execution_count": 85,
   "id": "4fb28646",
   "metadata": {},
   "outputs": [
    {
     "data": {
      "text/plain": [
       "'Pet Sounds (Original Mono & Stereo Mix)'"
      ]
     },
     "execution_count": 85,
     "metadata": {},
     "output_type": "execute_result"
    }
   ],
   "source": [
    "#quiero el nombre del album \n",
    "data['albums']['items'][0]['name']"
   ]
  },
  {
   "cell_type": "code",
   "execution_count": 86,
   "id": "f3548f69",
   "metadata": {},
   "outputs": [
    {
     "data": {
      "text/plain": [
       "'The Beach Boys'"
      ]
     },
     "execution_count": 86,
     "metadata": {},
     "output_type": "execute_result"
    }
   ],
   "source": [
    "#quiero el nombre del artista del album \n",
    "data['albums']['items'][0]['artists'][0]['name']"
   ]
  },
  {
   "cell_type": "code",
   "execution_count": 87,
   "id": "5fd7cc3f",
   "metadata": {},
   "outputs": [
    {
     "data": {
      "text/plain": [
       "'3oDbviiivRWhXwIE8hxkVV'"
      ]
     },
     "execution_count": 87,
     "metadata": {},
     "output_type": "execute_result"
    }
   ],
   "source": [
    "#quiero el id del artista del album \n",
    "data['albums']['items'][0]['artists'][0]['id']"
   ]
  },
  {
   "cell_type": "code",
   "execution_count": 88,
   "id": "ddb6ee4c",
   "metadata": {
    "scrolled": true
   },
   "outputs": [],
   "source": [
    "#quiero el popularity del album \n",
    "#data['albums']['items'][0]['popularity']"
   ]
  },
  {
   "cell_type": "code",
   "execution_count": 89,
   "id": "18809324",
   "metadata": {},
   "outputs": [
    {
     "data": {
      "text/plain": [
       "'1966-06-16'"
      ]
     },
     "execution_count": 89,
     "metadata": {},
     "output_type": "execute_result"
    }
   ],
   "source": [
    "#quiero el release_date del album \n",
    "data['albums']['items'][0]['release_date']"
   ]
  },
  {
   "cell_type": "code",
   "execution_count": 90,
   "id": "0033e946",
   "metadata": {},
   "outputs": [
    {
     "data": {
      "text/plain": [
       "27"
      ]
     },
     "execution_count": 90,
     "metadata": {},
     "output_type": "execute_result"
    }
   ],
   "source": [
    "#quiero el total de tracks del album \n",
    "data['albums']['items'][0]['total_tracks']"
   ]
  },
  {
   "cell_type": "code",
   "execution_count": 91,
   "id": "831abc60",
   "metadata": {},
   "outputs": [],
   "source": [
    "# Replace spaces with the '+' character in the album names\n",
    "consulta = [x.replace(' ', '+') for x in albums.album]\n",
    "\n",
    "# Construct a list of URLs for querying album information\n",
    "album_urls = [f'https://api.spotify.com/v1/search?q=album%3A{album}&type=album&limit=50&offset=0' for album in consulta]\n",
    "\n",
    "# Create a list of dictionaries with album information and corresponding URLs\n",
    "album_url_list = [{'album': album, 'url': url} for album, url in zip(albums.album, album_urls)]"
   ]
  },
  {
   "cell_type": "code",
   "execution_count": 95,
   "id": "35437ddf",
   "metadata": {},
   "outputs": [
    {
     "name": "stdout",
     "output_type": "stream",
     "text": [
      "An error occurred: Album not found\n",
      "An error occurred: Album not found\n",
      "An error occurred: Album not found\n",
      "An error occurred: Album not found\n",
      "An error occurred: Album not found\n",
      "An error occurred: Album not found\n",
      "An error occurred: Album not found\n",
      "An error occurred: Album not found\n",
      "An error occurred: Album not found\n",
      "An error occurred: Album not found\n",
      "An error occurred: Album not found\n",
      "An error occurred: Album not found\n",
      "An error occurred: Album not found\n",
      "An error occurred: Album not found\n",
      "An error occurred: Album not found\n",
      "An error occurred: Album not found\n",
      "An error occurred: Album not found\n",
      "An error occurred: Album not found\n",
      "An error occurred: Album not found\n",
      "An error occurred: Album not found\n",
      "An error occurred: Album not found\n",
      "An error occurred: Album not found\n",
      "An error occurred: Album not found\n",
      "An error occurred: Album not found\n",
      "An error occurred: Album not found\n",
      "An error occurred: Album not found\n",
      "An error occurred: Album not found\n",
      "An error occurred: Album not found\n",
      "An error occurred: Album not found\n",
      "An error occurred: Album not found\n",
      "An error occurred: Album not found\n",
      "An error occurred: Album not found\n",
      "An error occurred: Album not found\n",
      "An error occurred: Album not found\n",
      "An error occurred: Album not found\n",
      "An error occurred: Album not found\n",
      "An error occurred: Album not found\n",
      "An error occurred: Album not found\n",
      "An error occurred: Album not found\n",
      "An error occurred: Album not found\n",
      "An error occurred: Album not found\n",
      "An error occurred: Album not found\n",
      "An error occurred: Album not found\n",
      "An error occurred: Album not found\n",
      "An error occurred: Album not found\n",
      "An error occurred: Album not found\n",
      "An error occurred: Album not found\n",
      "An error occurred: Album not found\n",
      "An error occurred: Album not found\n",
      "An error occurred: Album not found\n",
      "An error occurred: Album not found\n",
      "An error occurred: Album not found\n",
      "An error occurred: Album not found\n",
      "An error occurred: Album not found\n",
      "An error occurred: Album not found\n",
      "An error occurred: Album not found\n",
      "An error occurred: Album not found\n",
      "An error occurred: Album not found\n",
      "An error occurred: Album not found\n",
      "An error occurred: Album not found\n",
      "An error occurred: Album not found\n",
      "An error occurred: Album not found\n",
      "An error occurred: Album not found\n",
      "An error occurred: Album not found\n",
      "An error occurred: Album not found\n",
      "An error occurred: Album not found\n",
      "An error occurred: Album not found\n",
      "An error occurred: Album not found\n",
      "An error occurred: Album not found\n",
      "An error occurred: Album not found\n",
      "An error occurred: Album not found\n",
      "An error occurred: Album not found\n",
      "An error occurred: Album not found\n",
      "An error occurred: Album not found\n",
      "An error occurred: Album not found\n",
      "An error occurred: Album not found\n",
      "An error occurred: Album not found\n",
      "An error occurred: Album not found\n",
      "An error occurred: Album not found\n",
      "An error occurred: Album not found\n",
      "An error occurred: Album not found\n",
      "An error occurred: Album not found\n",
      "An error occurred: Album not found\n",
      "An error occurred: Album not found\n",
      "An error occurred: Album not found\n",
      "An error occurred: Album not found\n",
      "An error occurred: 400 Client Error: Bad Request for url: https://api.spotify.com/v1/search?q=album%3A#1+Record&type=album&limit=50&offset=0\n",
      "An error occurred: Album not found\n",
      "An error occurred: Album not found\n",
      "An error occurred: Album not found\n",
      "An error occurred: Album not found\n",
      "An error occurred: Album not found\n",
      "An error occurred: Album not found\n",
      "An error occurred: Album not found\n",
      "An error occurred: Album not found\n",
      "An error occurred: Album not found\n",
      "An error occurred: Album not found\n",
      "An error occurred: Album not found\n",
      "An error occurred: Album not found\n",
      "An error occurred: Album not found\n",
      "An error occurred: Album not found\n",
      "An error occurred: Album not found\n",
      "An error occurred: Album not found\n",
      "An error occurred: Album not found\n"
     ]
    }
   ],
   "source": [
    "# List to store the retrieved album data\n",
    "album_data_list = []\n",
    "\n",
    "# Function to search and retrieve album information\n",
    "def search_spotify_info(album_url):\n",
    "    time.sleep(0.20)  # Pause between queries to avoid getting banned\n",
    "\n",
    "    try:\n",
    "        response = rq.get(album_url['url'], headers=headers)\n",
    "        response.raise_for_status()  # Check for request errors\n",
    "        data = response.json()\n",
    "        rjson = data.get('albums', {}).get('items', [])\n",
    "\n",
    "        for index, item in enumerate(rjson):\n",
    "            if item['name'].lower() == album_url['album'].lower():\n",
    "                album_data_list.append({\n",
    "                    'ID': item['id'],  # Spotify ID for the album\n",
    "                    'Name': item['name'],\n",
    "                    'Artist': item['artists'][0]['name'],\n",
    "                    #'Popularity': item['popularity'],\n",
    "                    'Release Date': item['release_date'],\n",
    "                    'Total Tracks': item['total_tracks']\n",
    "                })\n",
    "                \n",
    "                return rjson[index]\n",
    "\n",
    "        # If the album is not found, raise an exception to return None\n",
    "        raise Exception(\"Album not found\")\n",
    "    except Exception as e:\n",
    "        print(f\"An error occurred: {e}\")\n",
    "        album_data_list.append({\n",
    "            'ID': None,\n",
    "            'Name': None,\n",
    "            'Artist': None,\n",
    "            'Popularity': None,\n",
    "            'Release Date': None,\n",
    "            'Total Tracks': None\n",
    "        })\n",
    "        return {\n",
    "            'album_type': None,\n",
    "            'artists': None,\n",
    "            'available_markets': None,\n",
    "            'external_urls': None,\n",
    "            'href': None,\n",
    "            'id': None,\n",
    "            'images': None,\n",
    "            'name': None,\n",
    "            'release_date': None,\n",
    "            'release_date_precision': None,\n",
    "            'total_tracks': None,\n",
    "            'type': None,\n",
    "            'uri': None\n",
    "        }\n",
    "    \n",
    "# Execute the function for each album URL\n",
    "for album_url in album_url_list:\n",
    "    search_spotify_info(album_url)\n",
    "\n",
    "# Create a DataFrame from the list of dictionaries\n",
    "df = pd.DataFrame(album_data_list)"
   ]
  },
  {
   "cell_type": "code",
   "execution_count": 96,
   "id": "df4f851c",
   "metadata": {},
   "outputs": [
    {
     "data": {
      "text/html": [
       "<div>\n",
       "<style scoped>\n",
       "    .dataframe tbody tr th:only-of-type {\n",
       "        vertical-align: middle;\n",
       "    }\n",
       "\n",
       "    .dataframe tbody tr th {\n",
       "        vertical-align: top;\n",
       "    }\n",
       "\n",
       "    .dataframe thead th {\n",
       "        text-align: right;\n",
       "    }\n",
       "</style>\n",
       "<table border=\"1\" class=\"dataframe\">\n",
       "  <thead>\n",
       "    <tr style=\"text-align: right;\">\n",
       "      <th></th>\n",
       "      <th>ID</th>\n",
       "      <th>Name</th>\n",
       "      <th>Artist</th>\n",
       "      <th>Release Date</th>\n",
       "      <th>Total Tracks</th>\n",
       "      <th>Popularity</th>\n",
       "    </tr>\n",
       "  </thead>\n",
       "  <tbody>\n",
       "    <tr>\n",
       "      <th>0</th>\n",
       "      <td>1x1jpjDbetGqX0IKCUIBNj</td>\n",
       "      <td>Sgt. Pepper's Lonely Hearts Club Band</td>\n",
       "      <td>Bloco do Sargento Pimenta</td>\n",
       "      <td>2017-12-08</td>\n",
       "      <td>13.0</td>\n",
       "      <td>NaN</td>\n",
       "    </tr>\n",
       "    <tr>\n",
       "      <th>1</th>\n",
       "      <td>2CNEkSE8TADXRT2AzcEt1b</td>\n",
       "      <td>Pet Sounds</td>\n",
       "      <td>The Beach Boys</td>\n",
       "      <td>1966-05-16</td>\n",
       "      <td>13.0</td>\n",
       "      <td>NaN</td>\n",
       "    </tr>\n",
       "    <tr>\n",
       "      <th>2</th>\n",
       "      <td>0T1sskJDoybYGvPU5aw5Cf</td>\n",
       "      <td>REVOLVER</td>\n",
       "      <td>Lil Darkie</td>\n",
       "      <td>2020-06-15</td>\n",
       "      <td>1.0</td>\n",
       "      <td>NaN</td>\n",
       "    </tr>\n",
       "    <tr>\n",
       "      <th>3</th>\n",
       "      <td>6YabPKtZAjxwyWbuO9p4ZD</td>\n",
       "      <td>Highway 61 Revisited</td>\n",
       "      <td>Bob Dylan</td>\n",
       "      <td>1965-08-30</td>\n",
       "      <td>9.0</td>\n",
       "      <td>NaN</td>\n",
       "    </tr>\n",
       "    <tr>\n",
       "      <th>4</th>\n",
       "      <td>5TIQEIzrI6RQfUVQ5Y571D</td>\n",
       "      <td>Rubber Soul</td>\n",
       "      <td>The Beatles Complete On Ukulele</td>\n",
       "      <td>2020-07-28</td>\n",
       "      <td>16.0</td>\n",
       "      <td>NaN</td>\n",
       "    </tr>\n",
       "  </tbody>\n",
       "</table>\n",
       "</div>"
      ],
      "text/plain": [
       "                       ID                                   Name  \\\n",
       "0  1x1jpjDbetGqX0IKCUIBNj  Sgt. Pepper's Lonely Hearts Club Band   \n",
       "1  2CNEkSE8TADXRT2AzcEt1b                             Pet Sounds   \n",
       "2  0T1sskJDoybYGvPU5aw5Cf                               REVOLVER   \n",
       "3  6YabPKtZAjxwyWbuO9p4ZD                   Highway 61 Revisited   \n",
       "4  5TIQEIzrI6RQfUVQ5Y571D                            Rubber Soul   \n",
       "\n",
       "                            Artist Release Date  Total Tracks  Popularity  \n",
       "0        Bloco do Sargento Pimenta   2017-12-08          13.0         NaN  \n",
       "1                   The Beach Boys   1966-05-16          13.0         NaN  \n",
       "2                       Lil Darkie   2020-06-15           1.0         NaN  \n",
       "3                        Bob Dylan   1965-08-30           9.0         NaN  \n",
       "4  The Beatles Complete On Ukulele   2020-07-28          16.0         NaN  "
      ]
     },
     "execution_count": 96,
     "metadata": {},
     "output_type": "execute_result"
    }
   ],
   "source": [
    "df.head()"
   ]
  },
  {
   "cell_type": "code",
   "execution_count": null,
   "id": "e72917a5",
   "metadata": {},
   "outputs": [],
   "source": []
  }
 ],
 "metadata": {
  "kernelspec": {
   "display_name": "clase",
   "language": "python",
   "name": "clase"
  },
  "language_info": {
   "codemirror_mode": {
    "name": "ipython",
    "version": 3
   },
   "file_extension": ".py",
   "mimetype": "text/x-python",
   "name": "python",
   "nbconvert_exporter": "python",
   "pygments_lexer": "ipython3",
   "version": "3.10.13"
  }
 },
 "nbformat": 4,
 "nbformat_minor": 5
}
