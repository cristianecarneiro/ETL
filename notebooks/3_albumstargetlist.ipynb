{
 "cells": [
  {
   "cell_type": "markdown",
   "id": "ebacb433",
   "metadata": {},
   "source": [
    "### Importing libraries"
   ]
  },
  {
   "cell_type": "code",
   "execution_count": 4,
   "id": "1e4976af",
   "metadata": {},
   "outputs": [],
   "source": [
    "import pandas as pd\n",
    "import numpy as np\n",
    "import time \n",
    "\n",
    "import warnings\n",
    "warnings.filterwarnings('ignore')\n",
    "\n",
    "pd.set_option('display.max_columns', None)  # me muestre todas las columnas\n",
    "#pd.set_option('display.max_rows', None)  # me muestre todas las filas"
   ]
  },
  {
   "cell_type": "markdown",
   "id": "9258ec38",
   "metadata": {},
   "source": [
    "### What albums am I interested on?"
   ]
  },
  {
   "cell_type": "markdown",
   "id": "b977fc1c",
   "metadata": {},
   "source": [
    "#### Rolling Stone magazine Top 500"
   ]
  },
  {
   "cell_type": "code",
   "execution_count": 5,
   "id": "1601205e",
   "metadata": {},
   "outputs": [
    {
     "data": {
      "text/html": [
       "<div>\n",
       "<style scoped>\n",
       "    .dataframe tbody tr th:only-of-type {\n",
       "        vertical-align: middle;\n",
       "    }\n",
       "\n",
       "    .dataframe tbody tr th {\n",
       "        vertical-align: top;\n",
       "    }\n",
       "\n",
       "    .dataframe thead th {\n",
       "        text-align: right;\n",
       "    }\n",
       "</style>\n",
       "<table border=\"1\" class=\"dataframe\">\n",
       "  <thead>\n",
       "    <tr style=\"text-align: right;\">\n",
       "      <th></th>\n",
       "      <th>toprankingorder</th>\n",
       "      <th>album</th>\n",
       "      <th>artist</th>\n",
       "      <th>year</th>\n",
       "    </tr>\n",
       "  </thead>\n",
       "  <tbody>\n",
       "    <tr>\n",
       "      <th>0</th>\n",
       "      <td>1</td>\n",
       "      <td>Sgt. Pepper's Lonely Hearts Club Band</td>\n",
       "      <td>The Beatles</td>\n",
       "      <td>1967</td>\n",
       "    </tr>\n",
       "    <tr>\n",
       "      <th>1</th>\n",
       "      <td>2</td>\n",
       "      <td>Pet Sounds</td>\n",
       "      <td>The Beach Boys</td>\n",
       "      <td>1966</td>\n",
       "    </tr>\n",
       "    <tr>\n",
       "      <th>2</th>\n",
       "      <td>3</td>\n",
       "      <td>Revolver</td>\n",
       "      <td>The Beatles</td>\n",
       "      <td>1966</td>\n",
       "    </tr>\n",
       "  </tbody>\n",
       "</table>\n",
       "</div>"
      ],
      "text/plain": [
       "   toprankingorder                                  album          artist  \\\n",
       "0                1  Sgt. Pepper's Lonely Hearts Club Band     The Beatles   \n",
       "1                2                             Pet Sounds  The Beach Boys   \n",
       "2                3                               Revolver     The Beatles   \n",
       "\n",
       "   year  \n",
       "0  1967  \n",
       "1  1966  \n",
       "2  1966  "
      ]
     },
     "execution_count": 5,
     "metadata": {},
     "output_type": "execute_result"
    }
   ],
   "source": [
    "topalbums = pd.read_csv('../data/clean/DB_Kaggle_top500albums_clean.csv', encoding='latin1')\n",
    "\n",
    "topalbums.head(3)"
   ]
  },
  {
   "cell_type": "markdown",
   "id": "a6fb46ec",
   "metadata": {},
   "source": [
    "#### Rolling Stone article Horrible 50"
   ]
  },
  {
   "cell_type": "code",
   "execution_count": 6,
   "id": "2bfd5150",
   "metadata": {},
   "outputs": [
    {
     "data": {
      "text/html": [
       "<div>\n",
       "<style scoped>\n",
       "    .dataframe tbody tr th:only-of-type {\n",
       "        vertical-align: middle;\n",
       "    }\n",
       "\n",
       "    .dataframe tbody tr th {\n",
       "        vertical-align: top;\n",
       "    }\n",
       "\n",
       "    .dataframe thead th {\n",
       "        text-align: right;\n",
       "    }\n",
       "</style>\n",
       "<table border=\"1\" class=\"dataframe\">\n",
       "  <thead>\n",
       "    <tr style=\"text-align: right;\">\n",
       "      <th></th>\n",
       "      <th>horriblerankingorder</th>\n",
       "      <th>album</th>\n",
       "      <th>artist</th>\n",
       "      <th>rationale</th>\n",
       "      <th>year</th>\n",
       "    </tr>\n",
       "  </thead>\n",
       "  <tbody>\n",
       "    <tr>\n",
       "      <th>0</th>\n",
       "      <td>50</td>\n",
       "      <td>Its Hard</td>\n",
       "      <td>The Who</td>\n",
       "      <td>In the early Eighties, Pete Townshend was jugg...</td>\n",
       "      <td>1982</td>\n",
       "    </tr>\n",
       "    <tr>\n",
       "      <th>1</th>\n",
       "      <td>49</td>\n",
       "      <td>The Bridge</td>\n",
       "      <td>Billy Joel</td>\n",
       "      <td>Billy Joel had nearly a solid decade of succes...</td>\n",
       "      <td>1986</td>\n",
       "    </tr>\n",
       "    <tr>\n",
       "      <th>2</th>\n",
       "      <td>48</td>\n",
       "      <td>Van Halen III</td>\n",
       "      <td>Van Halen</td>\n",
       "      <td>When original Van Halen singer David Lee Roth ...</td>\n",
       "      <td>1998</td>\n",
       "    </tr>\n",
       "  </tbody>\n",
       "</table>\n",
       "</div>"
      ],
      "text/plain": [
       "   horriblerankingorder          album      artist  \\\n",
       "0                    50       Its Hard     The Who   \n",
       "1                    49     The Bridge  Billy Joel   \n",
       "2                    48  Van Halen III   Van Halen   \n",
       "\n",
       "                                           rationale  year  \n",
       "0  In the early Eighties, Pete Townshend was jugg...  1982  \n",
       "1  Billy Joel had nearly a solid decade of succes...  1986  \n",
       "2  When original Van Halen singer David Lee Roth ...  1998  "
      ]
     },
     "execution_count": 6,
     "metadata": {},
     "output_type": "execute_result"
    }
   ],
   "source": [
    "horriblealbums = pd.read_csv('../data/clean/WS_50horriblealbums_clean.csv', encoding='latin1')\n",
    "\n",
    "horriblealbums.head(3)"
   ]
  },
  {
   "cell_type": "markdown",
   "id": "5b93c669",
   "metadata": {},
   "source": [
    "#### Full album list "
   ]
  },
  {
   "cell_type": "code",
   "execution_count": 7,
   "id": "458f365b",
   "metadata": {},
   "outputs": [
    {
     "data": {
      "text/plain": [
       "album\n",
       "Greatest Hits                            3\n",
       "Let It Be                                2\n",
       "Sgt. Pepper's Lonely Hearts Club Band    1\n",
       "Name: count, dtype: int64"
      ]
     },
     "execution_count": 7,
     "metadata": {},
     "output_type": "execute_result"
    }
   ],
   "source": [
    "#need to be conscious of the fact that some albums have the same name \n",
    "\n",
    "topalbums['album'].value_counts().head(3)"
   ]
  },
  {
   "cell_type": "code",
   "execution_count": 8,
   "id": "d08bc530",
   "metadata": {},
   "outputs": [],
   "source": [
    "#let us try to get unique values for album_artist \n",
    "\n",
    "topalbums['album_artist'] = topalbums['album'] + ' - ' + topalbums['artist'] "
   ]
  },
  {
   "cell_type": "code",
   "execution_count": 9,
   "id": "bb817d7d",
   "metadata": {},
   "outputs": [
    {
     "data": {
      "text/html": [
       "<div>\n",
       "<style scoped>\n",
       "    .dataframe tbody tr th:only-of-type {\n",
       "        vertical-align: middle;\n",
       "    }\n",
       "\n",
       "    .dataframe tbody tr th {\n",
       "        vertical-align: top;\n",
       "    }\n",
       "\n",
       "    .dataframe thead th {\n",
       "        text-align: right;\n",
       "    }\n",
       "</style>\n",
       "<table border=\"1\" class=\"dataframe\">\n",
       "  <thead>\n",
       "    <tr style=\"text-align: right;\">\n",
       "      <th></th>\n",
       "      <th>toprankingorder</th>\n",
       "      <th>album</th>\n",
       "      <th>artist</th>\n",
       "      <th>year</th>\n",
       "      <th>album_artist</th>\n",
       "    </tr>\n",
       "  </thead>\n",
       "  <tbody>\n",
       "    <tr>\n",
       "      <th>0</th>\n",
       "      <td>1</td>\n",
       "      <td>Sgt. Pepper's Lonely Hearts Club Band</td>\n",
       "      <td>The Beatles</td>\n",
       "      <td>1967</td>\n",
       "      <td>Sgt. Pepper's Lonely Hearts Club Band - The Be...</td>\n",
       "    </tr>\n",
       "    <tr>\n",
       "      <th>1</th>\n",
       "      <td>2</td>\n",
       "      <td>Pet Sounds</td>\n",
       "      <td>The Beach Boys</td>\n",
       "      <td>1966</td>\n",
       "      <td>Pet Sounds - The Beach Boys</td>\n",
       "    </tr>\n",
       "    <tr>\n",
       "      <th>2</th>\n",
       "      <td>3</td>\n",
       "      <td>Revolver</td>\n",
       "      <td>The Beatles</td>\n",
       "      <td>1966</td>\n",
       "      <td>Revolver - The Beatles</td>\n",
       "    </tr>\n",
       "  </tbody>\n",
       "</table>\n",
       "</div>"
      ],
      "text/plain": [
       "   toprankingorder                                  album          artist  \\\n",
       "0                1  Sgt. Pepper's Lonely Hearts Club Band     The Beatles   \n",
       "1                2                             Pet Sounds  The Beach Boys   \n",
       "2                3                               Revolver     The Beatles   \n",
       "\n",
       "   year                                       album_artist  \n",
       "0  1967  Sgt. Pepper's Lonely Hearts Club Band - The Be...  \n",
       "1  1966                        Pet Sounds - The Beach Boys  \n",
       "2  1966                             Revolver - The Beatles  "
      ]
     },
     "execution_count": 9,
     "metadata": {},
     "output_type": "execute_result"
    }
   ],
   "source": [
    "topalbums.head(3)"
   ]
  },
  {
   "cell_type": "code",
   "execution_count": 10,
   "id": "052c831b",
   "metadata": {},
   "outputs": [
    {
     "data": {
      "text/plain": [
       "album\n",
       "Its Hard           1\n",
       "Leather Jackets    1\n",
       "Name: count, dtype: int64"
      ]
     },
     "execution_count": 10,
     "metadata": {},
     "output_type": "execute_result"
    }
   ],
   "source": [
    "horriblealbums['album'].value_counts().head(2)"
   ]
  },
  {
   "cell_type": "code",
   "execution_count": 11,
   "id": "868b678b",
   "metadata": {},
   "outputs": [],
   "source": [
    "horriblealbums['album_artist'] = horriblealbums['album'] + ' - ' + horriblealbums['artist']"
   ]
  },
  {
   "cell_type": "code",
   "execution_count": 12,
   "id": "8cd82304",
   "metadata": {},
   "outputs": [
    {
     "data": {
      "text/html": [
       "<div>\n",
       "<style scoped>\n",
       "    .dataframe tbody tr th:only-of-type {\n",
       "        vertical-align: middle;\n",
       "    }\n",
       "\n",
       "    .dataframe tbody tr th {\n",
       "        vertical-align: top;\n",
       "    }\n",
       "\n",
       "    .dataframe thead th {\n",
       "        text-align: right;\n",
       "    }\n",
       "</style>\n",
       "<table border=\"1\" class=\"dataframe\">\n",
       "  <thead>\n",
       "    <tr style=\"text-align: right;\">\n",
       "      <th></th>\n",
       "      <th>horriblerankingorder</th>\n",
       "      <th>album</th>\n",
       "      <th>artist</th>\n",
       "      <th>rationale</th>\n",
       "      <th>year</th>\n",
       "      <th>album_artist</th>\n",
       "    </tr>\n",
       "  </thead>\n",
       "  <tbody>\n",
       "    <tr>\n",
       "      <th>0</th>\n",
       "      <td>50</td>\n",
       "      <td>Its Hard</td>\n",
       "      <td>The Who</td>\n",
       "      <td>In the early Eighties, Pete Townshend was jugg...</td>\n",
       "      <td>1982</td>\n",
       "      <td>Its Hard - The Who</td>\n",
       "    </tr>\n",
       "    <tr>\n",
       "      <th>1</th>\n",
       "      <td>49</td>\n",
       "      <td>The Bridge</td>\n",
       "      <td>Billy Joel</td>\n",
       "      <td>Billy Joel had nearly a solid decade of succes...</td>\n",
       "      <td>1986</td>\n",
       "      <td>The Bridge - Billy Joel</td>\n",
       "    </tr>\n",
       "  </tbody>\n",
       "</table>\n",
       "</div>"
      ],
      "text/plain": [
       "   horriblerankingorder       album      artist  \\\n",
       "0                    50    Its Hard     The Who   \n",
       "1                    49  The Bridge  Billy Joel   \n",
       "\n",
       "                                           rationale  year  \\\n",
       "0  In the early Eighties, Pete Townshend was jugg...  1982   \n",
       "1  Billy Joel had nearly a solid decade of succes...  1986   \n",
       "\n",
       "              album_artist  \n",
       "0       Its Hard - The Who  \n",
       "1  The Bridge - Billy Joel  "
      ]
     },
     "execution_count": 12,
     "metadata": {},
     "output_type": "execute_result"
    }
   ],
   "source": [
    "horriblealbums.head(2)"
   ]
  },
  {
   "cell_type": "code",
   "execution_count": 13,
   "id": "66e8e8b4",
   "metadata": {},
   "outputs": [
    {
     "data": {
      "text/plain": [
       "(550, 7)"
      ]
     },
     "execution_count": 13,
     "metadata": {},
     "output_type": "execute_result"
    }
   ],
   "source": [
    "all_albums = pd.concat([topalbums, horriblealbums], ignore_index=True)\n",
    "all_albums.shape"
   ]
  },
  {
   "cell_type": "code",
   "execution_count": 14,
   "id": "67d6e8c4",
   "metadata": {},
   "outputs": [
    {
     "data": {
      "text/html": [
       "<div>\n",
       "<style scoped>\n",
       "    .dataframe tbody tr th:only-of-type {\n",
       "        vertical-align: middle;\n",
       "    }\n",
       "\n",
       "    .dataframe tbody tr th {\n",
       "        vertical-align: top;\n",
       "    }\n",
       "\n",
       "    .dataframe thead th {\n",
       "        text-align: right;\n",
       "    }\n",
       "</style>\n",
       "<table border=\"1\" class=\"dataframe\">\n",
       "  <thead>\n",
       "    <tr style=\"text-align: right;\">\n",
       "      <th></th>\n",
       "      <th>toprankingorder</th>\n",
       "      <th>album</th>\n",
       "      <th>artist</th>\n",
       "      <th>year</th>\n",
       "      <th>album_artist</th>\n",
       "      <th>horriblerankingorder</th>\n",
       "      <th>rationale</th>\n",
       "    </tr>\n",
       "  </thead>\n",
       "  <tbody>\n",
       "    <tr>\n",
       "      <th>0</th>\n",
       "      <td>1.0</td>\n",
       "      <td>Sgt. Pepper's Lonely Hearts Club Band</td>\n",
       "      <td>The Beatles</td>\n",
       "      <td>1967</td>\n",
       "      <td>Sgt. Pepper's Lonely Hearts Club Band - The Be...</td>\n",
       "      <td>NaN</td>\n",
       "      <td>NaN</td>\n",
       "    </tr>\n",
       "    <tr>\n",
       "      <th>1</th>\n",
       "      <td>2.0</td>\n",
       "      <td>Pet Sounds</td>\n",
       "      <td>The Beach Boys</td>\n",
       "      <td>1966</td>\n",
       "      <td>Pet Sounds - The Beach Boys</td>\n",
       "      <td>NaN</td>\n",
       "      <td>NaN</td>\n",
       "    </tr>\n",
       "    <tr>\n",
       "      <th>2</th>\n",
       "      <td>3.0</td>\n",
       "      <td>Revolver</td>\n",
       "      <td>The Beatles</td>\n",
       "      <td>1966</td>\n",
       "      <td>Revolver - The Beatles</td>\n",
       "      <td>NaN</td>\n",
       "      <td>NaN</td>\n",
       "    </tr>\n",
       "  </tbody>\n",
       "</table>\n",
       "</div>"
      ],
      "text/plain": [
       "   toprankingorder                                  album          artist  \\\n",
       "0              1.0  Sgt. Pepper's Lonely Hearts Club Band     The Beatles   \n",
       "1              2.0                             Pet Sounds  The Beach Boys   \n",
       "2              3.0                               Revolver     The Beatles   \n",
       "\n",
       "   year                                       album_artist  \\\n",
       "0  1967  Sgt. Pepper's Lonely Hearts Club Band - The Be...   \n",
       "1  1966                        Pet Sounds - The Beach Boys   \n",
       "2  1966                             Revolver - The Beatles   \n",
       "\n",
       "   horriblerankingorder rationale  \n",
       "0                   NaN       NaN  \n",
       "1                   NaN       NaN  \n",
       "2                   NaN       NaN  "
      ]
     },
     "execution_count": 14,
     "metadata": {},
     "output_type": "execute_result"
    }
   ],
   "source": [
    "all_albums.head(3)"
   ]
  },
  {
   "cell_type": "code",
   "execution_count": 15,
   "id": "011eced1",
   "metadata": {},
   "outputs": [],
   "source": [
    "all_albums.to_csv('../data/clean/all_550_albums_clean.csv', index=False)"
   ]
  }
 ],
 "metadata": {
  "kernelspec": {
   "display_name": "clase",
   "language": "python",
   "name": "clase"
  },
  "language_info": {
   "codemirror_mode": {
    "name": "ipython",
    "version": 3
   },
   "file_extension": ".py",
   "mimetype": "text/x-python",
   "name": "python",
   "nbconvert_exporter": "python",
   "pygments_lexer": "ipython3",
   "version": "3.10.13"
  }
 },
 "nbformat": 4,
 "nbformat_minor": 5
}
