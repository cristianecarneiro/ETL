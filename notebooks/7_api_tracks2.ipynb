{
 "cells": [
  {
   "cell_type": "markdown",
   "id": "ebacb433",
   "metadata": {},
   "source": [
    "### Importing libraries"
   ]
  },
  {
   "cell_type": "code",
   "execution_count": 68,
   "id": "1e4976af",
   "metadata": {},
   "outputs": [],
   "source": [
    "import pandas as pd\n",
    "import numpy as np\n",
    "import time \n",
    "\n",
    "import warnings\n",
    "warnings.filterwarnings('ignore')\n",
    "\n",
    "pd.set_option('display.max_columns', None)  # me muestre todas las columnas\n",
    "#pd.set_option('display.max_rows', None)  # me muestre todas las filas"
   ]
  },
  {
   "cell_type": "markdown",
   "id": "9258ec38",
   "metadata": {},
   "source": [
    "### Getting target list "
   ]
  },
  {
   "cell_type": "code",
   "execution_count": 69,
   "id": "538599b8",
   "metadata": {},
   "outputs": [],
   "source": [
    "datatracks = pd.read_csv('../data/clean/api_tracks1_clean.csv', encoding='latin1')"
   ]
  },
  {
   "cell_type": "code",
   "execution_count": 70,
   "id": "7dc272fd",
   "metadata": {},
   "outputs": [
    {
     "data": {
      "text/html": [
       "<div>\n",
       "<style scoped>\n",
       "    .dataframe tbody tr th:only-of-type {\n",
       "        vertical-align: middle;\n",
       "    }\n",
       "\n",
       "    .dataframe tbody tr th {\n",
       "        vertical-align: top;\n",
       "    }\n",
       "\n",
       "    .dataframe thead th {\n",
       "        text-align: right;\n",
       "    }\n",
       "</style>\n",
       "<table border=\"1\" class=\"dataframe\">\n",
       "  <thead>\n",
       "    <tr style=\"text-align: right;\">\n",
       "      <th></th>\n",
       "      <th>track_id</th>\n",
       "      <th>track_name</th>\n",
       "      <th>album_id</th>\n",
       "      <th>artist_id</th>\n",
       "      <th>artist_name</th>\n",
       "    </tr>\n",
       "  </thead>\n",
       "  <tbody>\n",
       "    <tr>\n",
       "      <th>0</th>\n",
       "      <td>4ZY1RPoLfezEqu03BI2axd</td>\n",
       "      <td>Sgt. Pepper's Lonely Hearts Club Band</td>\n",
       "      <td>1x1jpjDbetGqX0IKCUIBNj</td>\n",
       "      <td>3wGWCP3E3tYqj5memYV9Vq</td>\n",
       "      <td>Bloco do Sargento Pimenta</td>\n",
       "    </tr>\n",
       "    <tr>\n",
       "      <th>1</th>\n",
       "      <td>0QLyr8xasb6tgGkdPWYw8d</td>\n",
       "      <td>With a Little Help From My Friends</td>\n",
       "      <td>1x1jpjDbetGqX0IKCUIBNj</td>\n",
       "      <td>3wGWCP3E3tYqj5memYV9Vq</td>\n",
       "      <td>Bloco do Sargento Pimenta</td>\n",
       "    </tr>\n",
       "  </tbody>\n",
       "</table>\n",
       "</div>"
      ],
      "text/plain": [
       "                 track_id                             track_name  \\\n",
       "0  4ZY1RPoLfezEqu03BI2axd  Sgt. Pepper's Lonely Hearts Club Band   \n",
       "1  0QLyr8xasb6tgGkdPWYw8d     With a Little Help From My Friends   \n",
       "\n",
       "                 album_id               artist_id                artist_name  \n",
       "0  1x1jpjDbetGqX0IKCUIBNj  3wGWCP3E3tYqj5memYV9Vq  Bloco do Sargento Pimenta  \n",
       "1  1x1jpjDbetGqX0IKCUIBNj  3wGWCP3E3tYqj5memYV9Vq  Bloco do Sargento Pimenta  "
      ]
     },
     "execution_count": 70,
     "metadata": {},
     "output_type": "execute_result"
    }
   ],
   "source": [
    "datatracks.head(2)"
   ]
  },
  {
   "cell_type": "code",
   "execution_count": 71,
   "id": "449516f7",
   "metadata": {},
   "outputs": [],
   "source": [
    "track_ids = datatracks['track_id'].unique().tolist()"
   ]
  },
  {
   "cell_type": "code",
   "execution_count": 72,
   "id": "9164dda7",
   "metadata": {},
   "outputs": [
    {
     "data": {
      "text/plain": [
       "['4ZY1RPoLfezEqu03BI2axd', '0QLyr8xasb6tgGkdPWYw8d']"
      ]
     },
     "execution_count": 72,
     "metadata": {},
     "output_type": "execute_result"
    }
   ],
   "source": [
    "track_ids[0:2]"
   ]
  },
  {
   "cell_type": "markdown",
   "id": "afe829e4",
   "metadata": {},
   "source": [
    "### Spotify Connection "
   ]
  },
  {
   "cell_type": "code",
   "execution_count": 73,
   "id": "1fc27d37",
   "metadata": {},
   "outputs": [],
   "source": [
    "#%pip install pyarrow\n",
    "#%pip install joblib\n",
    "#%pip install tqdm\n",
    "#%pip install spotipy\n",
    "#%pip install python-dotenv\n",
    "#%pip install requests "
   ]
  },
  {
   "cell_type": "code",
   "execution_count": 74,
   "id": "a163f66c",
   "metadata": {},
   "outputs": [],
   "source": [
    "import requests as rq\n",
    "import pyarrow\n",
    "from joblib import Parallel, delayed\n",
    "from tqdm import tqdm\n",
    "import pymongo\n",
    "from passwords import *"
   ]
  },
  {
   "cell_type": "code",
   "execution_count": 75,
   "id": "8e634c8c",
   "metadata": {},
   "outputs": [
    {
     "data": {
      "text/plain": [
       "<Response [200]>"
      ]
     },
     "execution_count": 75,
     "metadata": {},
     "output_type": "execute_result"
    }
   ],
   "source": [
    "# Obtener el TOKEN\n",
    "\n",
    "AUTH_URL = \"https://accounts.spotify.com/api/token\"\n",
    "\n",
    "creds = {\n",
    "    \"grant_type\": \"client_credentials\",\n",
    "    \"client_id\": Client_ID,\n",
    "    \"client_secret\": Client_secret\n",
    "}\n",
    "\n",
    "response = rq.post(AUTH_URL, \n",
    "                         data=creds, \n",
    "                         headers={\"Content-Type\": \"application/x-www-form-urlencoded\"})\n",
    "\n",
    "\n",
    "TOKEN = response.json()['access_token']\n",
    "\n",
    "# Conexión con la API\n",
    "\n",
    "url = \"https://api.spotify.com/\"\n",
    "\n",
    "headers = {\"Authorization\": f'Bearer {TOKEN}'}\n",
    "\n",
    "response = rq.get(url,headers=headers)\n",
    "response"
   ]
  },
  {
   "cell_type": "markdown",
   "id": "7bed4bf5",
   "metadata": {},
   "source": [
    "### Getting Tracks Information "
   ]
  },
  {
   "cell_type": "code",
   "execution_count": 76,
   "id": "c87a543a",
   "metadata": {},
   "outputs": [],
   "source": [
    "track_ids = datatracks['track_id'].unique().tolist()"
   ]
  },
  {
   "cell_type": "code",
   "execution_count": 77,
   "id": "acab610e",
   "metadata": {},
   "outputs": [
    {
     "data": {
      "text/plain": [
       "['4ZY1RPoLfezEqu03BI2axd', '0QLyr8xasb6tgGkdPWYw8d']"
      ]
     },
     "execution_count": 77,
     "metadata": {},
     "output_type": "execute_result"
    }
   ],
   "source": [
    "track_ids[0:2]"
   ]
  },
  {
   "cell_type": "code",
   "execution_count": 78,
   "id": "2d0a53a8",
   "metadata": {},
   "outputs": [],
   "source": [
    "#endpoint\n",
    "#https://api.spotify.com/v1/audio-features/{id}"
   ]
  },
  {
   "cell_type": "code",
   "execution_count": 79,
   "id": "f0eae79a",
   "metadata": {},
   "outputs": [],
   "source": [
    "#test \n",
    "url = 'https://api.spotify.com/v1/audio-features/0QLyr8xasb6tgGkdPWYw8d'"
   ]
  },
  {
   "cell_type": "code",
   "execution_count": 80,
   "id": "3c75fbad",
   "metadata": {},
   "outputs": [
    {
     "data": {
      "text/plain": [
       "<Response [429]>"
      ]
     },
     "execution_count": 80,
     "metadata": {},
     "output_type": "execute_result"
    }
   ],
   "source": [
    "res = rq.get(url, headers = headers)\n",
    "res"
   ]
  },
  {
   "cell_type": "code",
   "execution_count": 66,
   "id": "81b14947",
   "metadata": {},
   "outputs": [
    {
     "data": {
      "text/plain": [
       "dict"
      ]
     },
     "execution_count": 66,
     "metadata": {},
     "output_type": "execute_result"
    }
   ],
   "source": [
    "resjson = res.json()\n",
    "type(resjson)"
   ]
  },
  {
   "cell_type": "code",
   "execution_count": 67,
   "id": "0b72a406",
   "metadata": {},
   "outputs": [
    {
     "data": {
      "text/plain": [
       "dict_keys(['error'])"
      ]
     },
     "execution_count": 67,
     "metadata": {},
     "output_type": "execute_result"
    }
   ],
   "source": [
    "resjson.keys()"
   ]
  },
  {
   "cell_type": "code",
   "execution_count": 64,
   "id": "cc19e432",
   "metadata": {},
   "outputs": [
    {
     "ename": "KeyError",
     "evalue": "'danceability'",
     "output_type": "error",
     "traceback": [
      "\u001b[0;31m---------------------------------------------------------------------------\u001b[0m",
      "\u001b[0;31mKeyError\u001b[0m                                  Traceback (most recent call last)",
      "Cell \u001b[0;32mIn[64], line 1\u001b[0m\n\u001b[0;32m----> 1\u001b[0m \u001b[43mresjson\u001b[49m\u001b[43m[\u001b[49m\u001b[38;5;124;43m'\u001b[39;49m\u001b[38;5;124;43mdanceability\u001b[39;49m\u001b[38;5;124;43m'\u001b[39;49m\u001b[43m]\u001b[49m\n",
      "\u001b[0;31mKeyError\u001b[0m: 'danceability'"
     ]
    }
   ],
   "source": [
    "resjson['danceability']"
   ]
  },
  {
   "cell_type": "code",
   "execution_count": null,
   "id": "bb2f4218",
   "metadata": {},
   "outputs": [],
   "source": [
    "# Construct a list of URLs for querying track audio features\n",
    "track_urls = [f'https://api.spotify.com/v1/audio-features/{track_id}' for track_id in track_ids]\n",
    "\n",
    "# Create a list of dictionaries with track information and corresponding feature URLs\n",
    "track_url_list = [{'track_id': track_id, 'url': url} for track_id, url in zip(track_ids, track_urls)]"
   ]
  },
  {
   "cell_type": "code",
   "execution_count": null,
   "id": "c405078f",
   "metadata": {},
   "outputs": [],
   "source": [
    "# List to store the retrieved track data\n",
    "track_data_list = []\n",
    "\n",
    "# Function to search and retrieve track information\n",
    "def search_track_info(track_url):\n",
    "    time.sleep(1)  # Pause between queries to avoid getting banned\n",
    "\n",
    "    try:\n",
    "        response = rq.get(track_url['url'], headers=headers)\n",
    "        response.raise_for_status()  # Check for request errors\n",
    "        data = response.json()\n",
    "\n",
    "        # Extract necessary data from the response\n",
    "        track_data_list.append({\n",
    "            'track_id': track_url['track_id'],\n",
    "            'danceability': data.get('danceability'),\n",
    "            'popularity': data.get('popularity'),\n",
    "            'energy': data.get('energy'),\n",
    "            'acousticness': data.get('acousticness'),\n",
    "            'valence': data.get('valence'),\n",
    "            'instrumentalness': data.get('instrumentalness'),\n",
    "            'tempo': data.get('tempo'),\n",
    "            'loudness': data.get('loudness')\n",
    "        })\n",
    "\n",
    "    except Exception as e:\n",
    "        print(f\"An error occurred: {e}\")\n",
    "        track_data_list.append({\n",
    "            'track_id': None,\n",
    "            'danceability': None,\n",
    "            'popularity': None,\n",
    "            'energy': None,\n",
    "            'acousticness': None,\n",
    "            'valence': None,\n",
    "            'instrumentalness': None,\n",
    "            'tempo': None,\n",
    "            'loudness': None\n",
    "        })\n",
    "\n",
    "# Execute the function for each track URL\n",
    "for track_url in track_url_list:\n",
    "    search_track_info(track_url)\n",
    "\n",
    "# Create a DataFrame from the list of dictionaries\n",
    "data_tracks2 = pd.DataFrame(track_data_list)"
   ]
  },
  {
   "cell_type": "code",
   "execution_count": null,
   "id": "a2d69af0",
   "metadata": {},
   "outputs": [],
   "source": [
    "data_tracks2.head()"
   ]
  },
  {
   "cell_type": "code",
   "execution_count": null,
   "id": "08b31b16",
   "metadata": {},
   "outputs": [],
   "source": [
    "data_tracks.shape"
   ]
  },
  {
   "cell_type": "code",
   "execution_count": null,
   "id": "7be3dcf1",
   "metadata": {},
   "outputs": [],
   "source": [
    "data_tracks.to_csv('../data/clean/api_tracks1_clean.csv', index=False)"
   ]
  }
 ],
 "metadata": {
  "kernelspec": {
   "display_name": "clase",
   "language": "python",
   "name": "clase"
  },
  "language_info": {
   "codemirror_mode": {
    "name": "ipython",
    "version": 3
   },
   "file_extension": ".py",
   "mimetype": "text/x-python",
   "name": "python",
   "nbconvert_exporter": "python",
   "pygments_lexer": "ipython3",
   "version": "3.10.13"
  }
 },
 "nbformat": 4,
 "nbformat_minor": 5
}
