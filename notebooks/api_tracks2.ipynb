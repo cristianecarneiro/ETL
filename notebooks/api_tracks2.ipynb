{
 "cells": [
  {
   "cell_type": "markdown",
   "id": "ebacb433",
   "metadata": {},
   "source": [
    "### Importing libraries"
   ]
  },
  {
   "cell_type": "code",
   "execution_count": 1,
   "id": "1e4976af",
   "metadata": {},
   "outputs": [],
   "source": [
    "import pandas as pd\n",
    "import numpy as np\n",
    "import time \n",
    "\n",
    "import warnings\n",
    "warnings.filterwarnings('ignore')\n",
    "\n",
    "pd.set_option('display.max_columns', None)  # me muestre todas las columnas\n",
    "#pd.set_option('display.max_rows', None)  # me muestre todas las filas"
   ]
  },
  {
   "cell_type": "markdown",
   "id": "9258ec38",
   "metadata": {},
   "source": [
    "### Getting target list "
   ]
  },
  {
   "cell_type": "code",
   "execution_count": 2,
   "id": "538599b8",
   "metadata": {},
   "outputs": [],
   "source": [
    "datatracks = pd.read_csv('../data/clean/api_tracks1_clean.csv', encoding='latin1')"
   ]
  },
  {
   "cell_type": "code",
   "execution_count": 3,
   "id": "7dc272fd",
   "metadata": {},
   "outputs": [
    {
     "data": {
      "text/html": [
       "<div>\n",
       "<style scoped>\n",
       "    .dataframe tbody tr th:only-of-type {\n",
       "        vertical-align: middle;\n",
       "    }\n",
       "\n",
       "    .dataframe tbody tr th {\n",
       "        vertical-align: top;\n",
       "    }\n",
       "\n",
       "    .dataframe thead th {\n",
       "        text-align: right;\n",
       "    }\n",
       "</style>\n",
       "<table border=\"1\" class=\"dataframe\">\n",
       "  <thead>\n",
       "    <tr style=\"text-align: right;\">\n",
       "      <th></th>\n",
       "      <th>track_id</th>\n",
       "      <th>track_name</th>\n",
       "      <th>album_id</th>\n",
       "      <th>artist_id</th>\n",
       "      <th>artist_name</th>\n",
       "    </tr>\n",
       "  </thead>\n",
       "  <tbody>\n",
       "    <tr>\n",
       "      <th>0</th>\n",
       "      <td>4ZY1RPoLfezEqu03BI2axd</td>\n",
       "      <td>Sgt. Pepper's Lonely Hearts Club Band</td>\n",
       "      <td>1x1jpjDbetGqX0IKCUIBNj</td>\n",
       "      <td>3wGWCP3E3tYqj5memYV9Vq</td>\n",
       "      <td>Bloco do Sargento Pimenta</td>\n",
       "    </tr>\n",
       "    <tr>\n",
       "      <th>1</th>\n",
       "      <td>0QLyr8xasb6tgGkdPWYw8d</td>\n",
       "      <td>With a Little Help From My Friends</td>\n",
       "      <td>1x1jpjDbetGqX0IKCUIBNj</td>\n",
       "      <td>3wGWCP3E3tYqj5memYV9Vq</td>\n",
       "      <td>Bloco do Sargento Pimenta</td>\n",
       "    </tr>\n",
       "  </tbody>\n",
       "</table>\n",
       "</div>"
      ],
      "text/plain": [
       "                 track_id                             track_name  \\\n",
       "0  4ZY1RPoLfezEqu03BI2axd  Sgt. Pepper's Lonely Hearts Club Band   \n",
       "1  0QLyr8xasb6tgGkdPWYw8d     With a Little Help From My Friends   \n",
       "\n",
       "                 album_id               artist_id                artist_name  \n",
       "0  1x1jpjDbetGqX0IKCUIBNj  3wGWCP3E3tYqj5memYV9Vq  Bloco do Sargento Pimenta  \n",
       "1  1x1jpjDbetGqX0IKCUIBNj  3wGWCP3E3tYqj5memYV9Vq  Bloco do Sargento Pimenta  "
      ]
     },
     "execution_count": 3,
     "metadata": {},
     "output_type": "execute_result"
    }
   ],
   "source": [
    "datatracks.head(2)"
   ]
  },
  {
   "cell_type": "code",
   "execution_count": 6,
   "id": "449516f7",
   "metadata": {},
   "outputs": [],
   "source": [
    "track_ids = datatracks['track_id'].unique().tolist()"
   ]
  },
  {
   "cell_type": "code",
   "execution_count": 7,
   "id": "9164dda7",
   "metadata": {},
   "outputs": [
    {
     "data": {
      "text/plain": [
       "['4ZY1RPoLfezEqu03BI2axd', '0QLyr8xasb6tgGkdPWYw8d']"
      ]
     },
     "execution_count": 7,
     "metadata": {},
     "output_type": "execute_result"
    }
   ],
   "source": [
    "track_ids[0:2]"
   ]
  },
  {
   "cell_type": "markdown",
   "id": "afe829e4",
   "metadata": {},
   "source": [
    "### Spotify Connection "
   ]
  },
  {
   "cell_type": "code",
   "execution_count": 8,
   "id": "1fc27d37",
   "metadata": {},
   "outputs": [],
   "source": [
    "#%pip install pyarrow\n",
    "#%pip install joblib\n",
    "#%pip install tqdm\n",
    "#%pip install spotipy\n",
    "#%pip install python-dotenv\n",
    "#%pip install requests "
   ]
  },
  {
   "cell_type": "code",
   "execution_count": 9,
   "id": "a163f66c",
   "metadata": {},
   "outputs": [],
   "source": [
    "import requests as rq\n",
    "import pyarrow\n",
    "from joblib import Parallel, delayed\n",
    "from tqdm import tqdm\n",
    "import pymongo\n",
    "from passwords import *"
   ]
  },
  {
   "cell_type": "code",
   "execution_count": 10,
   "id": "8e634c8c",
   "metadata": {},
   "outputs": [
    {
     "data": {
      "text/plain": [
       "<Response [200]>"
      ]
     },
     "execution_count": 10,
     "metadata": {},
     "output_type": "execute_result"
    }
   ],
   "source": [
    "# Obtener el TOKEN\n",
    "\n",
    "AUTH_URL = \"https://accounts.spotify.com/api/token\"\n",
    "\n",
    "creds = {\n",
    "    \"grant_type\": \"client_credentials\",\n",
    "    \"client_id\": Client_ID,\n",
    "    \"client_secret\": Client_secret\n",
    "}\n",
    "\n",
    "response = rq.post(AUTH_URL, \n",
    "                         data=creds, \n",
    "                         headers={\"Content-Type\": \"application/x-www-form-urlencoded\"})\n",
    "\n",
    "\n",
    "TOKEN = response.json()['access_token']\n",
    "\n",
    "# Conexión con la API\n",
    "\n",
    "url = \"https://api.spotify.com/\"\n",
    "\n",
    "headers = {\"Authorization\": f'Bearer {TOKEN}'}\n",
    "\n",
    "response = rq.get(url,headers=headers)\n",
    "response"
   ]
  },
  {
   "cell_type": "markdown",
   "id": "7bed4bf5",
   "metadata": {},
   "source": [
    "### Getting Tracks Information "
   ]
  },
  {
   "cell_type": "code",
   "execution_count": 48,
   "id": "c87a543a",
   "metadata": {},
   "outputs": [],
   "source": [
    "track_ids = datatracks['track_id'].unique().tolist()"
   ]
  },
  {
   "cell_type": "code",
   "execution_count": 11,
   "id": "acab610e",
   "metadata": {},
   "outputs": [
    {
     "data": {
      "text/plain": [
       "['4ZY1RPoLfezEqu03BI2axd', '0QLyr8xasb6tgGkdPWYw8d']"
      ]
     },
     "execution_count": 11,
     "metadata": {},
     "output_type": "execute_result"
    }
   ],
   "source": [
    "track_ids[0:2]"
   ]
  },
  {
   "cell_type": "code",
   "execution_count": 17,
   "id": "2d0a53a8",
   "metadata": {},
   "outputs": [],
   "source": [
    "#endpoint\n",
    "#https://api.spotify.com/v1/audio-features/{id}"
   ]
  },
  {
   "cell_type": "code",
   "execution_count": 22,
   "id": "8a86f99d",
   "metadata": {},
   "outputs": [],
   "source": [
    "#test \n",
    "url = 'https://api.spotify.com/v1/audio-features/0QLyr8xasb6tgGkdPWYw8d'"
   ]
  },
  {
   "cell_type": "code",
   "execution_count": 30,
   "id": "675d9ed8",
   "metadata": {},
   "outputs": [],
   "source": [
    "res = rq.get(url, headers = headers)"
   ]
  },
  {
   "cell_type": "code",
   "execution_count": 31,
   "id": "9be3fdf1",
   "metadata": {},
   "outputs": [
    {
     "data": {
      "text/plain": [
       "dict"
      ]
     },
     "execution_count": 31,
     "metadata": {},
     "output_type": "execute_result"
    }
   ],
   "source": [
    "resjson = res.json()\n",
    "type(resjson)"
   ]
  },
  {
   "cell_type": "code",
   "execution_count": 32,
   "id": "ee4b085a",
   "metadata": {},
   "outputs": [
    {
     "data": {
      "text/plain": [
       "dict_keys(['danceability', 'energy', 'key', 'loudness', 'mode', 'speechiness', 'acousticness', 'instrumentalness', 'liveness', 'valence', 'tempo', 'type', 'id', 'uri', 'track_href', 'analysis_url', 'duration_ms', 'time_signature'])"
      ]
     },
     "execution_count": 32,
     "metadata": {},
     "output_type": "execute_result"
    }
   ],
   "source": [
    "resjson.keys()"
   ]
  },
  {
   "cell_type": "code",
   "execution_count": 29,
   "id": "52cf0ef9",
   "metadata": {},
   "outputs": [
    {
     "data": {
      "text/plain": [
       "0.42"
      ]
     },
     "execution_count": 29,
     "metadata": {},
     "output_type": "execute_result"
    }
   ],
   "source": [
    "resjson['danceability']"
   ]
  },
  {
   "cell_type": "code",
   "execution_count": null,
   "id": "dab5f73e",
   "metadata": {},
   "outputs": [],
   "source": [
    "# Construct a list of URLs for querying track audio features\n",
    "track_feature_urls = [f'https://api.spotify.com/v1/audio-features/{track_id}' for track_id in track_ids]\n",
    "\n",
    "# Create a list of dictionaries with track information and corresponding feature URLs\n",
    "track_feature_url_list = [{'track_id': track_id, 'url': url} for track_id, url in zip(track_ids, track_feature_urls)]"
   ]
  },
  {
   "cell_type": "code",
   "execution_count": null,
   "id": "c405078f",
   "metadata": {},
   "outputs": [
    {
     "name": "stdout",
     "output_type": "stream",
     "text": [
      "An error occurred: 429 Client Error: Too Many Requests for url: https://api.spotify.com/v1/tracks/1vuCDdqdaKc0rOTUjK9XDX\n",
      "An error occurred: 429 Client Error: Too Many Requests for url: https://api.spotify.com/v1/tracks/0PswhfztcdmfYDqfoGMqc4\n",
      "An error occurred: 429 Client Error: Too Many Requests for url: https://api.spotify.com/v1/tracks/3Ki7LceZVmcQINetqAbTWD\n",
      "An error occurred: 429 Client Error: Too Many Requests for url: https://api.spotify.com/v1/tracks/46u3ZbLTvEa9T6pZSEAngr\n",
      "An error occurred: 429 Client Error: Too Many Requests for url: https://api.spotify.com/v1/tracks/7nnl7d1EWOPHOlYDYYpB3M\n",
      "An error occurred: 429 Client Error: Too Many Requests for url: https://api.spotify.com/v1/tracks/060hIjL5vg3Zb0Im8zan5I\n",
      "An error occurred: 429 Client Error: Too Many Requests for url: https://api.spotify.com/v1/tracks/63sCRDH2JWuR7ZzWv8KQhS\n",
      "An error occurred: 429 Client Error: Too Many Requests for url: https://api.spotify.com/v1/tracks/08l91Hm1QMhcBf6JN3k8HH\n",
      "An error occurred: 429 Client Error: Too Many Requests for url: https://api.spotify.com/v1/tracks/2l95yGU9Z7Pgy8pS6ugyED\n",
      "An error occurred: 429 Client Error: Too Many Requests for url: https://api.spotify.com/v1/tracks/6HvvnLdDrPAqxBLpXuodDR\n",
      "An error occurred: 429 Client Error: Too Many Requests for url: https://api.spotify.com/v1/tracks/7tiLzr1mTqyYYXESMVS4jw\n",
      "An error occurred: 429 Client Error: Too Many Requests for url: https://api.spotify.com/v1/tracks/0rZI72ctGllXTFlbtBDQ8c\n",
      "An error occurred: 429 Client Error: Too Many Requests for url: https://api.spotify.com/v1/tracks/1yo16b3u0lptm6Cs7lx4AD\n",
      "An error occurred: 429 Client Error: Too Many Requests for url: https://api.spotify.com/v1/tracks/0wfBooQ6QtDm63UIyIcDIj\n",
      "An error occurred: 429 Client Error: Too Many Requests for url: https://api.spotify.com/v1/tracks/2040FzW1ywVMnNJAMPoXZn\n",
      "An error occurred: 429 Client Error: Too Many Requests for url: https://api.spotify.com/v1/tracks/1cbLvt7UrsbVnljXttWUip\n",
      "An error occurred: 429 Client Error: Too Many Requests for url: https://api.spotify.com/v1/tracks/0Fnb2pfBfu0ka33d6Yki17\n",
      "An error occurred: 429 Client Error: Too Many Requests for url: https://api.spotify.com/v1/tracks/1XXHPSNbmHgi8EJvO3yGyd\n",
      "An error occurred: 429 Client Error: Too Many Requests for url: https://api.spotify.com/v1/tracks/41ev75JtScZeRGHQ19O6BG\n",
      "An error occurred: 429 Client Error: Too Many Requests for url: https://api.spotify.com/v1/tracks/4xhHhecO7i0jEySdGKQMWp\n",
      "An error occurred: 429 Client Error: Too Many Requests for url: https://api.spotify.com/v1/tracks/49pZlXa9pZ6N0j6O4xduoC\n",
      "An error occurred: 429 Client Error: Too Many Requests for url: https://api.spotify.com/v1/tracks/2eyszNMdxZtteBRCN1uL4j\n",
      "An error occurred: 429 Client Error: Too Many Requests for url: https://api.spotify.com/v1/tracks/0ZVzXE6cLLNshh4oMDoySI\n",
      "An error occurred: 429 Client Error: Too Many Requests for url: https://api.spotify.com/v1/tracks/0aVlO5bvmxjz6ep7rUs9y2\n",
      "An error occurred: 429 Client Error: Too Many Requests for url: https://api.spotify.com/v1/tracks/032kwZ9kg4yIaIPBOOIwlm\n",
      "An error occurred: 429 Client Error: Too Many Requests for url: https://api.spotify.com/v1/tracks/3wBy12K7BHKHJspUwJw8fq\n",
      "An error occurred: 429 Client Error: Too Many Requests for url: https://api.spotify.com/v1/tracks/64SIlhd3BaHCCMSfajXG7l\n",
      "An error occurred: 429 Client Error: Too Many Requests for url: https://api.spotify.com/v1/tracks/0y5CnV2idm2KkQEudDjfDT\n",
      "An error occurred: 429 Client Error: Too Many Requests for url: https://api.spotify.com/v1/tracks/1StXVL5gClph4z4XzanYko\n",
      "An error occurred: 429 Client Error: Too Many Requests for url: https://api.spotify.com/v1/tracks/6PBzdsMi6YNdYAevzozBRi\n",
      "An error occurred: 429 Client Error: Too Many Requests for url: https://api.spotify.com/v1/tracks/3pRaLNL3b8x5uBOcsgvdqM\n",
      "An error occurred: 429 Client Error: Too Many Requests for url: https://api.spotify.com/v1/tracks/6Jv7kjGkhY2fT4yuBF3aTz\n",
      "An error occurred: 429 Client Error: Too Many Requests for url: https://api.spotify.com/v1/tracks/4apuooN0LA5LZXeHog3nvb\n",
      "An error occurred: 429 Client Error: Too Many Requests for url: https://api.spotify.com/v1/tracks/7bf4nfz09yp6w7L7r9hQ1V\n",
      "An error occurred: 429 Client Error: Too Many Requests for url: https://api.spotify.com/v1/tracks/6q3wafztoGDT3nQYWVfyuO\n",
      "An error occurred: 429 Client Error: Too Many Requests for url: https://api.spotify.com/v1/tracks/6UuVONmxXwTKN1ISepuAoQ\n",
      "An error occurred: 429 Client Error: Too Many Requests for url: https://api.spotify.com/v1/tracks/7kXkSZrJahbCqzkwpmA2Sl\n",
      "An error occurred: 429 Client Error: Too Many Requests for url: https://api.spotify.com/v1/tracks/5rUqENE7bmNffBbZDhVBty\n",
      "An error occurred: 429 Client Error: Too Many Requests for url: https://api.spotify.com/v1/tracks/3LIYWsqYx8OGbSWESovIkN\n",
      "An error occurred: 429 Client Error: Too Many Requests for url: https://api.spotify.com/v1/tracks/3plLbnUUKpf8BSXLiIqkPx\n",
      "An error occurred: 429 Client Error: Too Many Requests for url: https://api.spotify.com/v1/tracks/4kjKIQfWhXmKogSHnKdVmp\n",
      "An error occurred: 429 Client Error: Too Many Requests for url: https://api.spotify.com/v1/tracks/3V06qtpYNjRhPCShfydlFu\n",
      "An error occurred: 429 Client Error: Too Many Requests for url: https://api.spotify.com/v1/tracks/0kyM6MaS573Gt9Yna1rsqd\n",
      "An error occurred: 429 Client Error: Too Many Requests for url: https://api.spotify.com/v1/tracks/7Jofa17kVLad8mOXJ0IjBT\n",
      "An error occurred: 429 Client Error: Too Many Requests for url: https://api.spotify.com/v1/tracks/1rcHUwzSz6nFFXIrMO3gt0\n",
      "An error occurred: 429 Client Error: Too Many Requests for url: https://api.spotify.com/v1/tracks/1Qvgix3o9JNBOg1fVfLS9I\n",
      "An error occurred: 429 Client Error: Too Many Requests for url: https://api.spotify.com/v1/tracks/5b2Tt8zNglSPW06DUQk3yl\n",
      "An error occurred: 429 Client Error: Too Many Requests for url: https://api.spotify.com/v1/tracks/4YrNChnandmYr3FoiiuI6W\n",
      "An error occurred: 429 Client Error: Too Many Requests for url: https://api.spotify.com/v1/tracks/2M64vgZ07oUmUNQ7FmXy0C\n",
      "An error occurred: 429 Client Error: Too Many Requests for url: https://api.spotify.com/v1/tracks/47OEl1PttAFxNEf9KRmx23\n",
      "An error occurred: 429 Client Error: Too Many Requests for url: https://api.spotify.com/v1/tracks/0MdRTzLRwDDMRMDP3TMplB\n",
      "An error occurred: 429 Client Error: Too Many Requests for url: https://api.spotify.com/v1/tracks/2yAiZj9cZilHoUT9FIhnLa\n",
      "An error occurred: 429 Client Error: Too Many Requests for url: https://api.spotify.com/v1/tracks/42y2MNoO4Tn1sF65vKV2U5\n",
      "An error occurred: 429 Client Error: Too Many Requests for url: https://api.spotify.com/v1/tracks/03E3HMw3ivbvX9B7ijnLzm\n",
      "An error occurred: 429 Client Error: Too Many Requests for url: https://api.spotify.com/v1/tracks/71n2fp6j7DE8gt5Mv7Oyvs\n",
      "An error occurred: 429 Client Error: Too Many Requests for url: https://api.spotify.com/v1/tracks/7yRlbjPEW3iJQeJA4BrKxo\n",
      "An error occurred: 429 Client Error: Too Many Requests for url: https://api.spotify.com/v1/tracks/0myfUjrUP8kMrk48nOXAY0\n",
      "An error occurred: 429 Client Error: Too Many Requests for url: https://api.spotify.com/v1/tracks/63WkUlPBOZtTQhchPQGvSO\n",
      "An error occurred: 429 Client Error: Too Many Requests for url: https://api.spotify.com/v1/tracks/36mitPywXt8W9et2UKBmYR\n",
      "An error occurred: 429 Client Error: Too Many Requests for url: https://api.spotify.com/v1/tracks/5EWc98pCUSXbu9hcZu8u3e\n",
      "An error occurred: 429 Client Error: Too Many Requests for url: https://api.spotify.com/v1/tracks/6AUS8Mr1Pcq4cOfY0VcwmK\n",
      "An error occurred: 429 Client Error: Too Many Requests for url: https://api.spotify.com/v1/tracks/6Gke686xWKp3RlYRUsuPUF\n",
      "An error occurred: 429 Client Error: Too Many Requests for url: https://api.spotify.com/v1/tracks/5IGJSa4y9lU2JFKXyVE82Y\n",
      "An error occurred: 429 Client Error: Too Many Requests for url: https://api.spotify.com/v1/tracks/4sH4xTC3M4HAnFrdk5xqFO\n",
      "An error occurred: 429 Client Error: Too Many Requests for url: https://api.spotify.com/v1/tracks/6c5wNEDSex3fWMsCr3CzJl\n",
      "An error occurred: 429 Client Error: Too Many Requests for url: https://api.spotify.com/v1/tracks/4zFGlnyED2r4I9pSLQShzZ\n",
      "An error occurred: 429 Client Error: Too Many Requests for url: https://api.spotify.com/v1/tracks/61643LNfn03i163tDCzK6Z\n",
      "An error occurred: 429 Client Error: Too Many Requests for url: https://api.spotify.com/v1/tracks/2ANk2zwVj0JIQeh1Di5qAD\n"
     ]
    },
    {
     "name": "stdout",
     "output_type": "stream",
     "text": [
      "An error occurred: 429 Client Error: Too Many Requests for url: https://api.spotify.com/v1/tracks/4ZIHoyUXYbPCDfVedr5rWh\n",
      "An error occurred: 429 Client Error: Too Many Requests for url: https://api.spotify.com/v1/tracks/6HPL4ntDOnsdc1jtnX8XMJ\n",
      "An error occurred: 429 Client Error: Too Many Requests for url: https://api.spotify.com/v1/tracks/55i4volbrLIbUP1KjpRQmH\n",
      "An error occurred: 429 Client Error: Too Many Requests for url: https://api.spotify.com/v1/tracks/4NIIxQd4TYjQncltQ4JGAH\n",
      "An error occurred: 429 Client Error: Too Many Requests for url: https://api.spotify.com/v1/tracks/6WJS98cmvNEzTjQRD3dUTL\n",
      "An error occurred: 429 Client Error: Too Many Requests for url: https://api.spotify.com/v1/tracks/7xbO38eg1icRKIfu26Mvsz\n",
      "An error occurred: 429 Client Error: Too Many Requests for url: https://api.spotify.com/v1/tracks/4Zp35RIATJCwHAKEhtiSb0\n",
      "An error occurred: 429 Client Error: Too Many Requests for url: https://api.spotify.com/v1/tracks/5guVvrqQlZVTnHky6gxVOP\n",
      "An error occurred: 429 Client Error: Too Many Requests for url: https://api.spotify.com/v1/tracks/6Va1qwqV4lEvbOyPqodbth\n",
      "An error occurred: 429 Client Error: Too Many Requests for url: https://api.spotify.com/v1/tracks/47INZai2CsZtzBQAIqLmof\n",
      "An error occurred: 429 Client Error: Too Many Requests for url: https://api.spotify.com/v1/tracks/22mLKFanGy1bEb0qWuvMV0\n",
      "An error occurred: 429 Client Error: Too Many Requests for url: https://api.spotify.com/v1/tracks/7Ddg3Hu6DKe4lyxyFLhbeA\n",
      "An error occurred: 429 Client Error: Too Many Requests for url: https://api.spotify.com/v1/tracks/6N9JEq02Lgc5LMbNshEdfT\n",
      "An error occurred: 429 Client Error: Too Many Requests for url: https://api.spotify.com/v1/tracks/0RyfAyHQvWmSuz5FQKEoaR\n",
      "An error occurred: 429 Client Error: Too Many Requests for url: https://api.spotify.com/v1/tracks/1p9MMNzukuxDBtyrtBAwwI\n",
      "An error occurred: 429 Client Error: Too Many Requests for url: https://api.spotify.com/v1/tracks/3mz4Vh5L2zyyriw01lLOCE\n",
      "An error occurred: 429 Client Error: Too Many Requests for url: https://api.spotify.com/v1/tracks/5PclxRY6shIQzSKxxbdZso\n",
      "An error occurred: 429 Client Error: Too Many Requests for url: https://api.spotify.com/v1/tracks/6oQJj3CBb2mx3asDHM6U4t\n",
      "An error occurred: 429 Client Error: Too Many Requests for url: https://api.spotify.com/v1/tracks/523HruoIx6BPW8JhZ6La3o\n",
      "An error occurred: 429 Client Error: Too Many Requests for url: https://api.spotify.com/v1/tracks/7G3d1rttNC54yaHiQfEO7p\n",
      "An error occurred: 429 Client Error: Too Many Requests for url: https://api.spotify.com/v1/tracks/6AojtE1obBPnKl9kV3wput\n",
      "An error occurred: 429 Client Error: Too Many Requests for url: https://api.spotify.com/v1/tracks/43c2iyzDbIGBEaJWQIxnWa\n",
      "An error occurred: 429 Client Error: Too Many Requests for url: https://api.spotify.com/v1/tracks/3XACvSZ9dlhsV5tjrv7v1j\n",
      "An error occurred: 429 Client Error: Too Many Requests for url: https://api.spotify.com/v1/tracks/7CByzrzR4LCBxVI7lM8Ggv\n",
      "An error occurred: 429 Client Error: Too Many Requests for url: https://api.spotify.com/v1/tracks/5lCjgHTEE7tbmzDVaCloGC\n",
      "An error occurred: 429 Client Error: Too Many Requests for url: https://api.spotify.com/v1/tracks/3HVS01vPf5NMGS7ACAyEXv\n",
      "An error occurred: 429 Client Error: Too Many Requests for url: https://api.spotify.com/v1/tracks/2l7iDl470hxtX7FkzAA3wz\n",
      "An error occurred: 429 Client Error: Too Many Requests for url: https://api.spotify.com/v1/tracks/7DzT745Oi9NI016FEkjWNa\n",
      "An error occurred: 429 Client Error: Too Many Requests for url: https://api.spotify.com/v1/tracks/2ziWygUNToqsrm3yNOD6SZ\n",
      "An error occurred: 429 Client Error: Too Many Requests for url: https://api.spotify.com/v1/tracks/5fKZJHzJ9d3MADArbm9muW\n",
      "An error occurred: 429 Client Error: Too Many Requests for url: https://api.spotify.com/v1/tracks/51Nh6X9tfaBLQF3YyK6s2A\n",
      "An error occurred: 429 Client Error: Too Many Requests for url: https://api.spotify.com/v1/tracks/7c1Dar0pIAW7w5TzaGjt9t\n",
      "An error occurred: 429 Client Error: Too Many Requests for url: https://api.spotify.com/v1/tracks/0Vkw2n0irMm2HaCawvXM6M\n",
      "An error occurred: 429 Client Error: Too Many Requests for url: https://api.spotify.com/v1/tracks/0MbbjxUwRG0nNbneLXKkHP\n",
      "An error occurred: 429 Client Error: Too Many Requests for url: https://api.spotify.com/v1/tracks/48YkpE5enOln5c7jXSTuHL\n",
      "An error occurred: 429 Client Error: Too Many Requests for url: https://api.spotify.com/v1/tracks/3sYWyVGfPuit80szWXhrRA\n",
      "An error occurred: 429 Client Error: Too Many Requests for url: https://api.spotify.com/v1/tracks/7oBazz4xCO7Ul3MJHhKy0Q\n",
      "An error occurred: 429 Client Error: Too Many Requests for url: https://api.spotify.com/v1/tracks/15VRO9CQwMpbqUYA7e6Hwg\n",
      "An error occurred: 429 Client Error: Too Many Requests for url: https://api.spotify.com/v1/tracks/6DX6W2QXiVlKYQLrQN8y83\n",
      "An error occurred: 429 Client Error: Too Many Requests for url: https://api.spotify.com/v1/tracks/725QAOexNLmGZiFMN7U8pF\n",
      "An error occurred: 429 Client Error: Too Many Requests for url: https://api.spotify.com/v1/tracks/0xHch89AN9RlN8Nm4kJzs3\n",
      "An error occurred: 429 Client Error: Too Many Requests for url: https://api.spotify.com/v1/tracks/2RyiGdY33PR4aCTUolEhk7\n",
      "An error occurred: 429 Client Error: Too Many Requests for url: https://api.spotify.com/v1/tracks/1tlTFxB34VorrZnJNfRWcs\n",
      "An error occurred: 429 Client Error: Too Many Requests for url: https://api.spotify.com/v1/tracks/2smax1OWAxOo63p14G8KZx\n",
      "An error occurred: 429 Client Error: Too Many Requests for url: https://api.spotify.com/v1/tracks/2vfCSwToh0Am0O4zgHXfn7\n",
      "An error occurred: 429 Client Error: Too Many Requests for url: https://api.spotify.com/v1/tracks/4UJmPSJsBsIR1U0N79BU1g\n",
      "An error occurred: 429 Client Error: Too Many Requests for url: https://api.spotify.com/v1/tracks/3bH8PZsfbCRIoeNiFm7JmU\n",
      "An error occurred: 429 Client Error: Too Many Requests for url: https://api.spotify.com/v1/tracks/551qy5vUgrUfEUc4dCNfht\n",
      "An error occurred: 429 Client Error: Too Many Requests for url: https://api.spotify.com/v1/tracks/34QTgJPSf9Nvpw3NrlX8pu\n",
      "An error occurred: 429 Client Error: Too Many Requests for url: https://api.spotify.com/v1/tracks/71XhXay6rKPZCVAaDtFlSR\n",
      "An error occurred: 429 Client Error: Too Many Requests for url: https://api.spotify.com/v1/tracks/2VjXGuPVVxyhMgER3Uz2Fe\n",
      "An error occurred: 429 Client Error: Too Many Requests for url: https://api.spotify.com/v1/tracks/7x6hO9VMAee9x1iWaeNkL6\n",
      "An error occurred: 429 Client Error: Too Many Requests for url: https://api.spotify.com/v1/tracks/0uEp9E98JB5awlA084uaIg\n",
      "An error occurred: 429 Client Error: Too Many Requests for url: https://api.spotify.com/v1/tracks/4zSmsHur194jO2hGCTt6Hn\n",
      "An error occurred: 429 Client Error: Too Many Requests for url: https://api.spotify.com/v1/tracks/7nY3NA1AvORewLU3BU7GNX\n",
      "An error occurred: 429 Client Error: Too Many Requests for url: https://api.spotify.com/v1/tracks/3CNSWn2mISh7Ll3yJQbVEw\n",
      "An error occurred: 429 Client Error: Too Many Requests for url: https://api.spotify.com/v1/tracks/3IRdgbdqDcmJBIa6TY2mKX\n",
      "An error occurred: 429 Client Error: Too Many Requests for url: https://api.spotify.com/v1/tracks/2RPhXg9D4JOkryUznL0aaB\n",
      "An error occurred: 429 Client Error: Too Many Requests for url: https://api.spotify.com/v1/tracks/6ioEEcJzOpLyIO6Dgn1RYS\n",
      "An error occurred: 429 Client Error: Too Many Requests for url: https://api.spotify.com/v1/tracks/1Q0lOGB52skgfzdcq233vs\n",
      "An error occurred: 429 Client Error: Too Many Requests for url: https://api.spotify.com/v1/tracks/7t86fVeDAd63ThaR0ZkxXS\n",
      "An error occurred: 429 Client Error: Too Many Requests for url: https://api.spotify.com/v1/tracks/12Y1GaS44vga0G3rUtjFAY\n",
      "An error occurred: 429 Client Error: Too Many Requests for url: https://api.spotify.com/v1/tracks/2GFExyKXf9383tSRSrEHEt\n",
      "An error occurred: 429 Client Error: Too Many Requests for url: https://api.spotify.com/v1/tracks/7iCs98iS5n6KCI4q3H7zp9\n",
      "An error occurred: 429 Client Error: Too Many Requests for url: https://api.spotify.com/v1/tracks/46fUIkFk2k7DlclqFxaUMq\n",
      "An error occurred: 429 Client Error: Too Many Requests for url: https://api.spotify.com/v1/tracks/3Sfy38uYZMAhZdHecR1zsU\n",
      "An error occurred: 429 Client Error: Too Many Requests for url: https://api.spotify.com/v1/tracks/4vgQOb4IFp2gXXAAZcFg6l\n",
      "An error occurred: 429 Client Error: Too Many Requests for url: https://api.spotify.com/v1/tracks/0hPHoczu2ZDez8mnRnF0IV\n"
     ]
    },
    {
     "name": "stdout",
     "output_type": "stream",
     "text": [
      "An error occurred: 429 Client Error: Too Many Requests for url: https://api.spotify.com/v1/tracks/6OQeoFuY8CnKnBR2iJmk2y\n",
      "An error occurred: 429 Client Error: Too Many Requests for url: https://api.spotify.com/v1/tracks/2BgDUp12ytwJmLCab4VXsS\n",
      "An error occurred: 429 Client Error: Too Many Requests for url: https://api.spotify.com/v1/tracks/4Rbniz5regXQjeqJjbcyNv\n",
      "An error occurred: 429 Client Error: Too Many Requests for url: https://api.spotify.com/v1/tracks/6ysK7OSU1cOK6JuJyFhMgJ\n",
      "An error occurred: 429 Client Error: Too Many Requests for url: https://api.spotify.com/v1/tracks/4N4nmc1gHqcOE9EdoV5vwE\n",
      "An error occurred: 429 Client Error: Too Many Requests for url: https://api.spotify.com/v1/tracks/7ERZgMLgpVhrp2D6JYy02t\n",
      "An error occurred: 429 Client Error: Too Many Requests for url: https://api.spotify.com/v1/tracks/3gBE71E0cl8xRZLj8IJIuP\n",
      "An error occurred: 429 Client Error: Too Many Requests for url: https://api.spotify.com/v1/tracks/6SPdaCpTYFe8ay3kdBHVD7\n",
      "An error occurred: 429 Client Error: Too Many Requests for url: https://api.spotify.com/v1/tracks/51qnsjPJ9V9ZNoc2bGKaP3\n",
      "An error occurred: 429 Client Error: Too Many Requests for url: https://api.spotify.com/v1/tracks/5G2g1EbEtFSMkMbAnhl7FV\n",
      "An error occurred: 429 Client Error: Too Many Requests for url: https://api.spotify.com/v1/tracks/1OeLgt3rl1gtWBmzqMXIKs\n",
      "An error occurred: 429 Client Error: Too Many Requests for url: https://api.spotify.com/v1/tracks/7wCmS9TTVUcIhRalDYFgPy\n",
      "An error occurred: 429 Client Error: Too Many Requests for url: https://api.spotify.com/v1/tracks/4S3XYcZFs6FbsiLwH13Z63\n",
      "An error occurred: 429 Client Error: Too Many Requests for url: https://api.spotify.com/v1/tracks/6ptzEN5p1hdSxFiLfArq3G\n",
      "An error occurred: 429 Client Error: Too Many Requests for url: https://api.spotify.com/v1/tracks/3TdTQ1Uk8mph3yxYxcsQpI\n",
      "An error occurred: 429 Client Error: Too Many Requests for url: https://api.spotify.com/v1/tracks/75liGvzheM6Qkfds1oaSFk\n",
      "An error occurred: 429 Client Error: Too Many Requests for url: https://api.spotify.com/v1/tracks/2bj4WVLkmUE2sGelMD0a5d\n",
      "An error occurred: 429 Client Error: Too Many Requests for url: https://api.spotify.com/v1/tracks/6uaj6U0RWkjtXnk5550ZTC\n",
      "An error occurred: 429 Client Error: Too Many Requests for url: https://api.spotify.com/v1/tracks/5Z52756ttqY4zJMFhK1clR\n",
      "An error occurred: 429 Client Error: Too Many Requests for url: https://api.spotify.com/v1/tracks/0KpMY3D2G8253VTZbDBUmA\n",
      "An error occurred: 429 Client Error: Too Many Requests for url: https://api.spotify.com/v1/tracks/2YswUTbozv3CfQfBV8p7L6\n",
      "An error occurred: 429 Client Error: Too Many Requests for url: https://api.spotify.com/v1/tracks/3kQ6dKdmI178UNlgf0JWAc\n",
      "An error occurred: 429 Client Error: Too Many Requests for url: https://api.spotify.com/v1/tracks/2mhVy5a8BmJ1t3YFk9DlWi\n",
      "An error occurred: 429 Client Error: Too Many Requests for url: https://api.spotify.com/v1/tracks/7ycwZrSaXqhSaY5yeOZgdS\n",
      "An error occurred: 429 Client Error: Too Many Requests for url: https://api.spotify.com/v1/tracks/5uWUyzHQWOsw5uZOw9alPT\n",
      "An error occurred: 429 Client Error: Too Many Requests for url: https://api.spotify.com/v1/tracks/03oob3RtQLmaAoCWFH0Zj2\n",
      "An error occurred: 429 Client Error: Too Many Requests for url: https://api.spotify.com/v1/tracks/1J1QKnproZR0JkQ7Der8IW\n",
      "An error occurred: 429 Client Error: Too Many Requests for url: https://api.spotify.com/v1/tracks/28285KFbyCq8sJofn58qlD\n"
     ]
    }
   ],
   "source": [
    "# List to store the retrieved track data\n",
    "track_data_list = []\n",
    "\n",
    "# Function to search and retrieve track information\n",
    "def search_track_info(track_url):\n",
    "    time.sleep(0.30)  # Pause between queries to avoid getting banned\n",
    "\n",
    "    try:\n",
    "        response = rq.get(track_url['url'], headers=headers)\n",
    "        response.raise_for_status()  # Check for request errors\n",
    "        data = response.json()\n",
    "\n",
    "        # Extract necessary data from the response\n",
    "        track_data_list.append({\n",
    "            'track_id': data['id'],\n",
    "            'track_name': data['name'],\n",
    "            'album_id': data['album']['id'],\n",
    "            'album_name': data['album']['name'],\n",
    "            'artist_id': data['artists'][0]['id'],\n",
    "            'artist_name': data['artists'][0]['name'],\n",
    "            'danceability': data.get('danceability'),\n",
    "            'popularity': data.get('popularity'),\n",
    "            'energy': data.get('energy'),\n",
    "            'acousticness': data.get('acousticness'),\n",
    "            'valence': data.get('valence'),\n",
    "            'instrumentalness': data.get('instrumentalness'),\n",
    "            'tempo': data.get('tempo'),\n",
    "            'loudness': data.get('loudness')\n",
    "        })\n",
    "\n",
    "    except Exception as e:\n",
    "        print(f\"An error occurred: {e}\")\n",
    "        track_data_list.append({\n",
    "            'track_id': None,\n",
    "            'track_name': None,\n",
    "            'album_id': None,\n",
    "            'album_name': None,\n",
    "            'artist_id': None,\n",
    "            'artist_name': None,\n",
    "            'danceability': None,\n",
    "            'popularity': None,\n",
    "            'energy': None,\n",
    "            'acousticness': None,\n",
    "            'valence': None,\n",
    "            'instrumentalness': None,\n",
    "            'tempo': None,\n",
    "            'loudness': None\n",
    "        })\n",
    "\n",
    "# Execute the function for each track URL\n",
    "for track_url in track_url_list:\n",
    "    search_track_info(track_url)\n",
    "\n",
    "# Create a DataFrame from the list of dictionaries\n",
    "data_tracks2 = pd.DataFrame(track_data_list)"
   ]
  },
  {
   "cell_type": "code",
   "execution_count": 74,
   "id": "a2d69af0",
   "metadata": {},
   "outputs": [
    {
     "data": {
      "text/html": [
       "<div>\n",
       "<style scoped>\n",
       "    .dataframe tbody tr th:only-of-type {\n",
       "        vertical-align: middle;\n",
       "    }\n",
       "\n",
       "    .dataframe tbody tr th {\n",
       "        vertical-align: top;\n",
       "    }\n",
       "\n",
       "    .dataframe thead th {\n",
       "        text-align: right;\n",
       "    }\n",
       "</style>\n",
       "<table border=\"1\" class=\"dataframe\">\n",
       "  <thead>\n",
       "    <tr style=\"text-align: right;\">\n",
       "      <th></th>\n",
       "      <th>track_id</th>\n",
       "      <th>track_name</th>\n",
       "      <th>album_id</th>\n",
       "      <th>artist_id</th>\n",
       "      <th>artist_name</th>\n",
       "    </tr>\n",
       "  </thead>\n",
       "  <tbody>\n",
       "    <tr>\n",
       "      <th>0</th>\n",
       "      <td>4ZY1RPoLfezEqu03BI2axd</td>\n",
       "      <td>Sgt. Pepper's Lonely Hearts Club Band</td>\n",
       "      <td>1x1jpjDbetGqX0IKCUIBNj</td>\n",
       "      <td>3wGWCP3E3tYqj5memYV9Vq</td>\n",
       "      <td>Bloco do Sargento Pimenta</td>\n",
       "    </tr>\n",
       "    <tr>\n",
       "      <th>1</th>\n",
       "      <td>0QLyr8xasb6tgGkdPWYw8d</td>\n",
       "      <td>With a Little Help From My Friends</td>\n",
       "      <td>1x1jpjDbetGqX0IKCUIBNj</td>\n",
       "      <td>3wGWCP3E3tYqj5memYV9Vq</td>\n",
       "      <td>Bloco do Sargento Pimenta</td>\n",
       "    </tr>\n",
       "    <tr>\n",
       "      <th>2</th>\n",
       "      <td>1YFlTlQHKR62Sh39ctI7jX</td>\n",
       "      <td>Lucy in the Sky with Diamonds</td>\n",
       "      <td>1x1jpjDbetGqX0IKCUIBNj</td>\n",
       "      <td>3wGWCP3E3tYqj5memYV9Vq</td>\n",
       "      <td>Bloco do Sargento Pimenta</td>\n",
       "    </tr>\n",
       "    <tr>\n",
       "      <th>3</th>\n",
       "      <td>1aBpFQAum7vESFuNnWeZZI</td>\n",
       "      <td>Getting Better</td>\n",
       "      <td>1x1jpjDbetGqX0IKCUIBNj</td>\n",
       "      <td>3wGWCP3E3tYqj5memYV9Vq</td>\n",
       "      <td>Bloco do Sargento Pimenta</td>\n",
       "    </tr>\n",
       "    <tr>\n",
       "      <th>4</th>\n",
       "      <td>2OePklaMhBp1kCbbTq5UVk</td>\n",
       "      <td>Fixing a Hole</td>\n",
       "      <td>1x1jpjDbetGqX0IKCUIBNj</td>\n",
       "      <td>3wGWCP3E3tYqj5memYV9Vq</td>\n",
       "      <td>Bloco do Sargento Pimenta</td>\n",
       "    </tr>\n",
       "  </tbody>\n",
       "</table>\n",
       "</div>"
      ],
      "text/plain": [
       "                 track_id                             track_name  \\\n",
       "0  4ZY1RPoLfezEqu03BI2axd  Sgt. Pepper's Lonely Hearts Club Band   \n",
       "1  0QLyr8xasb6tgGkdPWYw8d     With a Little Help From My Friends   \n",
       "2  1YFlTlQHKR62Sh39ctI7jX          Lucy in the Sky with Diamonds   \n",
       "3  1aBpFQAum7vESFuNnWeZZI                         Getting Better   \n",
       "4  2OePklaMhBp1kCbbTq5UVk                          Fixing a Hole   \n",
       "\n",
       "                 album_id               artist_id                artist_name  \n",
       "0  1x1jpjDbetGqX0IKCUIBNj  3wGWCP3E3tYqj5memYV9Vq  Bloco do Sargento Pimenta  \n",
       "1  1x1jpjDbetGqX0IKCUIBNj  3wGWCP3E3tYqj5memYV9Vq  Bloco do Sargento Pimenta  \n",
       "2  1x1jpjDbetGqX0IKCUIBNj  3wGWCP3E3tYqj5memYV9Vq  Bloco do Sargento Pimenta  \n",
       "3  1x1jpjDbetGqX0IKCUIBNj  3wGWCP3E3tYqj5memYV9Vq  Bloco do Sargento Pimenta  \n",
       "4  1x1jpjDbetGqX0IKCUIBNj  3wGWCP3E3tYqj5memYV9Vq  Bloco do Sargento Pimenta  "
      ]
     },
     "execution_count": 74,
     "metadata": {},
     "output_type": "execute_result"
    }
   ],
   "source": [
    "data_tracks2.head()"
   ]
  },
  {
   "cell_type": "code",
   "execution_count": 76,
   "id": "08b31b16",
   "metadata": {},
   "outputs": [
    {
     "data": {
      "text/plain": [
       "(4818, 5)"
      ]
     },
     "execution_count": 76,
     "metadata": {},
     "output_type": "execute_result"
    }
   ],
   "source": [
    "data_tracks.shape"
   ]
  },
  {
   "cell_type": "code",
   "execution_count": 77,
   "id": "7be3dcf1",
   "metadata": {},
   "outputs": [],
   "source": [
    "data_tracks.to_csv('../data/clean/api_tracks1_clean.csv', index=False)"
   ]
  }
 ],
 "metadata": {
  "kernelspec": {
   "display_name": "clase",
   "language": "python",
   "name": "clase"
  },
  "language_info": {
   "codemirror_mode": {
    "name": "ipython",
    "version": 3
   },
   "file_extension": ".py",
   "mimetype": "text/x-python",
   "name": "python",
   "nbconvert_exporter": "python",
   "pygments_lexer": "ipython3",
   "version": "3.10.13"
  }
 },
 "nbformat": 4,
 "nbformat_minor": 5
}
