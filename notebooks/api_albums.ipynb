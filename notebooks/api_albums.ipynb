{
 "cells": [
  {
   "cell_type": "markdown",
   "id": "ebacb433",
   "metadata": {},
   "source": [
    "### Importing libraries"
   ]
  },
  {
   "cell_type": "code",
   "execution_count": 31,
   "id": "1e4976af",
   "metadata": {},
   "outputs": [],
   "source": [
    "import pandas as pd\n",
    "import numpy as np\n",
    "import time \n",
    "\n",
    "import warnings\n",
    "warnings.filterwarnings('ignore')\n",
    "\n",
    "pd.set_option('display.max_columns', None)  # me muestre todas las columnas\n",
    "#pd.set_option('display.max_rows', None)  # me muestre todas las filas"
   ]
  },
  {
   "cell_type": "markdown",
   "id": "40f80fe7",
   "metadata": {},
   "source": [
    "### Getting target list "
   ]
  },
  {
   "cell_type": "code",
   "execution_count": 32,
   "id": "6cb1dca7",
   "metadata": {},
   "outputs": [
    {
     "data": {
      "text/html": [
       "<div>\n",
       "<style scoped>\n",
       "    .dataframe tbody tr th:only-of-type {\n",
       "        vertical-align: middle;\n",
       "    }\n",
       "\n",
       "    .dataframe tbody tr th {\n",
       "        vertical-align: top;\n",
       "    }\n",
       "\n",
       "    .dataframe thead th {\n",
       "        text-align: right;\n",
       "    }\n",
       "</style>\n",
       "<table border=\"1\" class=\"dataframe\">\n",
       "  <thead>\n",
       "    <tr style=\"text-align: right;\">\n",
       "      <th></th>\n",
       "      <th>toprankingorder</th>\n",
       "      <th>album</th>\n",
       "      <th>artist</th>\n",
       "      <th>year</th>\n",
       "      <th>album_artist</th>\n",
       "      <th>horriblerankingorder</th>\n",
       "      <th>rationale</th>\n",
       "    </tr>\n",
       "  </thead>\n",
       "  <tbody>\n",
       "    <tr>\n",
       "      <th>0</th>\n",
       "      <td>1.0</td>\n",
       "      <td>Sgt. Pepper's Lonely Hearts Club Band</td>\n",
       "      <td>The Beatles</td>\n",
       "      <td>1967</td>\n",
       "      <td>Sgt. Pepper's Lonely Hearts Club Band - The Be...</td>\n",
       "      <td>NaN</td>\n",
       "      <td>NaN</td>\n",
       "    </tr>\n",
       "    <tr>\n",
       "      <th>1</th>\n",
       "      <td>2.0</td>\n",
       "      <td>Pet Sounds</td>\n",
       "      <td>The Beach Boys</td>\n",
       "      <td>1966</td>\n",
       "      <td>Pet Sounds - The Beach Boys</td>\n",
       "      <td>NaN</td>\n",
       "      <td>NaN</td>\n",
       "    </tr>\n",
       "    <tr>\n",
       "      <th>2</th>\n",
       "      <td>3.0</td>\n",
       "      <td>Revolver</td>\n",
       "      <td>The Beatles</td>\n",
       "      <td>1966</td>\n",
       "      <td>Revolver - The Beatles</td>\n",
       "      <td>NaN</td>\n",
       "      <td>NaN</td>\n",
       "    </tr>\n",
       "  </tbody>\n",
       "</table>\n",
       "</div>"
      ],
      "text/plain": [
       "   toprankingorder                                  album          artist  \\\n",
       "0              1.0  Sgt. Pepper's Lonely Hearts Club Band     The Beatles   \n",
       "1              2.0                             Pet Sounds  The Beach Boys   \n",
       "2              3.0                               Revolver     The Beatles   \n",
       "\n",
       "   year                                       album_artist  \\\n",
       "0  1967  Sgt. Pepper's Lonely Hearts Club Band - The Be...   \n",
       "1  1966                        Pet Sounds - The Beach Boys   \n",
       "2  1966                             Revolver - The Beatles   \n",
       "\n",
       "   horriblerankingorder rationale  \n",
       "0                   NaN       NaN  \n",
       "1                   NaN       NaN  \n",
       "2                   NaN       NaN  "
      ]
     },
     "execution_count": 32,
     "metadata": {},
     "output_type": "execute_result"
    }
   ],
   "source": [
    "all_albums = pd.read_csv('../data/clean/all_550_albums_clean.csv', encoding='latin1')\n",
    "\n",
    "all_albums.head(3)"
   ]
  },
  {
   "cell_type": "markdown",
   "id": "08ac0d9b",
   "metadata": {},
   "source": [
    "#### list of albums"
   ]
  },
  {
   "cell_type": "code",
   "execution_count": 33,
   "id": "84dc1caf",
   "metadata": {},
   "outputs": [],
   "source": [
    "albums = all_albums['album'].unique().tolist()"
   ]
  },
  {
   "cell_type": "code",
   "execution_count": 34,
   "id": "feeb968d",
   "metadata": {},
   "outputs": [
    {
     "data": {
      "text/plain": [
       "547"
      ]
     },
     "execution_count": 34,
     "metadata": {},
     "output_type": "execute_result"
    }
   ],
   "source": [
    "#some had the same name (e.g. Greatest Hits, Let It Be)\n",
    "\n",
    "len(albums)"
   ]
  },
  {
   "cell_type": "markdown",
   "id": "1e120e32",
   "metadata": {},
   "source": [
    "#### list of albums_artists "
   ]
  },
  {
   "cell_type": "code",
   "execution_count": 35,
   "id": "8015dcfb",
   "metadata": {},
   "outputs": [],
   "source": [
    "album_artist = all_albums['album_artist'].unique().tolist()"
   ]
  },
  {
   "cell_type": "code",
   "execution_count": 36,
   "id": "8b555878",
   "metadata": {},
   "outputs": [
    {
     "data": {
      "text/plain": [
       "550"
      ]
     },
     "execution_count": 36,
     "metadata": {},
     "output_type": "execute_result"
    }
   ],
   "source": [
    "len(album_artist)"
   ]
  },
  {
   "cell_type": "markdown",
   "id": "afe829e4",
   "metadata": {},
   "source": [
    "### Spotify Connection "
   ]
  },
  {
   "cell_type": "code",
   "execution_count": 37,
   "id": "1fc27d37",
   "metadata": {},
   "outputs": [],
   "source": [
    "#%pip install pyarrow\n",
    "#%pip install joblib\n",
    "#%pip install tqdm\n",
    "#%pip install spotipy\n",
    "#%pip install python-dotenv\n",
    "#%pip install requests "
   ]
  },
  {
   "cell_type": "code",
   "execution_count": 38,
   "id": "a163f66c",
   "metadata": {},
   "outputs": [],
   "source": [
    "import requests as rq\n",
    "import pyarrow\n",
    "from joblib import Parallel, delayed\n",
    "from tqdm import tqdm\n",
    "import pymongo\n",
    "from passwords import *"
   ]
  },
  {
   "cell_type": "code",
   "execution_count": 39,
   "id": "8e634c8c",
   "metadata": {},
   "outputs": [
    {
     "data": {
      "text/plain": [
       "<Response [200]>"
      ]
     },
     "execution_count": 39,
     "metadata": {},
     "output_type": "execute_result"
    }
   ],
   "source": [
    "# Obtener el TOKEN\n",
    "\n",
    "AUTH_URL = \"https://accounts.spotify.com/api/token\"\n",
    "\n",
    "creds = {\n",
    "    \"grant_type\": \"client_credentials\",\n",
    "    \"client_id\": Client_ID,\n",
    "    \"client_secret\": Client_secret\n",
    "}\n",
    "\n",
    "response = rq.post(AUTH_URL, \n",
    "                         data=creds, \n",
    "                         headers={\"Content-Type\": \"application/x-www-form-urlencoded\"})\n",
    "\n",
    "\n",
    "TOKEN = response.json()['access_token']\n",
    "\n",
    "# Conexión con la API\n",
    "\n",
    "url = \"https://api.spotify.com/\"\n",
    "\n",
    "headers = {\"Authorization\": f'Bearer {TOKEN}'}\n",
    "\n",
    "response = rq.get(url,headers=headers)\n",
    "response"
   ]
  },
  {
   "cell_type": "markdown",
   "id": "0d90704b",
   "metadata": {},
   "source": [
    "### Getting Album Information "
   ]
  },
  {
   "cell_type": "code",
   "execution_count": 40,
   "id": "ed5a1f55",
   "metadata": {},
   "outputs": [
    {
     "data": {
      "text/plain": [
       "[\"Sgt. Pepper's Lonely Hearts Club Band\", 'Pet Sounds', 'Revolver']"
      ]
     },
     "execution_count": 40,
     "metadata": {},
     "output_type": "execute_result"
    }
   ],
   "source": [
    "albums[0:3]"
   ]
  },
  {
   "cell_type": "code",
   "execution_count": 41,
   "id": "3081290a",
   "metadata": {},
   "outputs": [],
   "source": [
    "#understanding the json "
   ]
  },
  {
   "cell_type": "code",
   "execution_count": 42,
   "id": "c92992dc",
   "metadata": {},
   "outputs": [],
   "source": [
    "url = 'https://api.spotify.com/v1/search?q=album%3Apet+sounds&type=album&limit=50&offset=0'"
   ]
  },
  {
   "cell_type": "code",
   "execution_count": 43,
   "id": "7cc076aa",
   "metadata": {},
   "outputs": [
    {
     "data": {
      "text/plain": [
       "200"
      ]
     },
     "execution_count": 43,
     "metadata": {},
     "output_type": "execute_result"
    }
   ],
   "source": [
    "res = rq.get(url, headers=headers)\n",
    "res.status_code "
   ]
  },
  {
   "cell_type": "code",
   "execution_count": 44,
   "id": "d58b5362",
   "metadata": {},
   "outputs": [],
   "source": [
    "data = res.json()"
   ]
  },
  {
   "cell_type": "code",
   "execution_count": 45,
   "id": "49fcd220",
   "metadata": {},
   "outputs": [
    {
     "data": {
      "text/plain": [
       "dict"
      ]
     },
     "execution_count": 45,
     "metadata": {},
     "output_type": "execute_result"
    }
   ],
   "source": [
    "type(data)"
   ]
  },
  {
   "cell_type": "code",
   "execution_count": 46,
   "id": "94d65cf9",
   "metadata": {},
   "outputs": [
    {
     "data": {
      "text/plain": [
       "dict_keys(['albums'])"
      ]
     },
     "execution_count": 46,
     "metadata": {},
     "output_type": "execute_result"
    }
   ],
   "source": [
    "data.keys()"
   ]
  },
  {
   "cell_type": "code",
   "execution_count": 47,
   "id": "37bcda7d",
   "metadata": {},
   "outputs": [
    {
     "data": {
      "text/plain": [
       "dict_keys(['href', 'items', 'limit', 'next', 'offset', 'previous', 'total'])"
      ]
     },
     "execution_count": 47,
     "metadata": {},
     "output_type": "execute_result"
    }
   ],
   "source": [
    "data['albums'].keys()"
   ]
  },
  {
   "cell_type": "code",
   "execution_count": 48,
   "id": "0d2b953b",
   "metadata": {},
   "outputs": [
    {
     "data": {
      "text/plain": [
       "dict_keys(['album_type', 'artists', 'available_markets', 'external_urls', 'href', 'id', 'images', 'name', 'release_date', 'release_date_precision', 'total_tracks', 'type', 'uri'])"
      ]
     },
     "execution_count": 48,
     "metadata": {},
     "output_type": "execute_result"
    }
   ],
   "source": [
    "data['albums']['items'][0].keys()"
   ]
  },
  {
   "cell_type": "code",
   "execution_count": 49,
   "id": "de28befc",
   "metadata": {},
   "outputs": [
    {
     "data": {
      "text/plain": [
       "'6GphKx2QAPRoVGWE9D7ou8'"
      ]
     },
     "execution_count": 49,
     "metadata": {},
     "output_type": "execute_result"
    }
   ],
   "source": [
    "#quiero el id del album en Spotify \n",
    "data['albums']['items'][0]['id']"
   ]
  },
  {
   "cell_type": "code",
   "execution_count": 50,
   "id": "c8f382fe",
   "metadata": {},
   "outputs": [
    {
     "data": {
      "text/plain": [
       "'Pet Sounds (Original Mono & Stereo Mix)'"
      ]
     },
     "execution_count": 50,
     "metadata": {},
     "output_type": "execute_result"
    }
   ],
   "source": [
    "#quiero el nombre del album en Spotify\n",
    "data['albums']['items'][0]['name']"
   ]
  },
  {
   "cell_type": "code",
   "execution_count": 51,
   "id": "4924720d",
   "metadata": {},
   "outputs": [
    {
     "data": {
      "text/plain": [
       "'The Beach Boys'"
      ]
     },
     "execution_count": 51,
     "metadata": {},
     "output_type": "execute_result"
    }
   ],
   "source": [
    "#quiero el nombre del artista del album \n",
    "data['albums']['items'][0]['artists'][0]['name']"
   ]
  },
  {
   "cell_type": "code",
   "execution_count": 52,
   "id": "8658f5e8",
   "metadata": {},
   "outputs": [
    {
     "data": {
      "text/plain": [
       "'3oDbviiivRWhXwIE8hxkVV'"
      ]
     },
     "execution_count": 52,
     "metadata": {},
     "output_type": "execute_result"
    }
   ],
   "source": [
    "#quiero el id del artista del album \n",
    "data['albums']['items'][0]['artists'][0]['id']"
   ]
  },
  {
   "cell_type": "code",
   "execution_count": 53,
   "id": "664564f5",
   "metadata": {},
   "outputs": [
    {
     "data": {
      "text/plain": [
       "'1966-06-16'"
      ]
     },
     "execution_count": 53,
     "metadata": {},
     "output_type": "execute_result"
    }
   ],
   "source": [
    "#quiero el release_date del album \n",
    "data['albums']['items'][0]['release_date']"
   ]
  },
  {
   "cell_type": "code",
   "execution_count": 54,
   "id": "5834bcde",
   "metadata": {},
   "outputs": [
    {
     "data": {
      "text/plain": [
       "27"
      ]
     },
     "execution_count": 54,
     "metadata": {},
     "output_type": "execute_result"
    }
   ],
   "source": [
    "#quiero el total de tracks del album \n",
    "data['albums']['items'][0]['total_tracks']"
   ]
  },
  {
   "cell_type": "code",
   "execution_count": 55,
   "id": "831abc60",
   "metadata": {},
   "outputs": [],
   "source": [
    "# Replace spaces with the '+' character in the album names\n",
    "insertquery = [x.replace(' ', '+') for x in albums]\n",
    "\n",
    "# Construct a list of URLs for querying album information\n",
    "album_urls = [f'https://api.spotify.com/v1/search?q=album%3A{album}&type=album&limit=50&offset=0' for album in insertquery]\n",
    "\n",
    "# Create a list of dictionaries with album information and corresponding URLs\n",
    "album_url_list = [{'album': album, 'url': url} for album, url in zip(albums, album_urls)]"
   ]
  },
  {
   "cell_type": "code",
   "execution_count": 56,
   "id": "199293da",
   "metadata": {},
   "outputs": [
    {
     "data": {
      "text/plain": [
       "{'album': 'Pet Sounds',\n",
       " 'url': 'https://api.spotify.com/v1/search?q=album%3APet+Sounds&type=album&limit=50&offset=0'}"
      ]
     },
     "execution_count": 56,
     "metadata": {},
     "output_type": "execute_result"
    }
   ],
   "source": [
    "album_url_list[1]"
   ]
  },
  {
   "cell_type": "code",
   "execution_count": 57,
   "id": "ddee8d2e",
   "metadata": {},
   "outputs": [
    {
     "name": "stdout",
     "output_type": "stream",
     "text": [
      "An error occurred: Album not found\n",
      "An error occurred: Album not found\n",
      "An error occurred: Album not found\n",
      "An error occurred: Album not found\n",
      "An error occurred: Album not found\n",
      "An error occurred: Album not found\n",
      "An error occurred: Album not found\n",
      "An error occurred: Album not found\n",
      "An error occurred: Album not found\n",
      "An error occurred: Album not found\n",
      "An error occurred: Album not found\n",
      "An error occurred: Album not found\n",
      "An error occurred: Album not found\n",
      "An error occurred: Album not found\n",
      "An error occurred: Album not found\n",
      "An error occurred: Album not found\n",
      "An error occurred: Album not found\n",
      "An error occurred: Album not found\n",
      "An error occurred: Album not found\n",
      "An error occurred: Album not found\n",
      "An error occurred: Album not found\n",
      "An error occurred: Album not found\n",
      "An error occurred: Album not found\n",
      "An error occurred: Album not found\n",
      "An error occurred: Album not found\n",
      "An error occurred: Album not found\n",
      "An error occurred: Album not found\n",
      "An error occurred: Album not found\n",
      "An error occurred: Album not found\n",
      "An error occurred: Album not found\n",
      "An error occurred: Album not found\n",
      "An error occurred: Album not found\n",
      "An error occurred: Album not found\n",
      "An error occurred: Album not found\n",
      "An error occurred: Album not found\n",
      "An error occurred: Album not found\n",
      "An error occurred: Album not found\n",
      "An error occurred: Album not found\n",
      "An error occurred: Album not found\n",
      "An error occurred: Album not found\n",
      "An error occurred: Album not found\n",
      "An error occurred: Album not found\n",
      "An error occurred: Album not found\n",
      "An error occurred: Album not found\n",
      "An error occurred: Album not found\n",
      "An error occurred: Album not found\n",
      "An error occurred: Album not found\n",
      "An error occurred: Album not found\n",
      "An error occurred: Album not found\n",
      "An error occurred: Album not found\n",
      "An error occurred: Album not found\n",
      "An error occurred: Album not found\n",
      "An error occurred: Album not found\n",
      "An error occurred: Album not found\n",
      "An error occurred: Album not found\n",
      "An error occurred: Album not found\n",
      "An error occurred: Album not found\n",
      "An error occurred: Album not found\n",
      "An error occurred: Album not found\n",
      "An error occurred: Album not found\n",
      "An error occurred: Album not found\n",
      "An error occurred: Album not found\n",
      "An error occurred: Album not found\n",
      "An error occurred: Album not found\n",
      "An error occurred: Album not found\n",
      "An error occurred: Album not found\n",
      "An error occurred: Album not found\n",
      "An error occurred: Album not found\n",
      "An error occurred: Album not found\n",
      "An error occurred: Album not found\n",
      "An error occurred: Album not found\n",
      "An error occurred: Album not found\n",
      "An error occurred: Album not found\n",
      "An error occurred: Album not found\n",
      "An error occurred: Album not found\n",
      "An error occurred: Album not found\n",
      "An error occurred: Album not found\n",
      "An error occurred: Album not found\n",
      "An error occurred: Album not found\n",
      "An error occurred: Album not found\n",
      "An error occurred: Album not found\n",
      "An error occurred: Album not found\n",
      "An error occurred: Album not found\n",
      "An error occurred: Album not found\n",
      "An error occurred: Album not found\n",
      "An error occurred: Album not found\n",
      "An error occurred: 400 Client Error: Bad Request for url: https://api.spotify.com/v1/search?q=album%3A#1+Record&type=album&limit=50&offset=0\n",
      "An error occurred: Album not found\n",
      "An error occurred: Album not found\n",
      "An error occurred: Album not found\n",
      "An error occurred: Album not found\n",
      "An error occurred: Album not found\n",
      "An error occurred: Album not found\n",
      "An error occurred: Album not found\n",
      "An error occurred: Album not found\n",
      "An error occurred: Album not found\n",
      "An error occurred: Album not found\n",
      "An error occurred: Album not found\n",
      "An error occurred: Album not found\n",
      "An error occurred: Album not found\n",
      "An error occurred: Album not found\n",
      "An error occurred: Album not found\n",
      "An error occurred: Album not found\n",
      "An error occurred: Album not found\n"
     ]
    }
   ],
   "source": [
    "# List to store the retrieved album data\n",
    "album_data_list = []\n",
    "\n",
    "# Function to search and retrieve album information\n",
    "def search_spotify_info(album_url):\n",
    "    time.sleep(0.30)  # Pause between queries to avoid getting banned\n",
    "\n",
    "    try:\n",
    "        response = rq.get(album_url['url'], headers=headers)\n",
    "        response.raise_for_status()  # Check for request errors\n",
    "        data = response.json()\n",
    "        rjson = data.get('albums', {}).get('items', [])\n",
    "\n",
    "        for index, item in enumerate(rjson):\n",
    "            if item['name'].lower() == album_url['album'].lower():\n",
    "                album_data_list.append({\n",
    "                    'albumnamers': album_url['album'],\n",
    "                    'albumidspotify': item['id'],  # Spotify ID for the album\n",
    "                    'albumnamespotify': item['name'],\n",
    "                    'artistnamespotify': item['artists'][0]['name'],\n",
    "                    'artistidspotify': item['artists'][0]['id'],\n",
    "                    'releasedate': item['release_date'],\n",
    "                    'totaltracks': item['total_tracks']\n",
    "                })\n",
    "                \n",
    "                return rjson[index]\n",
    "\n",
    "        # If the album is not found, raise an exception to return None\n",
    "        raise Exception(\"Album not found\")\n",
    "    \n",
    "    except Exception as e:\n",
    "        print(f\"An error occurred: {e}\")\n",
    "        album_data_list.append({\n",
    "                    'albumnamers': None, \n",
    "                    'albumidspotify': None, \n",
    "                    'albumnamespotify': None, \n",
    "                    'artistnamespotify': None,\n",
    "                    'artistidspotify': None,\n",
    "                    'releasedate': None,\n",
    "                    'totaltracks': None \n",
    "        })\n",
    "        return {\n",
    "            'album_type': None,\n",
    "            'artists': None,\n",
    "            'available_markets': None,\n",
    "            'external_urls': None,\n",
    "            'href': None,\n",
    "            'id': None,\n",
    "            'images': None,\n",
    "            'name': None,\n",
    "            'release_date': None,\n",
    "            'release_date_precision': None,\n",
    "            'total_tracks': None,\n",
    "            'type': None,\n",
    "            'uri': None\n",
    "        }\n",
    "    \n",
    "# Execute the function for each album URL\n",
    "for album_url in album_url_list:\n",
    "    search_spotify_info(album_url)\n",
    "\n",
    "# Create a DataFrame from the list of dictionaries\n",
    "dataalbums = pd.DataFrame(album_data_list)"
   ]
  },
  {
   "cell_type": "code",
   "execution_count": 72,
   "id": "2ccd053e",
   "metadata": {},
   "outputs": [],
   "source": [
    "dataalbums.dropna(inplace=True)"
   ]
  },
  {
   "cell_type": "code",
   "execution_count": 73,
   "id": "1c6ef47a",
   "metadata": {},
   "outputs": [
    {
     "data": {
      "text/plain": [
       "(443, 7)"
      ]
     },
     "execution_count": 73,
     "metadata": {},
     "output_type": "execute_result"
    }
   ],
   "source": [
    "dataalbums.shape"
   ]
  },
  {
   "cell_type": "code",
   "execution_count": 74,
   "id": "9c31ad1c",
   "metadata": {},
   "outputs": [
    {
     "data": {
      "text/html": [
       "<div>\n",
       "<style scoped>\n",
       "    .dataframe tbody tr th:only-of-type {\n",
       "        vertical-align: middle;\n",
       "    }\n",
       "\n",
       "    .dataframe tbody tr th {\n",
       "        vertical-align: top;\n",
       "    }\n",
       "\n",
       "    .dataframe thead th {\n",
       "        text-align: right;\n",
       "    }\n",
       "</style>\n",
       "<table border=\"1\" class=\"dataframe\">\n",
       "  <thead>\n",
       "    <tr style=\"text-align: right;\">\n",
       "      <th></th>\n",
       "      <th>albumnamers</th>\n",
       "      <th>albumidspotify</th>\n",
       "      <th>albumnamespotify</th>\n",
       "      <th>artistnamespotify</th>\n",
       "      <th>artistidspotify</th>\n",
       "      <th>releasedate</th>\n",
       "      <th>totaltracks</th>\n",
       "    </tr>\n",
       "  </thead>\n",
       "  <tbody>\n",
       "    <tr>\n",
       "      <th>0</th>\n",
       "      <td>Sgt. Pepper's Lonely Hearts Club Band</td>\n",
       "      <td>1x1jpjDbetGqX0IKCUIBNj</td>\n",
       "      <td>Sgt. Pepper's Lonely Hearts Club Band</td>\n",
       "      <td>Bloco do Sargento Pimenta</td>\n",
       "      <td>3wGWCP3E3tYqj5memYV9Vq</td>\n",
       "      <td>2017-12-08</td>\n",
       "      <td>13.0</td>\n",
       "    </tr>\n",
       "    <tr>\n",
       "      <th>1</th>\n",
       "      <td>Pet Sounds</td>\n",
       "      <td>2CNEkSE8TADXRT2AzcEt1b</td>\n",
       "      <td>Pet Sounds</td>\n",
       "      <td>The Beach Boys</td>\n",
       "      <td>3oDbviiivRWhXwIE8hxkVV</td>\n",
       "      <td>1966-05-16</td>\n",
       "      <td>13.0</td>\n",
       "    </tr>\n",
       "    <tr>\n",
       "      <th>2</th>\n",
       "      <td>Revolver</td>\n",
       "      <td>0T1sskJDoybYGvPU5aw5Cf</td>\n",
       "      <td>REVOLVER</td>\n",
       "      <td>Lil Darkie</td>\n",
       "      <td>62F9BiUmjqeXbBztCwiX1U</td>\n",
       "      <td>2020-06-15</td>\n",
       "      <td>1.0</td>\n",
       "    </tr>\n",
       "    <tr>\n",
       "      <th>3</th>\n",
       "      <td>Highway 61 Revisited</td>\n",
       "      <td>6YabPKtZAjxwyWbuO9p4ZD</td>\n",
       "      <td>Highway 61 Revisited</td>\n",
       "      <td>Bob Dylan</td>\n",
       "      <td>74ASZWbe4lXaubB36ztrGX</td>\n",
       "      <td>1965-08-30</td>\n",
       "      <td>9.0</td>\n",
       "    </tr>\n",
       "    <tr>\n",
       "      <th>4</th>\n",
       "      <td>Rubber Soul</td>\n",
       "      <td>5TIQEIzrI6RQfUVQ5Y571D</td>\n",
       "      <td>Rubber Soul</td>\n",
       "      <td>The Beatles Complete On Ukulele</td>\n",
       "      <td>5o723EMxNulM5ydXRh7Qkk</td>\n",
       "      <td>2020-07-28</td>\n",
       "      <td>16.0</td>\n",
       "    </tr>\n",
       "  </tbody>\n",
       "</table>\n",
       "</div>"
      ],
      "text/plain": [
       "                             albumnamers          albumidspotify  \\\n",
       "0  Sgt. Pepper's Lonely Hearts Club Band  1x1jpjDbetGqX0IKCUIBNj   \n",
       "1                             Pet Sounds  2CNEkSE8TADXRT2AzcEt1b   \n",
       "2                               Revolver  0T1sskJDoybYGvPU5aw5Cf   \n",
       "3                   Highway 61 Revisited  6YabPKtZAjxwyWbuO9p4ZD   \n",
       "4                            Rubber Soul  5TIQEIzrI6RQfUVQ5Y571D   \n",
       "\n",
       "                        albumnamespotify                artistnamespotify  \\\n",
       "0  Sgt. Pepper's Lonely Hearts Club Band        Bloco do Sargento Pimenta   \n",
       "1                             Pet Sounds                   The Beach Boys   \n",
       "2                               REVOLVER                       Lil Darkie   \n",
       "3                   Highway 61 Revisited                        Bob Dylan   \n",
       "4                            Rubber Soul  The Beatles Complete On Ukulele   \n",
       "\n",
       "          artistidspotify releasedate  totaltracks  \n",
       "0  3wGWCP3E3tYqj5memYV9Vq  2017-12-08         13.0  \n",
       "1  3oDbviiivRWhXwIE8hxkVV  1966-05-16         13.0  \n",
       "2  62F9BiUmjqeXbBztCwiX1U  2020-06-15          1.0  \n",
       "3  74ASZWbe4lXaubB36ztrGX  1965-08-30          9.0  \n",
       "4  5o723EMxNulM5ydXRh7Qkk  2020-07-28         16.0  "
      ]
     },
     "execution_count": 74,
     "metadata": {},
     "output_type": "execute_result"
    }
   ],
   "source": [
    "dataalbums.head()"
   ]
  },
  {
   "cell_type": "code",
   "execution_count": 75,
   "id": "21be8555",
   "metadata": {},
   "outputs": [],
   "source": [
    "dataalbums.to_csv('../data/clean/api_albums_clean.csv', index=False)"
   ]
  }
 ],
 "metadata": {
  "kernelspec": {
   "display_name": "clase",
   "language": "python",
   "name": "clase"
  },
  "language_info": {
   "codemirror_mode": {
    "name": "ipython",
    "version": 3
   },
   "file_extension": ".py",
   "mimetype": "text/x-python",
   "name": "python",
   "nbconvert_exporter": "python",
   "pygments_lexer": "ipython3",
   "version": "3.10.13"
  }
 },
 "nbformat": 4,
 "nbformat_minor": 5
}
